{
 "cells": [
  {
   "cell_type": "markdown",
   "metadata": {},
   "source": [
    "## Assignment week 05: Sleeping habits\n",
    "\n",
    "Welcome to **week five** of this course programming 1. You will learn about analysing data with pandas and numpy and you will learn to visualize with bokeh. Concretely, you will preprocess the Sleep Study data in an appropiate format in order to conduct statistical and visual analysis. Learning outcomes:\n",
    "\n",
    "\n",
    "## About the data\n",
    "\n",
    "The data is collected from a survey-based study of the sleeping habits of individuals within the US. \n",
    "\n",
    "Below is a description of each of the variables contained within the dataset.\n",
    "\n",
    "- Enough = Do you think that you get enough sleep?\n",
    "- Hours = On average, how many hours of sleep do you get on a weeknight?\n",
    "- PhoneReach = Do you sleep with your phone within arms reach?\n",
    "- PhoneTime = Do you use your phone within 30 minutes of falling asleep?\n",
    "- Tired = On a scale from 1 to 5, how tired are you throughout the day? (1 being not tired, 5 being very tired)\n",
    "- Breakfast = Do you typically eat breakfast?\n",
    "\n",
    "The two research questions you should answer in this assignment are:\n",
    "1. Is there a differences in Hours sleep caused by having breakfast (yes, no)?\n",
    "2. Is there a differences in Hours sleep caused by having breakfast and the tireness (score)\n",
    "\n",
    "\n",
    "The assignment consists of 6 parts:\n",
    "\n",
    "- [part 1: load the data](#0)\n",
    "- [part 2: data inspection](#1)\n",
    "- [part 3: check assumptions](#2)\n",
    "   - [check normality 3.1](#ex-31)\n",
    "   - [check equal variance 3.2](#ex-32)\n",
    "- [part 4: prepare the data](#3)\n",
    "- [part 5: answer the research question](#4)\n",
    "- [part 6: enhanced plotting](#5)\n",
    "\n",
    "Part 1 till 5 are mandatory, part 6 is optional (bonus)\n",
    "To pass the assingnment you need to a score of 60%. \n",
    "\n",
    "\n",
    "**NOTE If your project data is suitable you can use that data instead of the given data**"
   ]
  },
  {
   "cell_type": "markdown",
   "metadata": {},
   "source": [
    "## ANOVA\n",
    "\n",
    "Analysis of variance (ANOVA) compares the variances between groups versus within groups. It basically determines whether the differences between groups is larger than the differences within a group (the noise). \n",
    "A graph picturing this is as follow: https://link.springer.com/article/10.1007/s00424-019-02300-4/figures/2\n",
    "\n",
    "\n",
    "In ANOVA, the dependent variable must be a continuous (interval or ratio) level of measurement. For instance Glucose level. The independent variables in ANOVA must be categorical (nominal or ordinal) variables. For instance trial category, time of day (AM versus PM) or time of trial (different categories). Like the t-test, ANOVA is also a parametric test and has some assumptions. ANOVA assumes that the data is normally distributed.  The ANOVA also assumes homogeneity of variance, which means that the variance among the groups should be approximately equal. ANOVA also assumes that the observations are independent of each other. \n",
    "\n",
    "A one-way ANOVA has just one independent variable. A two-way ANOVA (are also called factorial ANOVA) refers to an ANOVA using two independent variables. For research question 1 we can use the one-way ANOVA, for research question two we can use two-way ANOVA. But first we need to check the assumptions. \n"
   ]
  },
  {
   "cell_type": "markdown",
   "metadata": {},
   "source": [
    "---"
   ]
  },
  {
   "cell_type": "code",
   "execution_count": 124,
   "metadata": {},
   "outputs": [],
   "source": [
    "# IMPORTS\n",
    "import numpy as np\n",
    "import pandas as pd\n",
    "from pathlib import Path\n",
    "import yaml\n",
    "import hvplot.pandas\n",
    "import holoviews as hv\n",
    "from scipy.stats import shapiro"
   ]
  },
  {
   "cell_type": "code",
   "execution_count": 125,
   "metadata": {},
   "outputs": [
    {
     "data": {
      "text/html": [
       "\n",
       "    <div class=\"bk-root\">\n",
       "        <a href=\"https://bokeh.org\" target=\"_blank\" class=\"bk-logo bk-logo-small bk-logo-notebook\"></a>\n",
       "        <span id=\"14928\">Loading BokehJS ...</span>\n",
       "    </div>"
      ]
     },
     "metadata": {},
     "output_type": "display_data"
    },
    {
     "data": {
      "application/javascript": [
       "\n",
       "(function(root) {\n",
       "  function now() {\n",
       "    return new Date();\n",
       "  }\n",
       "\n",
       "  var force = true;\n",
       "\n",
       "  if (typeof root._bokeh_onload_callbacks === \"undefined\" || force === true) {\n",
       "    root._bokeh_onload_callbacks = [];\n",
       "    root._bokeh_is_loading = undefined;\n",
       "  }\n",
       "\n",
       "  var JS_MIME_TYPE = 'application/javascript';\n",
       "  var HTML_MIME_TYPE = 'text/html';\n",
       "  var EXEC_MIME_TYPE = 'application/vnd.bokehjs_exec.v0+json';\n",
       "  var CLASS_NAME = 'output_bokeh rendered_html';\n",
       "\n",
       "  /**\n",
       "   * Render data to the DOM node\n",
       "   */\n",
       "  function render(props, node) {\n",
       "    var script = document.createElement(\"script\");\n",
       "    node.appendChild(script);\n",
       "  }\n",
       "\n",
       "  /**\n",
       "   * Handle when an output is cleared or removed\n",
       "   */\n",
       "  function handleClearOutput(event, handle) {\n",
       "    var cell = handle.cell;\n",
       "\n",
       "    var id = cell.output_area._bokeh_element_id;\n",
       "    var server_id = cell.output_area._bokeh_server_id;\n",
       "    // Clean up Bokeh references\n",
       "    if (id != null && id in Bokeh.index) {\n",
       "      Bokeh.index[id].model.document.clear();\n",
       "      delete Bokeh.index[id];\n",
       "    }\n",
       "\n",
       "    if (server_id !== undefined) {\n",
       "      // Clean up Bokeh references\n",
       "      var cmd = \"from bokeh.io.state import curstate; print(curstate().uuid_to_server['\" + server_id + \"'].get_sessions()[0].document.roots[0]._id)\";\n",
       "      cell.notebook.kernel.execute(cmd, {\n",
       "        iopub: {\n",
       "          output: function(msg) {\n",
       "            var id = msg.content.text.trim();\n",
       "            if (id in Bokeh.index) {\n",
       "              Bokeh.index[id].model.document.clear();\n",
       "              delete Bokeh.index[id];\n",
       "            }\n",
       "          }\n",
       "        }\n",
       "      });\n",
       "      // Destroy server and session\n",
       "      var cmd = \"import bokeh.io.notebook as ion; ion.destroy_server('\" + server_id + \"')\";\n",
       "      cell.notebook.kernel.execute(cmd);\n",
       "    }\n",
       "  }\n",
       "\n",
       "  /**\n",
       "   * Handle when a new output is added\n",
       "   */\n",
       "  function handleAddOutput(event, handle) {\n",
       "    var output_area = handle.output_area;\n",
       "    var output = handle.output;\n",
       "\n",
       "    // limit handleAddOutput to display_data with EXEC_MIME_TYPE content only\n",
       "    if ((output.output_type != \"display_data\") || (!Object.prototype.hasOwnProperty.call(output.data, EXEC_MIME_TYPE))) {\n",
       "      return\n",
       "    }\n",
       "\n",
       "    var toinsert = output_area.element.find(\".\" + CLASS_NAME.split(' ')[0]);\n",
       "\n",
       "    if (output.metadata[EXEC_MIME_TYPE][\"id\"] !== undefined) {\n",
       "      toinsert[toinsert.length - 1].firstChild.textContent = output.data[JS_MIME_TYPE];\n",
       "      // store reference to embed id on output_area\n",
       "      output_area._bokeh_element_id = output.metadata[EXEC_MIME_TYPE][\"id\"];\n",
       "    }\n",
       "    if (output.metadata[EXEC_MIME_TYPE][\"server_id\"] !== undefined) {\n",
       "      var bk_div = document.createElement(\"div\");\n",
       "      bk_div.innerHTML = output.data[HTML_MIME_TYPE];\n",
       "      var script_attrs = bk_div.children[0].attributes;\n",
       "      for (var i = 0; i < script_attrs.length; i++) {\n",
       "        toinsert[toinsert.length - 1].firstChild.setAttribute(script_attrs[i].name, script_attrs[i].value);\n",
       "        toinsert[toinsert.length - 1].firstChild.textContent = bk_div.children[0].textContent\n",
       "      }\n",
       "      // store reference to server id on output_area\n",
       "      output_area._bokeh_server_id = output.metadata[EXEC_MIME_TYPE][\"server_id\"];\n",
       "    }\n",
       "  }\n",
       "\n",
       "  function register_renderer(events, OutputArea) {\n",
       "\n",
       "    function append_mime(data, metadata, element) {\n",
       "      // create a DOM node to render to\n",
       "      var toinsert = this.create_output_subarea(\n",
       "        metadata,\n",
       "        CLASS_NAME,\n",
       "        EXEC_MIME_TYPE\n",
       "      );\n",
       "      this.keyboard_manager.register_events(toinsert);\n",
       "      // Render to node\n",
       "      var props = {data: data, metadata: metadata[EXEC_MIME_TYPE]};\n",
       "      render(props, toinsert[toinsert.length - 1]);\n",
       "      element.append(toinsert);\n",
       "      return toinsert\n",
       "    }\n",
       "\n",
       "    /* Handle when an output is cleared or removed */\n",
       "    events.on('clear_output.CodeCell', handleClearOutput);\n",
       "    events.on('delete.Cell', handleClearOutput);\n",
       "\n",
       "    /* Handle when a new output is added */\n",
       "    events.on('output_added.OutputArea', handleAddOutput);\n",
       "\n",
       "    /**\n",
       "     * Register the mime type and append_mime function with output_area\n",
       "     */\n",
       "    OutputArea.prototype.register_mime_type(EXEC_MIME_TYPE, append_mime, {\n",
       "      /* Is output safe? */\n",
       "      safe: true,\n",
       "      /* Index of renderer in `output_area.display_order` */\n",
       "      index: 0\n",
       "    });\n",
       "  }\n",
       "\n",
       "  // register the mime type if in Jupyter Notebook environment and previously unregistered\n",
       "  if (root.Jupyter !== undefined) {\n",
       "    var events = require('base/js/events');\n",
       "    var OutputArea = require('notebook/js/outputarea').OutputArea;\n",
       "\n",
       "    if (OutputArea.prototype.mime_types().indexOf(EXEC_MIME_TYPE) == -1) {\n",
       "      register_renderer(events, OutputArea);\n",
       "    }\n",
       "  }\n",
       "\n",
       "  \n",
       "  if (typeof (root._bokeh_timeout) === \"undefined\" || force === true) {\n",
       "    root._bokeh_timeout = Date.now() + 5000;\n",
       "    root._bokeh_failed_load = false;\n",
       "  }\n",
       "\n",
       "  var NB_LOAD_WARNING = {'data': {'text/html':\n",
       "     \"<div style='background-color: #fdd'>\\n\"+\n",
       "     \"<p>\\n\"+\n",
       "     \"BokehJS does not appear to have successfully loaded. If loading BokehJS from CDN, this \\n\"+\n",
       "     \"may be due to a slow or bad network connection. Possible fixes:\\n\"+\n",
       "     \"</p>\\n\"+\n",
       "     \"<ul>\\n\"+\n",
       "     \"<li>re-rerun `output_notebook()` to attempt to load from CDN again, or</li>\\n\"+\n",
       "     \"<li>use INLINE resources instead, as so:</li>\\n\"+\n",
       "     \"</ul>\\n\"+\n",
       "     \"<code>\\n\"+\n",
       "     \"from bokeh.resources import INLINE\\n\"+\n",
       "     \"output_notebook(resources=INLINE)\\n\"+\n",
       "     \"</code>\\n\"+\n",
       "     \"</div>\"}};\n",
       "\n",
       "  function display_loaded() {\n",
       "    var el = document.getElementById(\"14928\");\n",
       "    if (el != null) {\n",
       "      el.textContent = \"BokehJS is loading...\";\n",
       "    }\n",
       "    if (root.Bokeh !== undefined) {\n",
       "      if (el != null) {\n",
       "        el.textContent = \"BokehJS \" + root.Bokeh.version + \" successfully loaded.\";\n",
       "      }\n",
       "    } else if (Date.now() < root._bokeh_timeout) {\n",
       "      setTimeout(display_loaded, 100)\n",
       "    }\n",
       "  }\n",
       "\n",
       "\n",
       "  function run_callbacks() {\n",
       "    try {\n",
       "      root._bokeh_onload_callbacks.forEach(function(callback) {\n",
       "        if (callback != null)\n",
       "          callback();\n",
       "      });\n",
       "    } finally {\n",
       "      delete root._bokeh_onload_callbacks\n",
       "    }\n",
       "    console.debug(\"Bokeh: all callbacks have finished\");\n",
       "  }\n",
       "\n",
       "  function load_libs(css_urls, js_urls, callback) {\n",
       "    if (css_urls == null) css_urls = [];\n",
       "    if (js_urls == null) js_urls = [];\n",
       "\n",
       "    root._bokeh_onload_callbacks.push(callback);\n",
       "    if (root._bokeh_is_loading > 0) {\n",
       "      console.debug(\"Bokeh: BokehJS is being loaded, scheduling callback at\", now());\n",
       "      return null;\n",
       "    }\n",
       "    if (js_urls == null || js_urls.length === 0) {\n",
       "      run_callbacks();\n",
       "      return null;\n",
       "    }\n",
       "    console.debug(\"Bokeh: BokehJS not loaded, scheduling load and callback at\", now());\n",
       "    root._bokeh_is_loading = css_urls.length + js_urls.length;\n",
       "\n",
       "    function on_load() {\n",
       "      root._bokeh_is_loading--;\n",
       "      if (root._bokeh_is_loading === 0) {\n",
       "        console.debug(\"Bokeh: all BokehJS libraries/stylesheets loaded\");\n",
       "        run_callbacks()\n",
       "      }\n",
       "    }\n",
       "\n",
       "    function on_error(url) {\n",
       "      console.error(\"failed to load \" + url);\n",
       "    }\n",
       "\n",
       "    for (let i = 0; i < css_urls.length; i++) {\n",
       "      const url = css_urls[i];\n",
       "      const element = document.createElement(\"link\");\n",
       "      element.onload = on_load;\n",
       "      element.onerror = on_error.bind(null, url);\n",
       "      element.rel = \"stylesheet\";\n",
       "      element.type = \"text/css\";\n",
       "      element.href = url;\n",
       "      console.debug(\"Bokeh: injecting link tag for BokehJS stylesheet: \", url);\n",
       "      document.body.appendChild(element);\n",
       "    }\n",
       "\n",
       "    const hashes = {\"https://cdn.bokeh.org/bokeh/release/bokeh-2.3.3.min.js\": \"dM3QQsP+wXdHg42wTqW85BjZQdLNNIXqlPw/BgKoExPmTG7ZLML4EGqLMfqHT6ON\", \"https://cdn.bokeh.org/bokeh/release/bokeh-tables-2.3.3.min.js\": \"8x57I4YuIfu8XyZfFo0XVr2WAT8EK4rh/uDe3wF7YuW2FNUSNEpJbsPaB1nJ2fz2\", \"https://cdn.bokeh.org/bokeh/release/bokeh-widgets-2.3.3.min.js\": \"3QTqdz9LyAm2i0sG5XTePsHec3UHWwVsrOL68SYRoAXsafvfAyqtQ+h440+qIBhS\"};\n",
       "\n",
       "    for (let i = 0; i < js_urls.length; i++) {\n",
       "      const url = js_urls[i];\n",
       "      const element = document.createElement('script');\n",
       "      element.onload = on_load;\n",
       "      element.onerror = on_error.bind(null, url);\n",
       "      element.async = false;\n",
       "      element.src = url;\n",
       "      if (url in hashes) {\n",
       "        element.crossOrigin = \"anonymous\";\n",
       "        element.integrity = \"sha384-\" + hashes[url];\n",
       "      }\n",
       "      console.debug(\"Bokeh: injecting script tag for BokehJS library: \", url);\n",
       "      document.head.appendChild(element);\n",
       "    }\n",
       "  };\n",
       "\n",
       "  function inject_raw_css(css) {\n",
       "    const element = document.createElement(\"style\");\n",
       "    element.appendChild(document.createTextNode(css));\n",
       "    document.body.appendChild(element);\n",
       "  }\n",
       "\n",
       "  \n",
       "  var js_urls = [\"https://cdn.bokeh.org/bokeh/release/bokeh-2.3.3.min.js\", \"https://cdn.bokeh.org/bokeh/release/bokeh-widgets-2.3.3.min.js\", \"https://cdn.bokeh.org/bokeh/release/bokeh-tables-2.3.3.min.js\", \"https://unpkg.com/@holoviz/panel@0.12.1/dist/panel.min.js\"];\n",
       "  var css_urls = [];\n",
       "  \n",
       "\n",
       "  var inline_js = [\n",
       "    function(Bokeh) {\n",
       "      Bokeh.set_log_level(\"info\");\n",
       "    },\n",
       "    function(Bokeh) {\n",
       "    \n",
       "    \n",
       "    }\n",
       "  ];\n",
       "\n",
       "  function run_inline_js() {\n",
       "    \n",
       "    if (root.Bokeh !== undefined || force === true) {\n",
       "      \n",
       "    for (var i = 0; i < inline_js.length; i++) {\n",
       "      inline_js[i].call(root, root.Bokeh);\n",
       "    }\n",
       "    if (force === true) {\n",
       "        display_loaded();\n",
       "      }} else if (Date.now() < root._bokeh_timeout) {\n",
       "      setTimeout(run_inline_js, 100);\n",
       "    } else if (!root._bokeh_failed_load) {\n",
       "      console.log(\"Bokeh: BokehJS failed to load within specified timeout.\");\n",
       "      root._bokeh_failed_load = true;\n",
       "    } else if (force !== true) {\n",
       "      var cell = $(document.getElementById(\"14928\")).parents('.cell').data().cell;\n",
       "      cell.output_area.append_execute_result(NB_LOAD_WARNING)\n",
       "    }\n",
       "\n",
       "  }\n",
       "\n",
       "  if (root._bokeh_is_loading === 0) {\n",
       "    console.debug(\"Bokeh: BokehJS loaded, going straight to plotting\");\n",
       "    run_inline_js();\n",
       "  } else {\n",
       "    load_libs(css_urls, js_urls, function() {\n",
       "      console.debug(\"Bokeh: BokehJS plotting callback run at\", now());\n",
       "      run_inline_js();\n",
       "    });\n",
       "  }\n",
       "}(window));"
      ],
      "application/vnd.bokehjs_load.v0+json": "\n(function(root) {\n  function now() {\n    return new Date();\n  }\n\n  var force = true;\n\n  if (typeof root._bokeh_onload_callbacks === \"undefined\" || force === true) {\n    root._bokeh_onload_callbacks = [];\n    root._bokeh_is_loading = undefined;\n  }\n\n  \n\n  \n  if (typeof (root._bokeh_timeout) === \"undefined\" || force === true) {\n    root._bokeh_timeout = Date.now() + 5000;\n    root._bokeh_failed_load = false;\n  }\n\n  var NB_LOAD_WARNING = {'data': {'text/html':\n     \"<div style='background-color: #fdd'>\\n\"+\n     \"<p>\\n\"+\n     \"BokehJS does not appear to have successfully loaded. If loading BokehJS from CDN, this \\n\"+\n     \"may be due to a slow or bad network connection. Possible fixes:\\n\"+\n     \"</p>\\n\"+\n     \"<ul>\\n\"+\n     \"<li>re-rerun `output_notebook()` to attempt to load from CDN again, or</li>\\n\"+\n     \"<li>use INLINE resources instead, as so:</li>\\n\"+\n     \"</ul>\\n\"+\n     \"<code>\\n\"+\n     \"from bokeh.resources import INLINE\\n\"+\n     \"output_notebook(resources=INLINE)\\n\"+\n     \"</code>\\n\"+\n     \"</div>\"}};\n\n  function display_loaded() {\n    var el = document.getElementById(\"14928\");\n    if (el != null) {\n      el.textContent = \"BokehJS is loading...\";\n    }\n    if (root.Bokeh !== undefined) {\n      if (el != null) {\n        el.textContent = \"BokehJS \" + root.Bokeh.version + \" successfully loaded.\";\n      }\n    } else if (Date.now() < root._bokeh_timeout) {\n      setTimeout(display_loaded, 100)\n    }\n  }\n\n\n  function run_callbacks() {\n    try {\n      root._bokeh_onload_callbacks.forEach(function(callback) {\n        if (callback != null)\n          callback();\n      });\n    } finally {\n      delete root._bokeh_onload_callbacks\n    }\n    console.debug(\"Bokeh: all callbacks have finished\");\n  }\n\n  function load_libs(css_urls, js_urls, callback) {\n    if (css_urls == null) css_urls = [];\n    if (js_urls == null) js_urls = [];\n\n    root._bokeh_onload_callbacks.push(callback);\n    if (root._bokeh_is_loading > 0) {\n      console.debug(\"Bokeh: BokehJS is being loaded, scheduling callback at\", now());\n      return null;\n    }\n    if (js_urls == null || js_urls.length === 0) {\n      run_callbacks();\n      return null;\n    }\n    console.debug(\"Bokeh: BokehJS not loaded, scheduling load and callback at\", now());\n    root._bokeh_is_loading = css_urls.length + js_urls.length;\n\n    function on_load() {\n      root._bokeh_is_loading--;\n      if (root._bokeh_is_loading === 0) {\n        console.debug(\"Bokeh: all BokehJS libraries/stylesheets loaded\");\n        run_callbacks()\n      }\n    }\n\n    function on_error(url) {\n      console.error(\"failed to load \" + url);\n    }\n\n    for (let i = 0; i < css_urls.length; i++) {\n      const url = css_urls[i];\n      const element = document.createElement(\"link\");\n      element.onload = on_load;\n      element.onerror = on_error.bind(null, url);\n      element.rel = \"stylesheet\";\n      element.type = \"text/css\";\n      element.href = url;\n      console.debug(\"Bokeh: injecting link tag for BokehJS stylesheet: \", url);\n      document.body.appendChild(element);\n    }\n\n    const hashes = {\"https://cdn.bokeh.org/bokeh/release/bokeh-2.3.3.min.js\": \"dM3QQsP+wXdHg42wTqW85BjZQdLNNIXqlPw/BgKoExPmTG7ZLML4EGqLMfqHT6ON\", \"https://cdn.bokeh.org/bokeh/release/bokeh-tables-2.3.3.min.js\": \"8x57I4YuIfu8XyZfFo0XVr2WAT8EK4rh/uDe3wF7YuW2FNUSNEpJbsPaB1nJ2fz2\", \"https://cdn.bokeh.org/bokeh/release/bokeh-widgets-2.3.3.min.js\": \"3QTqdz9LyAm2i0sG5XTePsHec3UHWwVsrOL68SYRoAXsafvfAyqtQ+h440+qIBhS\"};\n\n    for (let i = 0; i < js_urls.length; i++) {\n      const url = js_urls[i];\n      const element = document.createElement('script');\n      element.onload = on_load;\n      element.onerror = on_error.bind(null, url);\n      element.async = false;\n      element.src = url;\n      if (url in hashes) {\n        element.crossOrigin = \"anonymous\";\n        element.integrity = \"sha384-\" + hashes[url];\n      }\n      console.debug(\"Bokeh: injecting script tag for BokehJS library: \", url);\n      document.head.appendChild(element);\n    }\n  };\n\n  function inject_raw_css(css) {\n    const element = document.createElement(\"style\");\n    element.appendChild(document.createTextNode(css));\n    document.body.appendChild(element);\n  }\n\n  \n  var js_urls = [\"https://cdn.bokeh.org/bokeh/release/bokeh-2.3.3.min.js\", \"https://cdn.bokeh.org/bokeh/release/bokeh-widgets-2.3.3.min.js\", \"https://cdn.bokeh.org/bokeh/release/bokeh-tables-2.3.3.min.js\", \"https://unpkg.com/@holoviz/panel@0.12.1/dist/panel.min.js\"];\n  var css_urls = [];\n  \n\n  var inline_js = [\n    function(Bokeh) {\n      Bokeh.set_log_level(\"info\");\n    },\n    function(Bokeh) {\n    \n    \n    }\n  ];\n\n  function run_inline_js() {\n    \n    if (root.Bokeh !== undefined || force === true) {\n      \n    for (var i = 0; i < inline_js.length; i++) {\n      inline_js[i].call(root, root.Bokeh);\n    }\n    if (force === true) {\n        display_loaded();\n      }} else if (Date.now() < root._bokeh_timeout) {\n      setTimeout(run_inline_js, 100);\n    } else if (!root._bokeh_failed_load) {\n      console.log(\"Bokeh: BokehJS failed to load within specified timeout.\");\n      root._bokeh_failed_load = true;\n    } else if (force !== true) {\n      var cell = $(document.getElementById(\"14928\")).parents('.cell').data().cell;\n      cell.output_area.append_execute_result(NB_LOAD_WARNING)\n    }\n\n  }\n\n  if (root._bokeh_is_loading === 0) {\n    console.debug(\"Bokeh: BokehJS loaded, going straight to plotting\");\n    run_inline_js();\n  } else {\n    load_libs(css_urls, js_urls, function() {\n      console.debug(\"Bokeh: BokehJS plotting callback run at\", now());\n      run_inline_js();\n    });\n  }\n}(window));"
     },
     "metadata": {},
     "output_type": "display_data"
    }
   ],
   "source": [
    "# IMPORTS\n",
    "from bokeh.io import output_notebook, output_file\n",
    "from bokeh.plotting import figure, show\n",
    "from bokeh.layouts import gridplot, column\n",
    "from bokeh.plotting import ColumnDataSource\n",
    "from bokeh.models import DatetimeTickFormatter\n",
    "from bokeh.models import CustomJS, Dropdown\n",
    "from bokeh.models import Span\n",
    "from bokeh.transform import jitter\n",
    "import panel as pn\n",
    "import regex as re\n",
    "\n",
    "output_notebook()\n",
    "pn.extension()"
   ]
  },
  {
   "cell_type": "code",
   "execution_count": 126,
   "metadata": {},
   "outputs": [
    {
     "name": "stdout",
     "output_type": "stream",
     "text": [
      "<class 'dict'>\n"
     ]
    }
   ],
   "source": [
    "def get_config():\n",
    "    \"\"\"\n",
    "    Read in config file and return it as a dictionary.\n",
    "    \n",
    "    :returns\n",
    "    --------\n",
    "    config - dict\n",
    "        Configuration file in dictionary form.\n",
    "    \"\"\"\n",
    "    with open(\"config.yaml\", 'r') as stream:\n",
    "        config = yaml.safe_load(stream)\n",
    "    return config\n",
    "\n",
    "config = get_config()\n",
    "print(type(config))\n",
    "data_dir = config['datadir']"
   ]
  },
  {
   "cell_type": "markdown",
   "metadata": {},
   "source": [
    "<a name='0'></a>\n",
    "## Part 1: Load the data (10 pt)\n",
    "\n",
    "load the `sleep.csv` data. Get yourself familiar with the data. Answer the following questions.\n",
    "\n",
    "1. What is the percentage missing data?\n",
    "2. Considering the research question, what is the dependent variable and what are the indepent variables? Are they of the correct datatype? "
   ]
  },
  {
   "cell_type": "code",
   "execution_count": 127,
   "metadata": {},
   "outputs": [
    {
     "data": {
      "text/html": [
       "<div>\n",
       "<style scoped>\n",
       "    .dataframe tbody tr th:only-of-type {\n",
       "        vertical-align: middle;\n",
       "    }\n",
       "\n",
       "    .dataframe tbody tr th {\n",
       "        vertical-align: top;\n",
       "    }\n",
       "\n",
       "    .dataframe thead th {\n",
       "        text-align: right;\n",
       "    }\n",
       "</style>\n",
       "<table border=\"1\" class=\"dataframe\">\n",
       "  <thead>\n",
       "    <tr style=\"text-align: right;\">\n",
       "      <th></th>\n",
       "      <th>Enough</th>\n",
       "      <th>Hours</th>\n",
       "      <th>PhoneReach</th>\n",
       "      <th>PhoneTime</th>\n",
       "      <th>Tired</th>\n",
       "      <th>Breakfast</th>\n",
       "    </tr>\n",
       "  </thead>\n",
       "  <tbody>\n",
       "    <tr>\n",
       "      <th>0</th>\n",
       "      <td>Yes</td>\n",
       "      <td>8</td>\n",
       "      <td>Yes</td>\n",
       "      <td>Yes</td>\n",
       "      <td>3</td>\n",
       "      <td>Yes</td>\n",
       "    </tr>\n",
       "    <tr>\n",
       "      <th>1</th>\n",
       "      <td>Yes</td>\n",
       "      <td>6</td>\n",
       "      <td>Yes</td>\n",
       "      <td>Yes</td>\n",
       "      <td>2</td>\n",
       "      <td>Yes</td>\n",
       "    </tr>\n",
       "    <tr>\n",
       "      <th>2</th>\n",
       "      <td>No</td>\n",
       "      <td>7</td>\n",
       "      <td>Yes</td>\n",
       "      <td>Yes</td>\n",
       "      <td>4</td>\n",
       "      <td>No</td>\n",
       "    </tr>\n",
       "    <tr>\n",
       "      <th>3</th>\n",
       "      <td>No</td>\n",
       "      <td>7</td>\n",
       "      <td>Yes</td>\n",
       "      <td>Yes</td>\n",
       "      <td>2</td>\n",
       "      <td>Yes</td>\n",
       "    </tr>\n",
       "    <tr>\n",
       "      <th>4</th>\n",
       "      <td>No</td>\n",
       "      <td>7</td>\n",
       "      <td>Yes</td>\n",
       "      <td>Yes</td>\n",
       "      <td>4</td>\n",
       "      <td>No</td>\n",
       "    </tr>\n",
       "    <tr>\n",
       "      <th>...</th>\n",
       "      <td>...</td>\n",
       "      <td>...</td>\n",
       "      <td>...</td>\n",
       "      <td>...</td>\n",
       "      <td>...</td>\n",
       "      <td>...</td>\n",
       "    </tr>\n",
       "    <tr>\n",
       "      <th>97</th>\n",
       "      <td>No</td>\n",
       "      <td>7</td>\n",
       "      <td>Yes</td>\n",
       "      <td>Yes</td>\n",
       "      <td>2</td>\n",
       "      <td>Yes</td>\n",
       "    </tr>\n",
       "    <tr>\n",
       "      <th>98</th>\n",
       "      <td>No</td>\n",
       "      <td>7</td>\n",
       "      <td>No</td>\n",
       "      <td>Yes</td>\n",
       "      <td>3</td>\n",
       "      <td>Yes</td>\n",
       "    </tr>\n",
       "    <tr>\n",
       "      <th>99</th>\n",
       "      <td>Yes</td>\n",
       "      <td>8</td>\n",
       "      <td>Yes</td>\n",
       "      <td>Yes</td>\n",
       "      <td>3</td>\n",
       "      <td>Yes</td>\n",
       "    </tr>\n",
       "    <tr>\n",
       "      <th>100</th>\n",
       "      <td>Yes</td>\n",
       "      <td>7</td>\n",
       "      <td>Yes</td>\n",
       "      <td>Yes</td>\n",
       "      <td>2</td>\n",
       "      <td>Yes</td>\n",
       "    </tr>\n",
       "    <tr>\n",
       "      <th>101</th>\n",
       "      <td>Yes</td>\n",
       "      <td>6</td>\n",
       "      <td>Yes</td>\n",
       "      <td>Yes</td>\n",
       "      <td>3</td>\n",
       "      <td>Yes</td>\n",
       "    </tr>\n",
       "  </tbody>\n",
       "</table>\n",
       "<p>102 rows × 6 columns</p>\n",
       "</div>"
      ],
      "text/plain": [
       "     Enough   Hours   PhoneReach   PhoneTime   Tired  Breakfast\n",
       "0    Yes      8       Yes          Yes              3       Yes\n",
       "1    Yes      6       Yes          Yes              2       Yes\n",
       "2    No       7       Yes          Yes              4        No\n",
       "3    No       7       Yes          Yes              2       Yes\n",
       "4    No       7       Yes          Yes              4        No\n",
       "..       ...     ...          ...         ...     ...       ...\n",
       "97   No       7       Yes          Yes              2       Yes\n",
       "98   No       7       No           Yes              3       Yes\n",
       "99   Yes      8       Yes          Yes              3       Yes\n",
       "100  Yes      7       Yes          Yes              2       Yes\n",
       "101  Yes      6       Yes          Yes              3       Yes\n",
       "\n",
       "[102 rows x 6 columns]"
      ]
     },
     "execution_count": 127,
     "metadata": {},
     "output_type": "execute_result"
    }
   ],
   "source": [
    "file = \"sleep.csv\"\n",
    "sleep_data = pd.read_csv(Path(data_dir + file))\n",
    "sleep_data"
   ]
  },
  {
   "cell_type": "code",
   "execution_count": 128,
   "metadata": {},
   "outputs": [],
   "source": [
    "# Remove white spaces from column names\n",
    "new_cols = sleep_data.columns.str.strip()\n",
    "sleep_data.columns = new_cols"
   ]
  },
  {
   "cell_type": "code",
   "execution_count": 129,
   "metadata": {},
   "outputs": [
    {
     "name": "stdout",
     "output_type": "stream",
     "text": [
      "Percentage missing data: 0.0196078431372549\n",
      "\n"
     ]
    }
   ],
   "source": [
    "# Turn empty cells into NaN values\n",
    "sleep_data = sleep_data.replace(r'^\\s*$', np.NaN, regex=True)\n",
    "\n",
    "#code printing percentage missing data\n",
    "n_missing_values = sleep_data.isnull().sum().sum() # number missing values glucose column\n",
    "n_total_values = sleep_data.shape[0] # number of total values\n",
    "percentage_missing = n_missing_values / n_total_values\n",
    "print(f\"Percentage missing data: {percentage_missing}\\n\")"
   ]
  },
  {
   "cell_type": "markdown",
   "metadata": {},
   "source": [
    "1. Is there a differences in Hours sleep caused by having breakfast (yes, no)?"
   ]
  },
  {
   "cell_type": "code",
   "execution_count": 130,
   "metadata": {},
   "outputs": [
    {
     "name": "stdout",
     "output_type": "stream",
     "text": [
      "Research question one:\n",
      "\n",
      "Dependent variable = Hours sleep\n",
      "Independent variable = Eaten breakfast (yes/no) \n"
     ]
    }
   ],
   "source": [
    "#code printing answer dependent and independent variables\n",
    "print(\"Research question one:\\n\")\n",
    "print(\"Dependent variable = Hours sleep\")\n",
    "print(\"Independent variable = Eaten breakfast (yes/no) \")"
   ]
  },
  {
   "cell_type": "markdown",
   "metadata": {},
   "source": [
    "2. Is there a differences in Hours sleep caused by having breakfast and the tireness (score)"
   ]
  },
  {
   "cell_type": "code",
   "execution_count": 131,
   "metadata": {},
   "outputs": [
    {
     "name": "stdout",
     "output_type": "stream",
     "text": [
      "Research question two:\n",
      "\n",
      "Dependent variable = Hours sleep\n",
      "Independent variable = Eaten breakfast (yes/no) and tiredness \n"
     ]
    }
   ],
   "source": [
    "print(\"Research question two:\\n\")\n",
    "print(\"Dependent variable = Hours sleep\")\n",
    "print(\"Independent variable = Eaten breakfast (yes/no) and tiredness \")"
   ]
  },
  {
   "cell_type": "code",
   "execution_count": 132,
   "metadata": {},
   "outputs": [
    {
     "name": "stdout",
     "output_type": "stream",
     "text": [
      "The variables are not of the correct data types. The data type of the'Hours' variable needs to be changed to int or \n",
      "float. And the data type of the independent variables 'Breakfast' and 'Tired' need to be set to catergory.\n",
      "\n",
      "<class 'pandas.core.frame.DataFrame'>\n",
      "RangeIndex: 102 entries, 0 to 101\n",
      "Data columns (total 6 columns):\n",
      " #   Column      Non-Null Count  Dtype  \n",
      "---  ------      --------------  -----  \n",
      " 0   Enough      102 non-null    object \n",
      " 1   Hours       100 non-null    float64\n",
      " 2   PhoneReach  102 non-null    object \n",
      " 3   PhoneTime   102 non-null    object \n",
      " 4   Tired       102 non-null    int64  \n",
      " 5   Breakfast   102 non-null    object \n",
      "dtypes: float64(1), int64(1), object(4)\n",
      "memory usage: 4.9+ KB\n"
     ]
    }
   ],
   "source": [
    "#code printing answer about datatypes\n",
    "\n",
    "print(\"\"\"The variables are not of the correct data types. The data type of the'Hours' variable needs to be changed to int or \n",
    "float. And the data type of the independent variables 'Breakfast' and 'Tired' need to be set to catergory.\\n\"\"\")\n",
    "\n",
    "# Turn 'Hours' data type into float64\n",
    "sleep_data['Hours'] = pd.to_numeric(sleep_data['Hours'], errors = 'coerce').astype(\"float64\")\n",
    "\n",
    "sleep_data.info()"
   ]
  },
  {
   "cell_type": "markdown",
   "metadata": {},
   "source": [
    "---"
   ]
  },
  {
   "cell_type": "markdown",
   "metadata": {},
   "source": [
    "<a name='1'></a>\n",
    "## Part 2: Inspect the data (30 pt)\n",
    "\n",
    "Inspect the data practically. Get an idea about how well the variable categories are ballanced. Are the values of a variable equally divided? What is the mean value of the dependent variable? Are there correlations amongs the variables?\n"
   ]
  },
  {
   "cell_type": "markdown",
   "metadata": {},
   "source": [
    "<ul>\n",
    "<li>Create some meaninful overviews such as variable value counts</li>\n",
    "<li>Create a scatter plot ploting the relation between being tired and hours of sleep with different colors for Breakfast</li>\n",
    "    <li>Print some basic statistics about the target (mean, standard deviation)</li>\n",
    "    <li>Create a heatmap to check for correlations among variables. </li>\n",
    "\n",
    "<details>    \n",
    "<summary>\n",
    "    <font size=\"3\" color=\"darkgreen\"><b>Hints</b></font>\n",
    "</summary>\n",
    "    <ul><li>the gitbook has a bokeh heatmap example</li></ul>\n",
    "</details>\n",
    "</ul>"
   ]
  },
  {
   "cell_type": "code",
   "execution_count": 133,
   "metadata": {},
   "outputs": [
    {
     "name": "stdout",
     "output_type": "stream",
     "text": [
      "Value counts for the dependent variable:\n",
      "7.0     34\n",
      "6.0     23\n",
      "8.0     16\n",
      "5.0     12\n",
      "9.0      8\n",
      "4.0      4\n",
      "2.0      2\n",
      "10.0     1\n",
      "Name: Hours, dtype: int64\n",
      "Mean value of the dependent variable ('Hours'): 6.66\n",
      "\n",
      "Value counts for the independent variable 'Tired':\n",
      "3    38\n",
      "2    27\n",
      "4    23\n",
      "5    10\n",
      "1     4\n",
      "Name: Tired, dtype: int64\n",
      "\n",
      "Value counts for the independent variable 'Breakfast':\n",
      "Yes    62\n",
      "No     40\n",
      "Name: Breakfast, dtype: int64\n"
     ]
    },
    {
     "data": {},
     "metadata": {},
     "output_type": "display_data"
    },
    {
     "data": {
      "application/vnd.holoviews_exec.v0+json": "",
      "text/html": [
       "<div id='14929'>\n",
       "\n",
       "\n",
       "\n",
       "\n",
       "\n",
       "  <div class=\"bk-root\" id=\"64c1389c-436a-4aff-85a4-62c7684746eb\" data-root-id=\"14929\"></div>\n",
       "</div>\n",
       "<script type=\"application/javascript\">(function(root) {\n",
       "  function embed_document(root) {\n",
       "    var docs_json = {\"d9db5d6c-1939-4c43-a4e3-81aa735138ef\":{\"defs\":[{\"extends\":null,\"module\":null,\"name\":\"ReactiveHTML1\",\"overrides\":[],\"properties\":[]},{\"extends\":null,\"module\":null,\"name\":\"FlexBox1\",\"overrides\":[],\"properties\":[{\"default\":\"flex-start\",\"kind\":null,\"name\":\"align_content\"},{\"default\":\"flex-start\",\"kind\":null,\"name\":\"align_items\"},{\"default\":\"row\",\"kind\":null,\"name\":\"flex_direction\"},{\"default\":\"wrap\",\"kind\":null,\"name\":\"flex_wrap\"},{\"default\":\"flex-start\",\"kind\":null,\"name\":\"justify_content\"}]},{\"extends\":null,\"module\":null,\"name\":\"TemplateActions1\",\"overrides\":[],\"properties\":[{\"default\":0,\"kind\":null,\"name\":\"open_modal\"},{\"default\":0,\"kind\":null,\"name\":\"close_modal\"}]},{\"extends\":null,\"module\":null,\"name\":\"MaterialTemplateActions1\",\"overrides\":[],\"properties\":[{\"default\":0,\"kind\":null,\"name\":\"open_modal\"},{\"default\":0,\"kind\":null,\"name\":\"close_modal\"}]}],\"roots\":{\"references\":[{\"attributes\":{\"margin\":[5,5,5,5],\"name\":\"HSpacer02750\",\"sizing_mode\":\"stretch_width\"},\"id\":\"15122\",\"type\":\"Spacer\"},{\"attributes\":{\"active_multi\":null,\"tools\":[{\"id\":\"14933\"},{\"id\":\"14952\"},{\"id\":\"14953\"},{\"id\":\"14954\"},{\"id\":\"14955\"},{\"id\":\"14956\"}]},\"id\":\"14958\",\"type\":\"Toolbar\"},{\"attributes\":{\"end\":0.35741984403662924,\"reset_end\":0.35741984403662924,\"reset_start\":0.0,\"tags\":[[[\"Hours_density\",\"Density\",null]]]},\"id\":\"14932\",\"type\":\"Range1d\"},{\"attributes\":{\"data_source\":{\"id\":\"14992\"},\"glyph\":{\"id\":\"14995\"},\"hover_glyph\":null,\"muted_glyph\":{\"id\":\"14997\"},\"nonselection_glyph\":{\"id\":\"14996\"},\"selection_glyph\":{\"id\":\"15013\"},\"view\":{\"id\":\"14999\"}},\"id\":\"14998\",\"type\":\"GlyphRenderer\"},{\"attributes\":{\"data\":{\"x\":{\"__ndarray__\":\"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\",\"dtype\":\"float64\",\"order\":\"little\",\"shape\":[200]},\"y\":{\"__ndarray__\":\"AAAAAAAAAAAAAAAAAAAAAAAAAAAAAAAAAAAAAAAAAAAAAAAAAAAAAAAAAAAAAAAAAAAAAAAAAAAAAAAAAAAAAAAAAAAAAAAAAAAAAAAAAAAAAAAAAAAAAAAAAAAAAAAAAAAAAAAAAAAAAAAAAAAAAAAAAAAAAAAAAAAAAAAAAAAAAAAAAAAAAAAAAAAAAAAAAAAAAAAAAAAAAAAAAAAAAAAAAAAAAAAAAAAAAAAAAAAAAAAAAAAAAAAAAAAAAAAAAAAAAAAAAAAAAAAAAAAAAAAAAAAAAAAAAAAAAAAAAAAAAAAAAAAAAAAAAAAAAAAAAAAAAAAAAAAAAAAAAAAAAAAAAAAAAAAAAAAAAAAAAAAAAAAAAAAAAAAAAAAAAAAAAAAAAAAAAAAAAAAAAAAAAAAAAAAAAAAAAAAAAAAAAAAAAAAAAAAAAAAAAAAAAAAAAAAAAAAAAAAAAAAAAAAAAAAAAAAAAAAAAAAAAAAAAAAAAAAAAAAAAAAAAAAAAAAAAAAAAAAAAAAAAAAAAAAAAAAAAAAAAAAAAAAAAAAAAAAAAAAAAAAAAAAAAAAAAAAAAAAAAAAAAAAAAAAAAAAAAAAAAAAAAAAAAAAAAAAAAAAAAAAAAAAAAAAAAAAAAAAAAAAAAAAAAAAAAAAAAAAAAAAAAAAAAAAAAAAAAAAAAAAAAAAAAAAAAAAAAAAAAAAAAAAAAAAAAAAAAAAAAAAAAAAAAAAAAAAAAAAAAAAAAAAAAAAAAAAAAAAAAAAAAAAAAAAAAAAAAAAAAAAAAAAAAAAAAAAAAAAAAAAAAAAAAAAAAAAAAAAAAAAAAAAAAAAAAAAAAAAAAAAAAAAAAAAAAAAAAAAAAAAAAAAAAAAAAAAAAAAAAAAAAAAAAAAAAAAAAAAAAAAAAAAAAAAAAAAAAAAAAAAAAAAAAAAAAAAAAAAAAAAAAAAAAAAAAAAAAAAAAAAAAAAAAAAAAAAAAAAAAAAAAAAAAAAAAAAAAAAAAAAAAAAAAAAAAAAAAAAAAAAAAAAAAAAAAAAAAAAAAAAAAAAAAAAAAAAAAAAAAAAAAAAl6TgejRROPzeLC60CWFc/KKwnbv62YT+njEm3z0pqPxuWHwHTFHM/pU2dpXwWez+6uTfgcs6CP+WOVeDAi4k/nOv848/5kD8OU63WVxSWP59fpkuMHJw/XdgXrDyGoT/Q/Jsku2elP7rOD9YSoak/g44JMEAarj8NN3NCfluxP8jWuKXXrLM/KiUV/m7ztT+qozGQSCS4P7kRu2mKOLo/rMuqn0UuvD+7merqfAi+PxfIAUljzr8/XzK2WvzEwD++YQaFKKPBP4EGG3vzhsI/ZnLSka10wz/ASGIGcm/EP5Wac1RBecU/Sl3bJWuTxj8OIKEiG7/HP0QaMLbM/cg/F5Gt82pRyj/zjW+x9LvLP8pumGmePs0/DBQlopPYzj/Y8O8Ez0LQP57ZjUGHHtE/ZjkdJ6L40T9lLMcBC8jSPxV0Q4UZgtM/j6b0Qq4b1D+Po6LNj4rUP6vMjgvLxtQ/wvtZ6dPL1D8i3TZiLZnUPyOeu9B2MtQ/ENcVhtue0z+rFbB4AejSP+iC6ACtGNI/zOkmU1w70T9cfk0cG1nQP0h4pv588c4/P6QrUkA9zT/YLHmJpZnLP6TK0zhjB8o/d6qa+DuFyD+9JttdcxHHP5bxQ1DsqsU/iHGf6cBRxD+zGsizSwfDP1QDgvq9zcE/88owrnanwD+uIYNnqSy/PwdGCZ5tNr0/zP0v9o1ruz+8KpqrK8m5P11LRvHnSrg/O0lNzNDrtj+UcAfmPqe1P2c6lc1oebQ/riRIroxfsz/JAwV2s1eyP4EEufAtYLE/lfJ98v12sD+79b6FvzKvPwO0jB43h60/I4j30mDiqz9iBa4MojqqP5dXWNIph6g/eATSHmjBpj+zjwKrQ+akPxfjstzJ9qI/5lUnNTX4oD/yrOXKmOadPym+ipR75pk/A+ht2WIIlj8oIgKrpmOSP6Ms8PhFGI4/qiJ1VN4giD/8fC/K8fGCPzglLWP4H30/UPPC4fnodT95vX9MoiBwP9w6PlYEOmc/OBA7aSpcYD+MJILZgYpWP715ppeOX04/lA/lN/ECRD8+zCq9HMk5Pw==\",\"dtype\":\"float64\",\"order\":\"little\",\"shape\":[200]}},\"selected\":{\"id\":\"14972\"},\"selection_policy\":{\"id\":\"14986\"}},\"id\":\"14971\",\"type\":\"ColumnDataSource\"},{\"attributes\":{},\"id\":\"14968\",\"type\":\"AllLabels\"},{\"attributes\":{\"callback\":null,\"renderers\":[{\"id\":\"14977\"},{\"id\":\"14998\"}],\"tags\":[\"hv_created\"],\"tooltips\":[[\"Breakfast\",\"@{Breakfast}\"],[\"Hours\",\"@{Hours}\"],[\"Density\",\"@{Hours_density}\"]]},\"id\":\"14933\",\"type\":\"HoverTool\"},{\"attributes\":{},\"id\":\"14942\",\"type\":\"LinearScale\"},{\"attributes\":{\"fill_alpha\":0.2,\"fill_color\":\"green\",\"line_alpha\":0.2,\"x\":{\"field\":\"x\"},\"y\":{\"field\":\"y\"}},\"id\":\"14997\",\"type\":\"Patch\"},{\"attributes\":{\"fill_alpha\":0.5,\"fill_color\":\"green\",\"line_alpha\":1,\"x\":{\"field\":\"x\"},\"y\":{\"field\":\"y\"}},\"id\":\"14996\",\"type\":\"Patch\"},{\"attributes\":{},\"id\":\"14972\",\"type\":\"Selection\"},{\"attributes\":{},\"id\":\"15009\",\"type\":\"UnionRenderers\"},{\"attributes\":{\"text_color\":\"black\",\"text_font_size\":\"12pt\"},\"id\":\"14936\",\"type\":\"Title\"},{\"attributes\":{\"fill_alpha\":0.5,\"fill_color\":\"red\",\"x\":{\"field\":\"x\"},\"y\":{\"field\":\"y\"}},\"id\":\"14991\",\"type\":\"Patch\"},{\"attributes\":{\"label\":{\"value\":\"No\"},\"renderers\":[{\"id\":\"14998\"}]},\"id\":\"15012\",\"type\":\"LegendItem\"},{\"attributes\":{\"below\":[{\"id\":\"14944\"}],\"center\":[{\"id\":\"14947\"},{\"id\":\"14951\"},{\"id\":\"14989\"}],\"height\":300,\"left\":[{\"id\":\"14948\"}],\"margin\":[5,5,5,5],\"min_border_bottom\":10,\"min_border_left\":10,\"min_border_right\":10,\"min_border_top\":10,\"renderers\":[{\"id\":\"14977\"},{\"id\":\"14998\"}],\"sizing_mode\":\"fixed\",\"title\":{\"id\":\"14936\"},\"toolbar\":{\"id\":\"14958\"},\"width\":700,\"x_range\":{\"id\":\"14931\"},\"x_scale\":{\"id\":\"14940\"},\"y_range\":{\"id\":\"14932\"},\"y_scale\":{\"id\":\"14942\"}},\"id\":\"14935\",\"subtype\":\"Figure\",\"type\":\"Plot\"},{\"attributes\":{\"children\":[{\"id\":\"14930\"},{\"id\":\"14935\"},{\"id\":\"15122\"}],\"margin\":[0,0,0,0],\"name\":\"Row02745\",\"tags\":[\"embedded\"]},\"id\":\"14929\",\"type\":\"Row\"},{\"attributes\":{\"fill_alpha\":0.5,\"fill_color\":\"green\",\"x\":{\"field\":\"x\"},\"y\":{\"field\":\"y\"}},\"id\":\"15013\",\"type\":\"Patch\"},{\"attributes\":{\"label\":{\"value\":\"Yes\"},\"renderers\":[{\"id\":\"14977\"}]},\"id\":\"14990\",\"type\":\"LegendItem\"},{\"attributes\":{},\"id\":\"14965\",\"type\":\"AllLabels\"},{\"attributes\":{\"bottom_units\":\"screen\",\"fill_alpha\":0.5,\"fill_color\":\"lightgrey\",\"left_units\":\"screen\",\"level\":\"overlay\",\"line_alpha\":1.0,\"line_color\":\"black\",\"line_dash\":[4,4],\"line_width\":2,\"right_units\":\"screen\",\"syncable\":false,\"top_units\":\"screen\"},\"id\":\"14957\",\"type\":\"BoxAnnotation\"},{\"attributes\":{\"fill_alpha\":0.5,\"fill_color\":\"red\",\"x\":{\"field\":\"x\"},\"y\":{\"field\":\"y\"}},\"id\":\"14974\",\"type\":\"Patch\"},{\"attributes\":{},\"id\":\"14993\",\"type\":\"Selection\"},{\"attributes\":{\"source\":{\"id\":\"14992\"}},\"id\":\"14999\",\"type\":\"CDSView\"},{\"attributes\":{},\"id\":\"14970\",\"type\":\"BasicTickFormatter\"},{\"attributes\":{\"axis_label\":\"Hours\",\"formatter\":{\"id\":\"14967\"},\"major_label_policy\":{\"id\":\"14965\"},\"ticker\":{\"id\":\"14945\"}},\"id\":\"14944\",\"type\":\"LinearAxis\"},{\"attributes\":{},\"id\":\"14953\",\"type\":\"PanTool\"},{\"attributes\":{},\"id\":\"14986\",\"type\":\"UnionRenderers\"},{\"attributes\":{},\"id\":\"14940\",\"type\":\"LinearScale\"},{\"attributes\":{},\"id\":\"14945\",\"type\":\"BasicTicker\"},{\"attributes\":{},\"id\":\"14967\",\"type\":\"BasicTickFormatter\"},{\"attributes\":{\"source\":{\"id\":\"14971\"}},\"id\":\"14978\",\"type\":\"CDSView\"},{\"attributes\":{\"axis\":{\"id\":\"14944\"},\"grid_line_color\":null,\"ticker\":null},\"id\":\"14947\",\"type\":\"Grid\"},{\"attributes\":{\"margin\":[5,5,5,5],\"name\":\"HSpacer02749\",\"sizing_mode\":\"stretch_width\"},\"id\":\"14930\",\"type\":\"Spacer\"},{\"attributes\":{\"axis\":{\"id\":\"14948\"},\"dimension\":1,\"grid_line_color\":null,\"ticker\":null},\"id\":\"14951\",\"type\":\"Grid\"},{\"attributes\":{\"fill_alpha\":0.5,\"fill_color\":\"red\",\"line_alpha\":1,\"x\":{\"field\":\"x\"},\"y\":{\"field\":\"y\"}},\"id\":\"14975\",\"type\":\"Patch\"},{\"attributes\":{\"fill_alpha\":0.5,\"fill_color\":\"green\",\"x\":{\"field\":\"x\"},\"y\":{\"field\":\"y\"}},\"id\":\"14995\",\"type\":\"Patch\"},{\"attributes\":{\"end\":12.250380797487185,\"reset_end\":12.250380797487185,\"reset_start\":-0.25038079748718456,\"start\":-0.25038079748718456,\"tags\":[[[\"Hours\",\"Hours\",null]]]},\"id\":\"14931\",\"type\":\"Range1d\"},{\"attributes\":{},\"id\":\"14952\",\"type\":\"SaveTool\"},{\"attributes\":{},\"id\":\"14949\",\"type\":\"BasicTicker\"},{\"attributes\":{\"axis_label\":\"Density\",\"formatter\":{\"id\":\"14970\"},\"major_label_policy\":{\"id\":\"14968\"},\"ticker\":{\"id\":\"14949\"}},\"id\":\"14948\",\"type\":\"LinearAxis\"},{\"attributes\":{\"fill_alpha\":0.2,\"fill_color\":\"red\",\"line_alpha\":0.2,\"x\":{\"field\":\"x\"},\"y\":{\"field\":\"y\"}},\"id\":\"14976\",\"type\":\"Patch\"},{\"attributes\":{\"data_source\":{\"id\":\"14971\"},\"glyph\":{\"id\":\"14974\"},\"hover_glyph\":null,\"muted_glyph\":{\"id\":\"14976\"},\"nonselection_glyph\":{\"id\":\"14975\"},\"selection_glyph\":{\"id\":\"14991\"},\"view\":{\"id\":\"14978\"}},\"id\":\"14977\",\"type\":\"GlyphRenderer\"},{\"attributes\":{\"click_policy\":\"mute\",\"items\":[{\"id\":\"14990\"},{\"id\":\"15012\"}],\"title\":\"Breakfast\"},\"id\":\"14989\",\"type\":\"Legend\"},{\"attributes\":{\"data\":{\"x\":{\"__ndarray__\":\"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\",\"dtype\":\"float64\",\"order\":\"little\",\"shape\":[200]},\"y\":{\"__ndarray__\":\"AAAAAAAAAAAAAAAAAAAAAAAAAAAAAAAAAAAAAAAAAAAAAAAAAAAAAAAAAAAAAAAAAAAAAAAAAAAAAAAAAAAAAAAAAAAAAAAAAAAAAAAAAAAAAAAAAAAAAAAAAAAAAAAAAAAAAAAAAAAAAAAAAAAAAAAAAAAAAAAAAAAAAAAAAAAAAAAAAAAAAAAAAAAAAAAAAAAAAAAAAAAAAAAAAAAAAAAAAAAAAAAAAAAAAAAAAAAAAAAAAAAAAAAAAAAAAAAAAAAAAAAAAAAAAAAAAAAAAAAAAAAAAAAAAAAAAAAAAAAAAAAAAAAAAAAAAAAAAAAAAAAAAAAAAAAAAAAAAAAAAAAAAAAAAAAAAAAAAAAAAAAAAAAAAAAAAAAAAAAAAAAAAAAAAAAAAAAAAAAAAAAAAAAAAAAAAAAAAAAAAAAAAAAAAAAAAAAAAAAAAAAAAAAAAAAAAAAAAAAAAAAAAAAAAAAAAAAAAAAAAAAAAAAAAAAAAAAAAAAAAAAAAAAAAAAAAAAAAAAAAAAAAAAAAAAAAAAAAAAAAAAAAAAAAAAAAAAAAAAAAAAAAAAAAAAAAAAAAAAAAAAAAAAAAAAAAAAAAAAAAAAAAAAAAAAAAAAAAAAAAAAAAAAAAAAAAAAAAAAAAAAAAAAAAAAAAAAAAAAAAAAAAAAAAAAAAAAAAAAAAAAAAAAAAAAAAAAAAAAAAAAAAAAAAAAAAAAAAAAAAAAAAAAAAAAAAAAAAAAAAAAAAAAAAAAAAAAAAAAAAAAAAAAAAAAAAAAAAAAAAAAAAAAAAAAAAAAAAAAAAAAAAAAAAAAAAAAAAAAAAAAAAAAAAAAAAAAAAAAAAAAAAAAAAAAAAAAAAAAAAAAAAAAAAAAAAAAAAAAAAAAAAAAAAAAAAAAAAAAAAAAAAAAAAAAAAAAAAAAAAAAAAAAAAAAAAAAAAAAAAAAAAAAAAAAAAAAAAAAAAAAAAAAAAAAAAAAAAAAAAAAAAAAAAAAAAAAAAAAAAAAAAAAAAAAAAAAAAAAAAAAAAAAAAAAAAAAAAAAAAAAAAAAAAAAAAAAAAAAAAAAAAACgc2BbsYEjPxuIYl+c7S8/vBVNDX1pOT8u7K8hNKxDP7/N5DR0oU0/A9m1Kka2VT/3GkmWrfdeP8fHLKv3f2U/ZEalnz0TbT/d1+9mJihzP2jgLj4lnXg/PPYc7Xzcfj9i+FNPP+aCPz9+smhZpIY/0sYE0biTij+BwuVj9KCOP+DXXj1nX5E//btt84B1kz/EUbSwJ5mVP6gqQj2F2Zc/WFAS+MlOmj8u6Cq/PBmdP/uz9/eSL6A/d1CRXOUkoj9QT9Wf6oCkP+4ZUv7QVac/N+Exmvqxqj/pKC9Hx56uPwhlmk/6j7E/IP5H680ZtD89rW2dV+m2P3H6TmDc+Lk/qXmZD8ZAvT9L2Zy96lvAP5BczSqQKcI/BdEFp/QCxD9+N8HCvODFP/8iMLCWusc/t0P5MW6HyT8A+lPb0j3LP7yYKdmB1Mw//C4cjPRCzj+RYZZs0IHPPye5sxePRdA/+fBNaCGt0D93SVlK5vXQPy3rGf6aHtE/5Omf5mAm0T9gAed8wgzRPymFatLN0dA/CagfQzh20D/34udy8/bPP9qOaoihx84/vKrCllRkzT+BQTbs5tPLPxTKLd/JHco/u6Qaw7BJyD+sgypdZl/GP3ySpiPOZsQ/6sp6If5nwj+tKC4gU2vAP5a1YDHG8rw/aj4bSoA1uT9Rg2RiI6+1P6Pfu4Q0brI/1ygVOx79rj/LI/fmmtGpP5ON2GcnZKU/U9nt2m+4oT95DQuQm5idP29aJ3hlMZk/TkMbLMgklj/uN7WauFSUP1JuvRStm5M/yChQiWvMkz+2H/XZJbKUP8opmuh8EZY/tHJKnNGqlz+t5UWB9D2ZP878MS7gjpo/hn1CJdNqmz98fHpe66ybP7z+EMVmQZs/iuB8OeImmj8iaZKmT22YPyj7HibMMpY/yF0naOWekz9mwMtPId2QP6aRPLVbL4w/TrL4gwLmhj+At+2d3RWCP4beUjmAxXs/G8i9BEa6dD/OVmLvtBNuP3BSMMldNmU/aHX2JNAVXT8rmHt9DmJTP3B5K2jnHEk/Cmw3J6+gPz9UDPGjH1wzPw==\",\"dtype\":\"float64\",\"order\":\"little\",\"shape\":[200]}},\"selected\":{\"id\":\"14993\"},\"selection_policy\":{\"id\":\"15009\"}},\"id\":\"14992\",\"type\":\"ColumnDataSource\"},{\"attributes\":{},\"id\":\"14954\",\"type\":\"WheelZoomTool\"},{\"attributes\":{\"overlay\":{\"id\":\"14957\"}},\"id\":\"14955\",\"type\":\"BoxZoomTool\"},{\"attributes\":{},\"id\":\"14956\",\"type\":\"ResetTool\"}],\"root_ids\":[\"14929\"]},\"title\":\"Bokeh Application\",\"version\":\"2.3.3\"}};\n",
       "    var render_items = [{\"docid\":\"d9db5d6c-1939-4c43-a4e3-81aa735138ef\",\"root_ids\":[\"14929\"],\"roots\":{\"14929\":\"64c1389c-436a-4aff-85a4-62c7684746eb\"}}];\n",
       "    root.Bokeh.embed.embed_items_notebook(docs_json, render_items);\n",
       "  }\n",
       "  if (root.Bokeh !== undefined && root.Bokeh.Panel !== undefined) {\n",
       "    embed_document(root);\n",
       "  } else {\n",
       "    var attempts = 0;\n",
       "    var timer = setInterval(function(root) {\n",
       "      if (root.Bokeh !== undefined && root.Bokeh.Panel !== undefined) {\n",
       "        clearInterval(timer);\n",
       "        embed_document(root);\n",
       "      } else if (document.readyState == \"complete\") {\n",
       "        attempts++;\n",
       "        if (attempts > 200) {\n",
       "          clearInterval(timer);\n",
       "          console.log(\"Bokeh: ERROR: Unable to run BokehJS code because BokehJS library is missing\");\n",
       "        }\n",
       "      }\n",
       "    }, 25, root)\n",
       "  }\n",
       "})(window);</script>"
      ],
      "text/plain": [
       ":NdOverlay   [Breakfast]\n",
       "   :Distribution   [Hours]   (Density)"
      ]
     },
     "execution_count": 133,
     "metadata": {
      "application/vnd.holoviews_exec.v0+json": {
       "id": "14929"
      }
     },
     "output_type": "execute_result"
    }
   ],
   "source": [
    "#code your answer to the value counts and distribution plots here\n",
    "print(\"Value counts for the dependent variable:\")\n",
    "val_counts_hours = sleep_data[\"Hours\"].value_counts()\n",
    "print(val_counts_hours)\n",
    "\n",
    "mean = sleep_data[\"Hours\"].mean()\n",
    "print(f\"Mean value of the dependent variable ('Hours'): {mean}\\n\")\n",
    "\n",
    "print(\"Value counts for the independent variable 'Tired':\")\n",
    "val_counts_tired = sleep_data[\"Tired\"].value_counts()\n",
    "print(f\"{val_counts_tired}\\n\")\n",
    "\n",
    "print(\"Value counts for the independent variable 'Breakfast':\")\n",
    "val_counts_breakfast = sleep_data[\"Breakfast\"].value_counts()\n",
    "print(val_counts_breakfast)\n",
    "\n",
    "# Plot distribution Hours slept and breakfast\n",
    "sleep_data[['Hours', 'Breakfast']].hvplot.kde(by='Breakfast', legend = 'top_right', color = ['red', 'green'])"
   ]
  },
  {
   "cell_type": "code",
   "execution_count": 134,
   "metadata": {},
   "outputs": [
    {
     "data": {
      "text/html": [
       "\n",
       "\n",
       "\n",
       "\n",
       "\n",
       "\n",
       "  <div class=\"bk-root\" id=\"af7b0953-716b-469f-bc9a-c88200e9aba6\" data-root-id=\"15186\"></div>\n"
      ]
     },
     "metadata": {},
     "output_type": "display_data"
    },
    {
     "data": {
      "application/javascript": [
       "(function(root) {\n",
       "  function embed_document(root) {\n",
       "    \n",
       "  var docs_json = {\"5e150dfc-4ace-4086-a7b8-eeff8822f5f0\":{\"defs\":[{\"extends\":null,\"module\":null,\"name\":\"ReactiveHTML1\",\"overrides\":[],\"properties\":[]},{\"extends\":null,\"module\":null,\"name\":\"FlexBox1\",\"overrides\":[],\"properties\":[{\"default\":\"flex-start\",\"kind\":null,\"name\":\"align_content\"},{\"default\":\"flex-start\",\"kind\":null,\"name\":\"align_items\"},{\"default\":\"row\",\"kind\":null,\"name\":\"flex_direction\"},{\"default\":\"wrap\",\"kind\":null,\"name\":\"flex_wrap\"},{\"default\":\"flex-start\",\"kind\":null,\"name\":\"justify_content\"}]},{\"extends\":null,\"module\":null,\"name\":\"TemplateActions1\",\"overrides\":[],\"properties\":[{\"default\":0,\"kind\":null,\"name\":\"open_modal\"},{\"default\":0,\"kind\":null,\"name\":\"close_modal\"}]},{\"extends\":null,\"module\":null,\"name\":\"MaterialTemplateActions1\",\"overrides\":[],\"properties\":[{\"default\":0,\"kind\":null,\"name\":\"open_modal\"},{\"default\":0,\"kind\":null,\"name\":\"close_modal\"}]}],\"roots\":{\"references\":[{\"attributes\":{\"below\":[{\"id\":\"15197\"}],\"center\":[{\"id\":\"15200\"},{\"id\":\"15204\"},{\"id\":\"15233\"}],\"height\":400,\"left\":[{\"id\":\"15201\"}],\"renderers\":[{\"id\":\"15222\"},{\"id\":\"15239\"}],\"title\":{\"id\":\"15187\"},\"toolbar\":{\"id\":\"15211\"},\"width\":750,\"x_range\":{\"id\":\"15189\"},\"x_scale\":{\"id\":\"15193\"},\"y_range\":{\"id\":\"15191\"},\"y_scale\":{\"id\":\"15195\"}},\"id\":\"15186\",\"subtype\":\"Figure\",\"type\":\"Plot\"},{\"attributes\":{\"dimensions\":\"height\"},\"id\":\"15209\",\"type\":\"ZoomInTool\"},{\"attributes\":{\"range\":null,\"width\":0.5},\"id\":\"15235\",\"type\":\"Jitter\"},{\"attributes\":{\"fill_alpha\":{\"value\":0.1},\"fill_color\":{\"value\":\"green\"},\"line_alpha\":{\"value\":0.1},\"line_color\":{\"value\":\"green\"},\"marker\":{\"value\":\"dot\"},\"size\":{\"value\":30},\"x\":{\"field\":\"Tired\",\"transform\":{\"id\":\"15218\"}},\"y\":{\"field\":\"Hours\"}},\"id\":\"15221\",\"type\":\"Scatter\"},{\"attributes\":{},\"id\":\"15202\",\"type\":\"BasicTicker\"},{\"attributes\":{\"fill_alpha\":{\"value\":0.7},\"fill_color\":{\"value\":\"green\"},\"line_alpha\":{\"value\":0.7},\"line_color\":{\"value\":\"green\"},\"marker\":{\"value\":\"dot\"},\"size\":{\"value\":30},\"x\":{\"field\":\"Tired\",\"transform\":{\"id\":\"15218\"}},\"y\":{\"field\":\"Hours\"}},\"id\":\"15220\",\"type\":\"Scatter\"},{\"attributes\":{\"range\":null,\"width\":0.5},\"id\":\"15218\",\"type\":\"Jitter\"},{\"attributes\":{\"dimensions\":\"height\"},\"id\":\"15210\",\"type\":\"ZoomOutTool\"},{\"attributes\":{\"data_source\":{\"id\":\"15184\"},\"glyph\":{\"id\":\"15220\"},\"hover_glyph\":null,\"muted_glyph\":null,\"nonselection_glyph\":{\"id\":\"15221\"},\"view\":{\"id\":\"15223\"}},\"id\":\"15222\",\"type\":\"GlyphRenderer\"},{\"attributes\":{},\"id\":\"15191\",\"type\":\"DataRange1d\"},{\"attributes\":{\"source\":{\"id\":\"15185\"}},\"id\":\"15240\",\"type\":\"CDSView\"},{\"attributes\":{},\"id\":\"15227\",\"type\":\"BasicTickFormatter\"},{\"attributes\":{},\"id\":\"15189\",\"type\":\"DataRange1d\"},{\"attributes\":{},\"id\":\"15207\",\"type\":\"ZoomInTool\"},{\"attributes\":{},\"id\":\"15251\",\"type\":\"Selection\"},{\"attributes\":{\"click_policy\":\"hide\",\"items\":[{\"id\":\"15234\"},{\"id\":\"15252\"}],\"location\":\"bottom_left\"},\"id\":\"15233\",\"type\":\"Legend\"},{\"attributes\":{\"data\":{\"Hours\":{\"__ndarray__\":\"AAAAAAAAHEAAAAAAAAAcQAAAAAAAACRAAAAAAAAAHEAAAAAAAAAgQAAAAAAAACBAAAAAAAAAIEAAAAAAAAAAQAAAAAAAABRAAAAAAAAAHEAAAAAAAAAYQAAAAAAAABhAAAAAAAAAGEAAAAAAAAAYQAAAAAAAABRAAAAAAAAAHEAAAAAAAAAUQAAAAAAAABBAAAAAAAAAHEAAAAAAAAAUQAAAAAAAABRAAAAAAAAAGEAAAAAAAAAiQAAAAAAAABxAAAAAAAAAGEAAAAAAAAAAQAAAAAAAACBAAAAAAAAAHEAAAAAAAAAcQAAAAAAAABRAAAAAAAAAGEAAAAAAAAAYQAAAAAAAABxAAAAAAAAAGEAAAAAAAAAYQAAAAAAAABRAAAAAAAAAGEAAAAAAAAAgQAAAAAAAABxAAAAAAAAAGEA=\",\"dtype\":\"float64\",\"order\":\"little\",\"shape\":[40]},\"Tired\":[4,4,4,3,2,3,3,5,2,5,3,2,4,3,5,2,3,5,4,3,2,3,5,2,3,5,5,1,3,4,4,4,4,3,3,4,3,4,2,3],\"index\":[2,4,8,10,11,13,17,18,22,23,24,25,30,31,36,37,40,42,43,48,51,54,55,57,58,60,61,64,66,70,73,75,77,78,79,80,83,92,95,96]},\"selected\":{\"id\":\"15251\"},\"selection_policy\":{\"id\":\"15250\"}},\"id\":\"15185\",\"type\":\"ColumnDataSource\"},{\"attributes\":{\"label\":{\"value\":\"Breakfast: no\"},\"renderers\":[{\"id\":\"15239\"}]},\"id\":\"15252\",\"type\":\"LegendItem\"},{\"attributes\":{\"active_multi\":null,\"tools\":[{\"id\":\"15205\"},{\"id\":\"15206\"},{\"id\":\"15207\"},{\"id\":\"15208\"},{\"id\":\"15209\"},{\"id\":\"15210\"}]},\"id\":\"15211\",\"type\":\"Toolbar\"},{\"attributes\":{\"text\":\"Relation between being tired and hours slept.\"},\"id\":\"15187\",\"type\":\"Title\"},{\"attributes\":{},\"id\":\"15226\",\"type\":\"AllLabels\"},{\"attributes\":{},\"id\":\"15231\",\"type\":\"UnionRenderers\"},{\"attributes\":{},\"id\":\"15232\",\"type\":\"Selection\"},{\"attributes\":{\"data\":{\"Hours\":{\"__ndarray__\":\"AAAAAAAAIEAAAAAAAAAYQAAAAAAAABxAAAAAAAAAHEAAAAAAAAAQQAAAAAAAABhAAAAAAAAAHEAAAAAAAAAcQAAAAAAAABhAAAAAAAAAIEAAAAAAAAAiQAAAAAAAABBAAAAAAAAAFEAAAAAAAAAcQAAAAAAAABxAAAAAAAAAIkAAAAAAAAAgQAAAAAAAACBAAAAAAAAAHEAAAAAAAAAcQAAAAAAAABxAAAAAAAAAIkAAAAAAAAAgQAAAAAAAABxAAAAAAAAAGEAAAAAAAAAiQAAAAAAAABRAAAAAAAAAGEAAAAAAAAAQQAAAAAAAACBAAAAAAAAAHEAAAAAAAAAcQAAAAAAAABRAAAAAAAAAIkAAAAAAAAAcQAAAAAAAABxAAAAAAAAA+H8AAAAAAAAcQAAAAAAAABhAAAAAAAAAGEAAAAAAAAAUQAAAAAAAABhAAAAAAAAAHEAAAAAAAAAgQAAAAAAAABhAAAAAAAAAIEAAAAAAAAAgQAAAAAAAACJAAAAAAAAAFEAAAAAAAAAYQAAAAAAAACBAAAAAAAAAHEAAAAAAAAD4fwAAAAAAABxAAAAAAAAAIkAAAAAAAAAcQAAAAAAAABxAAAAAAAAAHEAAAAAAAAAcQAAAAAAAACBAAAAAAAAAHEAAAAAAAAAYQA==\",\"dtype\":\"float64\",\"order\":\"little\",\"shape\":[62]},\"Tired\":[3,2,2,3,2,3,2,3,4,3,3,2,3,3,2,2,2,3,3,3,2,2,1,4,3,1,5,3,2,3,4,3,2,4,3,4,3,3,3,4,4,5,4,4,3,2,1,5,4,2,3,4,2,2,2,2,4,2,3,3,2,3],\"index\":[0,1,3,5,6,7,9,12,14,15,16,19,20,21,26,27,28,29,32,33,34,35,38,39,41,44,45,46,47,49,50,52,53,56,59,62,63,65,67,68,69,71,72,74,76,81,82,84,85,86,87,88,89,90,91,93,94,97,98,99,100,101]},\"selected\":{\"id\":\"15232\"},\"selection_policy\":{\"id\":\"15231\"}},\"id\":\"15184\",\"type\":\"ColumnDataSource\"},{\"attributes\":{\"axis_label\":\"Hours slept\",\"formatter\":{\"id\":\"15227\"},\"major_label_policy\":{\"id\":\"15226\"},\"ticker\":{\"id\":\"15202\"}},\"id\":\"15201\",\"type\":\"LinearAxis\"},{\"attributes\":{\"fill_alpha\":{\"value\":0.1},\"fill_color\":{\"value\":\"red\"},\"line_alpha\":{\"value\":0.1},\"line_color\":{\"value\":\"red\"},\"marker\":{\"value\":\"dot\"},\"size\":{\"value\":30},\"x\":{\"field\":\"Tired\",\"transform\":{\"id\":\"15235\"}},\"y\":{\"field\":\"Hours\"}},\"id\":\"15238\",\"type\":\"Scatter\"},{\"attributes\":{\"axis\":{\"id\":\"15201\"},\"dimension\":1,\"ticker\":null},\"id\":\"15204\",\"type\":\"Grid\"},{\"attributes\":{},\"id\":\"15250\",\"type\":\"UnionRenderers\"},{\"attributes\":{},\"id\":\"15198\",\"type\":\"BasicTicker\"},{\"attributes\":{},\"id\":\"15230\",\"type\":\"BasicTickFormatter\"},{\"attributes\":{\"fill_alpha\":{\"value\":0.5},\"fill_color\":{\"value\":\"red\"},\"line_alpha\":{\"value\":0.5},\"line_color\":{\"value\":\"red\"},\"marker\":{\"value\":\"dot\"},\"size\":{\"value\":30},\"x\":{\"field\":\"Tired\",\"transform\":{\"id\":\"15235\"}},\"y\":{\"field\":\"Hours\"}},\"id\":\"15237\",\"type\":\"Scatter\"},{\"attributes\":{},\"id\":\"15229\",\"type\":\"AllLabels\"},{\"attributes\":{\"axis\":{\"id\":\"15197\"},\"ticker\":null},\"id\":\"15200\",\"type\":\"Grid\"},{\"attributes\":{\"axis_label\":\"Tirednes (1 being not tired, 5 being very tired))\",\"formatter\":{\"id\":\"15230\"},\"major_label_policy\":{\"id\":\"15229\"},\"ticker\":{\"id\":\"15198\"}},\"id\":\"15197\",\"type\":\"LinearAxis\"},{\"attributes\":{\"data_source\":{\"id\":\"15185\"},\"glyph\":{\"id\":\"15237\"},\"hover_glyph\":null,\"muted_glyph\":null,\"nonselection_glyph\":{\"id\":\"15238\"},\"view\":{\"id\":\"15240\"}},\"id\":\"15239\",\"type\":\"GlyphRenderer\"},{\"attributes\":{},\"id\":\"15208\",\"type\":\"ZoomOutTool\"},{\"attributes\":{\"label\":{\"value\":\"Breakfast: yes\"},\"renderers\":[{\"id\":\"15222\"}]},\"id\":\"15234\",\"type\":\"LegendItem\"},{\"attributes\":{\"callback\":null},\"id\":\"15206\",\"type\":\"HoverTool\"},{\"attributes\":{},\"id\":\"15195\",\"type\":\"LinearScale\"},{\"attributes\":{\"source\":{\"id\":\"15184\"}},\"id\":\"15223\",\"type\":\"CDSView\"},{\"attributes\":{},\"id\":\"15205\",\"type\":\"PanTool\"},{\"attributes\":{},\"id\":\"15193\",\"type\":\"LinearScale\"}],\"root_ids\":[\"15186\"]},\"title\":\"Bokeh Application\",\"version\":\"2.3.3\"}};\n",
       "  var render_items = [{\"docid\":\"5e150dfc-4ace-4086-a7b8-eeff8822f5f0\",\"root_ids\":[\"15186\"],\"roots\":{\"15186\":\"af7b0953-716b-469f-bc9a-c88200e9aba6\"}}];\n",
       "  root.Bokeh.embed.embed_items_notebook(docs_json, render_items);\n",
       "\n",
       "  }\n",
       "  if (root.Bokeh !== undefined) {\n",
       "    embed_document(root);\n",
       "  } else {\n",
       "    var attempts = 0;\n",
       "    var timer = setInterval(function(root) {\n",
       "      if (root.Bokeh !== undefined) {\n",
       "        clearInterval(timer);\n",
       "        embed_document(root);\n",
       "      } else {\n",
       "        attempts++;\n",
       "        if (attempts > 100) {\n",
       "          clearInterval(timer);\n",
       "          console.log(\"Bokeh: ERROR: Unable to run BokehJS code because BokehJS library is missing\");\n",
       "        }\n",
       "      }\n",
       "    }, 10, root)\n",
       "  }\n",
       "})(window);"
      ],
      "application/vnd.bokehjs_exec.v0+json": ""
     },
     "metadata": {
      "application/vnd.bokehjs_exec.v0+json": {
       "id": "15186"
      }
     },
     "output_type": "display_data"
    }
   ],
   "source": [
    "#code for the scatter plot here\n",
    "\n",
    "# Create two seperate data frames for yes and no breakfast\n",
    "yes_breakfast = sleep_data[sleep_data['Breakfast'] == 'Yes'][['Hours', 'Tired']]\n",
    "no_breakfast = sleep_data[sleep_data['Breakfast'] == 'No'][['Hours', 'Tired']]\n",
    "\n",
    "# Create ColumnDataSource objects\n",
    "source_yes = ColumnDataSource(yes_breakfast)\n",
    "source_no = ColumnDataSource(no_breakfast)\n",
    "\n",
    "p = figure(title = \"Relation between being tired and hours slept.\",plot_width = 750, plot_height = 400, tools=\"pan, hover, zoom_in, zoom_out, yzoom_in, yzoom_out\")\n",
    "\n",
    "\n",
    "# Create the points for patient who have died\n",
    "points = p.scatter(jitter('Tired', 0.5), 'Hours', source=source_yes, color = \"green\", marker = \"dot\", size = 30, legend_label = \"Breakfast: yes\", alpha = 0.7)\n",
    "# Create the points for patient who survived\n",
    "points2 = p.scatter(jitter('Tired', 0.5), 'Hours', source=source_no, color = \"red\", marker = \"dot\", size = 30, legend_label = \"Breakfast: no\", alpha = 0.5)\n",
    "\n",
    "# Set labels\n",
    "p.xaxis.axis_label = 'Tirednes (1 being not tired, 5 being very tired))'\n",
    "# Use regex to grab the info about what was measured\n",
    "p.yaxis.axis_label = 'Hours slept'\n",
    "\n",
    "# Make legend interactive\n",
    "p.legend.location = \"bottom_left\"\n",
    "p.legend.click_policy=\"hide\"\n",
    "\n",
    "show(p)"
   ]
  },
  {
   "cell_type": "code",
   "execution_count": 135,
   "metadata": {},
   "outputs": [
    {
     "name": "stdout",
     "output_type": "stream",
     "text": [
      "Descriptive statistics 'Hours': mean = 6.66, sd = 1.4299819875958169, variance = 2.0448484848484827\n"
     ]
    }
   ],
   "source": [
    "#code your answer to the target statistics here\n",
    "print(f\"Descriptive statistics 'Hours': mean = {sleep_data['Hours'].mean()}, sd = {sleep_data['Hours'].std()}, variance = {sleep_data['Hours'].var()}\")"
   ]
  },
  {
   "cell_type": "code",
   "execution_count": 136,
   "metadata": {},
   "outputs": [
    {
     "data": {
      "text/html": [
       "<div>\n",
       "<style scoped>\n",
       "    .dataframe tbody tr th:only-of-type {\n",
       "        vertical-align: middle;\n",
       "    }\n",
       "\n",
       "    .dataframe tbody tr th {\n",
       "        vertical-align: top;\n",
       "    }\n",
       "\n",
       "    .dataframe thead th {\n",
       "        text-align: right;\n",
       "    }\n",
       "</style>\n",
       "<table border=\"1\" class=\"dataframe\">\n",
       "  <thead>\n",
       "    <tr style=\"text-align: right;\">\n",
       "      <th></th>\n",
       "      <th>Enough</th>\n",
       "      <th>Hours</th>\n",
       "      <th>PhoneReach</th>\n",
       "      <th>PhoneTime</th>\n",
       "      <th>Tired</th>\n",
       "      <th>Breakfast</th>\n",
       "    </tr>\n",
       "  </thead>\n",
       "  <tbody>\n",
       "    <tr>\n",
       "      <th>Enough</th>\n",
       "      <td>1.000000</td>\n",
       "      <td>0.379229</td>\n",
       "      <td>0.089882</td>\n",
       "      <td>0.007139</td>\n",
       "      <td>0.421483</td>\n",
       "      <td>0.115278</td>\n",
       "    </tr>\n",
       "    <tr>\n",
       "      <th>Hours</th>\n",
       "      <td>0.379229</td>\n",
       "      <td>1.000000</td>\n",
       "      <td>0.053796</td>\n",
       "      <td>0.153000</td>\n",
       "      <td>0.192382</td>\n",
       "      <td>0.220936</td>\n",
       "    </tr>\n",
       "    <tr>\n",
       "      <th>PhoneReach</th>\n",
       "      <td>0.089882</td>\n",
       "      <td>0.053796</td>\n",
       "      <td>1.000000</td>\n",
       "      <td>0.145044</td>\n",
       "      <td>0.072554</td>\n",
       "      <td>0.240141</td>\n",
       "    </tr>\n",
       "    <tr>\n",
       "      <th>PhoneTime</th>\n",
       "      <td>0.007139</td>\n",
       "      <td>0.153000</td>\n",
       "      <td>0.145044</td>\n",
       "      <td>1.000000</td>\n",
       "      <td>0.034775</td>\n",
       "      <td>0.007934</td>\n",
       "    </tr>\n",
       "    <tr>\n",
       "      <th>Tired</th>\n",
       "      <td>0.421483</td>\n",
       "      <td>0.192382</td>\n",
       "      <td>0.072554</td>\n",
       "      <td>0.034775</td>\n",
       "      <td>1.000000</td>\n",
       "      <td>0.254123</td>\n",
       "    </tr>\n",
       "    <tr>\n",
       "      <th>Breakfast</th>\n",
       "      <td>0.115278</td>\n",
       "      <td>0.220936</td>\n",
       "      <td>0.240141</td>\n",
       "      <td>0.007934</td>\n",
       "      <td>0.254123</td>\n",
       "      <td>1.000000</td>\n",
       "    </tr>\n",
       "  </tbody>\n",
       "</table>\n",
       "</div>"
      ],
      "text/plain": [
       "              Enough     Hours  PhoneReach  PhoneTime     Tired  Breakfast\n",
       "Enough      1.000000  0.379229    0.089882   0.007139  0.421483   0.115278\n",
       "Hours       0.379229  1.000000    0.053796   0.153000  0.192382   0.220936\n",
       "PhoneReach  0.089882  0.053796    1.000000   0.145044  0.072554   0.240141\n",
       "PhoneTime   0.007139  0.153000    0.145044   1.000000  0.034775   0.007934\n",
       "Tired       0.421483  0.192382    0.072554   0.034775  1.000000   0.254123\n",
       "Breakfast   0.115278  0.220936    0.240141   0.007934  0.254123   1.000000"
      ]
     },
     "execution_count": 136,
     "metadata": {},
     "output_type": "execute_result"
    }
   ],
   "source": [
    "#code your answer for the heatmap here and briefly state your finding\n",
    "\n",
    "# sleep_data[\"Enough\"].str.strip().map({\"Yes\": 1, \"No\":0})\n",
    "\n",
    "sleep_data_num = sleep_data.copy()\n",
    "\n",
    "# Yes/no columns\n",
    "cols = [\"Enough\", \"PhoneReach\", \"PhoneTime\", \"Breakfast\"]\n",
    "# Turn yes/no values to 1 and 0.\n",
    "sleep_data_num[cols] = sleep_data_num[cols].applymap(lambda x: 1 if x.strip()==\"Yes\" else 0)\n",
    "\n",
    "c = sleep_data_num.corr().abs()\n",
    "y_range = (list(reversed(c.columns)))\n",
    "x_range = (list(c.index))\n",
    "# c\n",
    "c"
   ]
  },
  {
   "cell_type": "code",
   "execution_count": 137,
   "metadata": {},
   "outputs": [
    {
     "data": {
      "text/html": [
       "<div>\n",
       "<style scoped>\n",
       "    .dataframe tbody tr th:only-of-type {\n",
       "        vertical-align: middle;\n",
       "    }\n",
       "\n",
       "    .dataframe tbody tr th {\n",
       "        vertical-align: top;\n",
       "    }\n",
       "\n",
       "    .dataframe thead th {\n",
       "        text-align: right;\n",
       "    }\n",
       "</style>\n",
       "<table border=\"1\" class=\"dataframe\">\n",
       "  <thead>\n",
       "    <tr style=\"text-align: right;\">\n",
       "      <th></th>\n",
       "      <th>level_0</th>\n",
       "      <th>level_1</th>\n",
       "      <th>r</th>\n",
       "    </tr>\n",
       "  </thead>\n",
       "  <tbody>\n",
       "    <tr>\n",
       "      <th>0</th>\n",
       "      <td>Enough</td>\n",
       "      <td>Enough</td>\n",
       "      <td>1.000000</td>\n",
       "    </tr>\n",
       "    <tr>\n",
       "      <th>1</th>\n",
       "      <td>Enough</td>\n",
       "      <td>Hours</td>\n",
       "      <td>0.379229</td>\n",
       "    </tr>\n",
       "    <tr>\n",
       "      <th>2</th>\n",
       "      <td>Enough</td>\n",
       "      <td>PhoneReach</td>\n",
       "      <td>0.089882</td>\n",
       "    </tr>\n",
       "    <tr>\n",
       "      <th>3</th>\n",
       "      <td>Enough</td>\n",
       "      <td>PhoneTime</td>\n",
       "      <td>0.007139</td>\n",
       "    </tr>\n",
       "    <tr>\n",
       "      <th>4</th>\n",
       "      <td>Enough</td>\n",
       "      <td>Tired</td>\n",
       "      <td>0.421483</td>\n",
       "    </tr>\n",
       "  </tbody>\n",
       "</table>\n",
       "</div>"
      ],
      "text/plain": [
       "  level_0     level_1         r\n",
       "0  Enough      Enough  1.000000\n",
       "1  Enough       Hours  0.379229\n",
       "2  Enough  PhoneReach  0.089882\n",
       "3  Enough   PhoneTime  0.007139\n",
       "4  Enough       Tired  0.421483"
      ]
     },
     "execution_count": 137,
     "metadata": {},
     "output_type": "execute_result"
    }
   ],
   "source": [
    "#reshape\n",
    "dfc = pd.DataFrame(c.stack(), columns=['r']).reset_index()\n",
    "dfc.head()"
   ]
  },
  {
   "cell_type": "code",
   "execution_count": 138,
   "metadata": {},
   "outputs": [
    {
     "data": {
      "text/html": [
       "\n",
       "\n",
       "\n",
       "\n",
       "\n",
       "\n",
       "  <div class=\"bk-root\" id=\"78b98fe7-ec26-41cb-ac35-66197a54c592\" data-root-id=\"15785\"></div>\n"
      ]
     },
     "metadata": {},
     "output_type": "display_data"
    },
    {
     "data": {
      "application/javascript": [
       "(function(root) {\n",
       "  function embed_document(root) {\n",
       "    \n",
       "  var docs_json = {\"9015e6f4-b735-444e-b502-2f07930c7614\":{\"defs\":[{\"extends\":null,\"module\":null,\"name\":\"ReactiveHTML1\",\"overrides\":[],\"properties\":[]},{\"extends\":null,\"module\":null,\"name\":\"FlexBox1\",\"overrides\":[],\"properties\":[{\"default\":\"flex-start\",\"kind\":null,\"name\":\"align_content\"},{\"default\":\"flex-start\",\"kind\":null,\"name\":\"align_items\"},{\"default\":\"row\",\"kind\":null,\"name\":\"flex_direction\"},{\"default\":\"wrap\",\"kind\":null,\"name\":\"flex_wrap\"},{\"default\":\"flex-start\",\"kind\":null,\"name\":\"justify_content\"}]},{\"extends\":null,\"module\":null,\"name\":\"TemplateActions1\",\"overrides\":[],\"properties\":[{\"default\":0,\"kind\":null,\"name\":\"open_modal\"},{\"default\":0,\"kind\":null,\"name\":\"close_modal\"}]},{\"extends\":null,\"module\":null,\"name\":\"MaterialTemplateActions1\",\"overrides\":[],\"properties\":[{\"default\":0,\"kind\":null,\"name\":\"open_modal\"},{\"default\":0,\"kind\":null,\"name\":\"close_modal\"}]}],\"roots\":{\"references\":[{\"attributes\":{\"above\":[{\"id\":\"15796\"}],\"center\":[{\"id\":\"15798\"},{\"id\":\"15801\"}],\"height\":450,\"left\":[{\"id\":\"15799\"}],\"renderers\":[{\"id\":\"15819\"}],\"right\":[{\"id\":\"15823\"}],\"title\":{\"id\":\"15786\"},\"toolbar\":{\"id\":\"15809\"},\"toolbar_location\":null,\"width\":500,\"x_range\":{\"id\":\"15788\"},\"x_scale\":{\"id\":\"15792\"},\"y_range\":{\"id\":\"15790\"},\"y_scale\":{\"id\":\"15794\"}},\"id\":\"15785\",\"subtype\":\"Figure\",\"type\":\"Plot\"},{\"attributes\":{},\"id\":\"15797\",\"type\":\"CategoricalTicker\"},{\"attributes\":{},\"id\":\"15802\",\"type\":\"PanTool\"},{\"attributes\":{\"bottom_units\":\"screen\",\"fill_alpha\":0.5,\"fill_color\":\"lightgrey\",\"left_units\":\"screen\",\"level\":\"overlay\",\"line_alpha\":1.0,\"line_color\":\"black\",\"line_dash\":[4,4],\"line_width\":2,\"right_units\":\"screen\",\"syncable\":false,\"top_units\":\"screen\"},\"id\":\"15808\",\"type\":\"BoxAnnotation\"},{\"attributes\":{\"factors\":[\"Enough\",\"Hours\",\"PhoneReach\",\"PhoneTime\",\"Tired\",\"Breakfast\"]},\"id\":\"15788\",\"type\":\"FactorRange\"},{\"attributes\":{\"axis\":{\"id\":\"15799\"},\"dimension\":1,\"ticker\":null},\"id\":\"15801\",\"type\":\"Grid\"},{\"attributes\":{},\"id\":\"15794\",\"type\":\"CategoricalScale\"},{\"attributes\":{\"source\":{\"id\":\"15783\"}},\"id\":\"15820\",\"type\":\"CDSView\"},{\"attributes\":{\"axis_line_color\":null,\"formatter\":{\"id\":\"16302\"},\"major_label_orientation\":1.0,\"major_label_policy\":{\"id\":\"16301\"},\"major_label_standoff\":0,\"major_label_text_font_size\":\"10px\",\"major_tick_line_color\":null,\"ticker\":{\"id\":\"15797\"}},\"id\":\"15796\",\"type\":\"CategoricalAxis\"},{\"attributes\":{\"axis\":{\"id\":\"15796\"},\"ticker\":null},\"id\":\"15798\",\"type\":\"Grid\"},{\"attributes\":{},\"id\":\"16307\",\"type\":\"UnionRenderers\"},{\"attributes\":{\"axis_line_color\":null,\"formatter\":{\"id\":\"16305\"},\"major_label_policy\":{\"id\":\"16304\"},\"major_label_standoff\":0,\"major_label_text_font_size\":\"10px\",\"major_tick_line_color\":null,\"ticker\":{\"id\":\"15800\"}},\"id\":\"15799\",\"type\":\"CategoricalAxis\"},{\"attributes\":{\"high\":1.0,\"low\":0.007138955718546301,\"palette\":[\"#440154\",\"#440255\",\"#440357\",\"#450558\",\"#45065A\",\"#45085B\",\"#46095C\",\"#460B5E\",\"#460C5F\",\"#460E61\",\"#470F62\",\"#471163\",\"#471265\",\"#471466\",\"#471567\",\"#471669\",\"#47186A\",\"#48196B\",\"#481A6C\",\"#481C6E\",\"#481D6F\",\"#481E70\",\"#482071\",\"#482172\",\"#482273\",\"#482374\",\"#472575\",\"#472676\",\"#472777\",\"#472878\",\"#472A79\",\"#472B7A\",\"#472C7B\",\"#462D7C\",\"#462F7C\",\"#46307D\",\"#46317E\",\"#45327F\",\"#45347F\",\"#453580\",\"#453681\",\"#443781\",\"#443982\",\"#433A83\",\"#433B83\",\"#433C84\",\"#423D84\",\"#423E85\",\"#424085\",\"#414186\",\"#414286\",\"#404387\",\"#404487\",\"#3F4587\",\"#3F4788\",\"#3E4888\",\"#3E4989\",\"#3D4A89\",\"#3D4B89\",\"#3D4C89\",\"#3C4D8A\",\"#3C4E8A\",\"#3B508A\",\"#3B518A\",\"#3A528B\",\"#3A538B\",\"#39548B\",\"#39558B\",\"#38568B\",\"#38578C\",\"#37588C\",\"#37598C\",\"#365A8C\",\"#365B8C\",\"#355C8C\",\"#355D8C\",\"#345E8D\",\"#345F8D\",\"#33608D\",\"#33618D\",\"#32628D\",\"#32638D\",\"#31648D\",\"#31658D\",\"#31668D\",\"#30678D\",\"#30688D\",\"#2F698D\",\"#2F6A8D\",\"#2E6B8E\",\"#2E6C8E\",\"#2E6D8E\",\"#2D6E8E\",\"#2D6F8E\",\"#2C708E\",\"#2C718E\",\"#2C728E\",\"#2B738E\",\"#2B748E\",\"#2A758E\",\"#2A768E\",\"#2A778E\",\"#29788E\",\"#29798E\",\"#287A8E\",\"#287A8E\",\"#287B8E\",\"#277C8E\",\"#277D8E\",\"#277E8E\",\"#267F8E\",\"#26808E\",\"#26818E\",\"#25828E\",\"#25838D\",\"#24848D\",\"#24858D\",\"#24868D\",\"#23878D\",\"#23888D\",\"#23898D\",\"#22898D\",\"#228A8D\",\"#228B8D\",\"#218C8D\",\"#218D8C\",\"#218E8C\",\"#208F8C\",\"#20908C\",\"#20918C\",\"#1F928C\",\"#1F938B\",\"#1F948B\",\"#1F958B\",\"#1F968B\",\"#1E978A\",\"#1E988A\",\"#1E998A\",\"#1E998A\",\"#1E9A89\",\"#1E9B89\",\"#1E9C89\",\"#1E9D88\",\"#1E9E88\",\"#1E9F88\",\"#1EA087\",\"#1FA187\",\"#1FA286\",\"#1FA386\",\"#20A485\",\"#20A585\",\"#21A685\",\"#21A784\",\"#22A784\",\"#23A883\",\"#23A982\",\"#24AA82\",\"#25AB81\",\"#26AC81\",\"#27AD80\",\"#28AE7F\",\"#29AF7F\",\"#2AB07E\",\"#2BB17D\",\"#2CB17D\",\"#2EB27C\",\"#2FB37B\",\"#30B47A\",\"#32B57A\",\"#33B679\",\"#35B778\",\"#36B877\",\"#38B976\",\"#39B976\",\"#3BBA75\",\"#3DBB74\",\"#3EBC73\",\"#40BD72\",\"#42BE71\",\"#44BE70\",\"#45BF6F\",\"#47C06E\",\"#49C16D\",\"#4BC26C\",\"#4DC26B\",\"#4FC369\",\"#51C468\",\"#53C567\",\"#55C666\",\"#57C665\",\"#59C764\",\"#5BC862\",\"#5EC961\",\"#60C960\",\"#62CA5F\",\"#64CB5D\",\"#67CC5C\",\"#69CC5B\",\"#6BCD59\",\"#6DCE58\",\"#70CE56\",\"#72CF55\",\"#74D054\",\"#77D052\",\"#79D151\",\"#7CD24F\",\"#7ED24E\",\"#81D34C\",\"#83D34B\",\"#86D449\",\"#88D547\",\"#8BD546\",\"#8DD644\",\"#90D643\",\"#92D741\",\"#95D73F\",\"#97D83E\",\"#9AD83C\",\"#9DD93A\",\"#9FD938\",\"#A2DA37\",\"#A5DA35\",\"#A7DB33\",\"#AADB32\",\"#ADDC30\",\"#AFDC2E\",\"#B2DD2C\",\"#B5DD2B\",\"#B7DD29\",\"#BADE27\",\"#BDDE26\",\"#BFDF24\",\"#C2DF22\",\"#C5DF21\",\"#C7E01F\",\"#CAE01E\",\"#CDE01D\",\"#CFE11C\",\"#D2E11B\",\"#D4E11A\",\"#D7E219\",\"#DAE218\",\"#DCE218\",\"#DFE318\",\"#E1E318\",\"#E4E318\",\"#E7E419\",\"#E9E419\",\"#ECE41A\",\"#EEE51B\",\"#F1E51C\",\"#F3E51E\",\"#F6E61F\",\"#F8E621\",\"#FAE622\",\"#FDE724\"]},\"id\":\"15784\",\"type\":\"LinearColorMapper\"},{\"attributes\":{\"factors\":[\"Breakfast\",\"Tired\",\"PhoneTime\",\"PhoneReach\",\"Hours\",\"Enough\"]},\"id\":\"15790\",\"type\":\"FactorRange\"},{\"attributes\":{\"data\":{\"index\":[0,1,2,3,4,5,6,7,8,9,10,11,12,13,14,15,16,17,18,19,20,21,22,23,24,25,26,27,28,29,30,31,32,33,34,35],\"level_0\":[\"Enough\",\"Enough\",\"Enough\",\"Enough\",\"Enough\",\"Enough\",\"Hours\",\"Hours\",\"Hours\",\"Hours\",\"Hours\",\"Hours\",\"PhoneReach\",\"PhoneReach\",\"PhoneReach\",\"PhoneReach\",\"PhoneReach\",\"PhoneReach\",\"PhoneTime\",\"PhoneTime\",\"PhoneTime\",\"PhoneTime\",\"PhoneTime\",\"PhoneTime\",\"Tired\",\"Tired\",\"Tired\",\"Tired\",\"Tired\",\"Tired\",\"Breakfast\",\"Breakfast\",\"Breakfast\",\"Breakfast\",\"Breakfast\",\"Breakfast\"],\"level_1\":[\"Enough\",\"Hours\",\"PhoneReach\",\"PhoneTime\",\"Tired\",\"Breakfast\",\"Enough\",\"Hours\",\"PhoneReach\",\"PhoneTime\",\"Tired\",\"Breakfast\",\"Enough\",\"Hours\",\"PhoneReach\",\"PhoneTime\",\"Tired\",\"Breakfast\",\"Enough\",\"Hours\",\"PhoneReach\",\"PhoneTime\",\"Tired\",\"Breakfast\",\"Enough\",\"Hours\",\"PhoneReach\",\"PhoneTime\",\"Tired\",\"Breakfast\",\"Enough\",\"Hours\",\"PhoneReach\",\"PhoneTime\",\"Tired\",\"Breakfast\"],\"r\":{\"__ndarray__\":\"AAAAAAAA8D+OrsytSEXYP2CJFnd+Arc/mINr1bw9fT9jIT1AlfnaP/Wkrczggr0/jq7MrUhF2D8AAAAAAADwP0Et7A8li6s/41eZ932Vwz/s4B8Y/J/IP30be2mjR8w/YIkWd34Ctz9BLewPJYurPwAAAAAAAPA/tj3cuMqQwj8II61e6JKyP/2yiPPxvM4/mINr1bw9fT/jV5n3fZXDP7Y93LjKkMI/AAAAAAAA8D/07NJGB86hP+3NMniCP4A/YyE9QJX52j/s4B8Y/J/IPwgjrV7okrI/9OzSRgfOoT8AAAAAAADwP1G4N5aNQ9A/9aStzOCCvT99G3tpo0fMP/2yiPPxvM4/7c0yeII/gD9RuDeWjUPQPwAAAAAAAPA/\",\"dtype\":\"float64\",\"order\":\"little\",\"shape\":[36]}},\"selected\":{\"id\":\"16308\"},\"selection_policy\":{\"id\":\"16307\"}},\"id\":\"15783\",\"type\":\"ColumnDataSource\"},{\"attributes\":{\"fill_alpha\":{\"value\":0.1},\"fill_color\":{\"field\":\"r\",\"transform\":{\"id\":\"15784\"}},\"height\":{\"value\":1},\"line_alpha\":{\"value\":0.1},\"line_color\":{\"value\":null},\"width\":{\"value\":1},\"x\":{\"field\":\"level_0\"},\"y\":{\"field\":\"level_1\"}},\"id\":\"15818\",\"type\":\"Rect\"},{\"attributes\":{},\"id\":\"15800\",\"type\":\"CategoricalTicker\"},{\"attributes\":{},\"id\":\"16306\",\"type\":\"NoOverlap\"},{\"attributes\":{\"color_mapper\":{\"id\":\"15784\"},\"formatter\":{\"id\":\"15822\"},\"location\":[0,0],\"major_label_policy\":{\"id\":\"16306\"},\"ticker\":{\"id\":\"15821\"}},\"id\":\"15823\",\"type\":\"ColorBar\"},{\"attributes\":{},\"id\":\"16308\",\"type\":\"Selection\"},{\"attributes\":{},\"id\":\"15805\",\"type\":\"SaveTool\"},{\"attributes\":{},\"id\":\"15806\",\"type\":\"ResetTool\"},{\"attributes\":{},\"id\":\"15807\",\"type\":\"HelpTool\"},{\"attributes\":{\"overlay\":{\"id\":\"15808\"}},\"id\":\"15804\",\"type\":\"BoxZoomTool\"},{\"attributes\":{},\"id\":\"15803\",\"type\":\"WheelZoomTool\"},{\"attributes\":{\"data_source\":{\"id\":\"15783\"},\"glyph\":{\"id\":\"15817\"},\"hover_glyph\":null,\"muted_glyph\":null,\"nonselection_glyph\":{\"id\":\"15818\"},\"view\":{\"id\":\"15820\"}},\"id\":\"15819\",\"type\":\"GlyphRenderer\"},{\"attributes\":{},\"id\":\"16304\",\"type\":\"AllLabels\"},{\"attributes\":{},\"id\":\"16301\",\"type\":\"AllLabels\"},{\"attributes\":{\"active_multi\":null,\"tools\":[{\"id\":\"15802\"},{\"id\":\"15803\"},{\"id\":\"15804\"},{\"id\":\"15805\"},{\"id\":\"15806\"},{\"id\":\"15807\"}]},\"id\":\"15809\",\"type\":\"Toolbar\"},{\"attributes\":{},\"id\":\"15792\",\"type\":\"CategoricalScale\"},{\"attributes\":{\"fill_color\":{\"field\":\"r\",\"transform\":{\"id\":\"15784\"}},\"height\":{\"value\":1},\"line_color\":{\"value\":null},\"width\":{\"value\":1},\"x\":{\"field\":\"level_0\"},\"y\":{\"field\":\"level_1\"}},\"id\":\"15817\",\"type\":\"Rect\"},{\"attributes\":{},\"id\":\"16305\",\"type\":\"CategoricalTickFormatter\"},{\"attributes\":{},\"id\":\"15821\",\"type\":\"BasicTicker\"},{\"attributes\":{\"format\":\"%.1f\"},\"id\":\"15822\",\"type\":\"PrintfTickFormatter\"},{\"attributes\":{\"text\":\"correlation heatmap\"},\"id\":\"15786\",\"type\":\"Title\"},{\"attributes\":{},\"id\":\"16302\",\"type\":\"CategoricalTickFormatter\"}],\"root_ids\":[\"15785\"]},\"title\":\"Bokeh Application\",\"version\":\"2.3.3\"}};\n",
       "  var render_items = [{\"docid\":\"9015e6f4-b735-444e-b502-2f07930c7614\",\"root_ids\":[\"15785\"],\"roots\":{\"15785\":\"78b98fe7-ec26-41cb-ac35-66197a54c592\"}}];\n",
       "  root.Bokeh.embed.embed_items_notebook(docs_json, render_items);\n",
       "\n",
       "  }\n",
       "  if (root.Bokeh !== undefined) {\n",
       "    embed_document(root);\n",
       "  } else {\n",
       "    var attempts = 0;\n",
       "    var timer = setInterval(function(root) {\n",
       "      if (root.Bokeh !== undefined) {\n",
       "        clearInterval(timer);\n",
       "        embed_document(root);\n",
       "      } else {\n",
       "        attempts++;\n",
       "        if (attempts > 100) {\n",
       "          clearInterval(timer);\n",
       "          console.log(\"Bokeh: ERROR: Unable to run BokehJS code because BokehJS library is missing\");\n",
       "        }\n",
       "      }\n",
       "    }, 10, root)\n",
       "  }\n",
       "})(window);"
      ],
      "application/vnd.bokehjs_exec.v0+json": ""
     },
     "metadata": {
      "application/vnd.bokehjs_exec.v0+json": {
       "id": "15785"
      }
     },
     "output_type": "display_data"
    }
   ],
   "source": [
    "#plot a heatmap\n",
    "from bokeh.models import (BasicTicker, ColorBar, ColumnDataSource,\n",
    "                          LinearColorMapper, PrintfTickFormatter,)\n",
    "from bokeh.transform import transform\n",
    "from bokeh.palettes import Viridis256\n",
    "\n",
    "source = ColumnDataSource(dfc)\n",
    "\n",
    "#create colormapper \n",
    "mapper = LinearColorMapper(palette=Viridis256, low=dfc.r.min(), high=dfc.r.max())\n",
    "\n",
    "#create plot\n",
    "p = figure(title=\"correlation heatmap\", plot_width=500, plot_height=450,\n",
    "           x_range=x_range, y_range=y_range, x_axis_location=\"above\", toolbar_location=None)\n",
    "\n",
    "#use mapper to fill the rectangles in the plot\n",
    "p.rect(x=\"level_0\", y=\"level_1\", width=1, height=1, source=source,\n",
    "       line_color=None, fill_color=transform('r', mapper))\n",
    "\n",
    "#create and add colorbar to the right\n",
    "color_bar = ColorBar(color_mapper=mapper, location=(0, 0),\n",
    "                     ticker=BasicTicker(desired_num_ticks=len(x_range)), \n",
    "                     formatter=PrintfTickFormatter(format=\"%.1f\"))\n",
    "p.add_layout(color_bar, 'right')\n",
    "\n",
    "#draw axis\n",
    "p.axis.axis_line_color = None\n",
    "p.axis.major_tick_line_color = None\n",
    "p.axis.major_label_text_font_size = \"10px\"\n",
    "p.axis.major_label_standoff = 0\n",
    "p.xaxis.major_label_orientation = 1.0\n",
    "\n",
    "#show\n",
    "show(p)"
   ]
  },
  {
   "cell_type": "markdown",
   "metadata": {},
   "source": [
    "From the heatmap we can't determine a clear relation between two variables. This is probably because it is mostly categorical data."
   ]
  },
  {
   "cell_type": "markdown",
   "metadata": {},
   "source": [
    "---"
   ]
  },
  {
   "cell_type": "markdown",
   "metadata": {},
   "source": [
    "<a name='2'></a>\n",
    "## Part 3: Check Assumptions\n",
    "\n",
    "Before we answer the research question with ANOVA we need to check the following assumptions:\n",
    "\n",
    "1. ANOVA assumes that the dependent variable is normaly distributed\n",
    "2. ANOVA also assumes homogeneity of variance\n",
    "3. ANOVA also assumes that the observations are independent of each other. Most of the time we need domain knowledge and experiment setup descriptions to estimate this assumption\n",
    "\n",
    "We are going to do this graphically and statistically. "
   ]
  },
  {
   "cell_type": "markdown",
   "metadata": {},
   "source": [
    "<a name='ex-31'></a>\n",
    "### Check normality (10 pt)\n",
    "\n",
    "<ul><li>\n",
    "Plot the distribution of the dependent variable. Add a vertical line at the position of the average. Add a vertical line for the robuust estimation. Add the normal distribution line to the plot. Comment on the normallity of the data. Do you want the full points? Plot with bokeh!</li>\n",
    "\n",
    "<li>Use a Shapiro-Wilk Test or an Anderson-Darling test to check statistically</li></ul>\n",
    "\n",
    "\n",
    "<details>    \n",
    "<summary>\n",
    "    <font size=\"3\" color=\"darkgreen\"><b>Hints</b></font>\n",
    "</summary>\n",
    "    <ul><li>check the code of lesson 1 DS1 bayesian statistics</li>\n",
    "        <li>heart_failure case of gitbook uses bokeh histograms</li>\n",
    "</ul>\n",
    "</details>"
   ]
  },
  {
   "cell_type": "code",
   "execution_count": 139,
   "metadata": {},
   "outputs": [],
   "source": [
    "from scipy.stats import iqr # iqr is the Interquartile Range function\n",
    "from scipy.stats import norm"
   ]
  },
  {
   "cell_type": "code",
   "execution_count": 140,
   "metadata": {},
   "outputs": [],
   "source": [
    "def Q_Q_Plot(y, est = 'robust', **kwargs):\n",
    "    \n",
    "    ################################################################################\n",
    "    #\n",
    "    # Arguments:\n",
    "    #\n",
    "    # y                  data array\n",
    "    # est                Estimation method for normal parameters mu and sigma:\n",
    "    #                    either 'robust' (default), or 'ML' (Maximum Likelihood),\n",
    "    #                    or 'preset' (given values)\n",
    "    # If est='preset' than the optional parameters mu, sigma must be provided\n",
    "    #\n",
    "    # Author:            M.E.F. Apol\n",
    "    # Date:              2020-01-06\n",
    "    #\n",
    "    ################################################################################\n",
    "    \n",
    "    import numpy as np\n",
    "    from scipy.stats import iqr # iqr is the Interquartile Range function\n",
    "    import matplotlib.pyplot as plt\n",
    "    \n",
    "    # First, get the optional arguments mu and sigma:\n",
    "    mu_0 = kwargs.get('mu', None)\n",
    "    sigma_0 = kwargs.get('sigma', None)\n",
    "    \n",
    "    n = len(y)\n",
    "    \n",
    "    # Calculate order statistic:\n",
    "    y_os = np.sort(y)\n",
    "  \n",
    "    # Estimates of mu and sigma:\n",
    "    # ML estimates:\n",
    "    mu_ML = y.mean()\n",
    "    sigma2_ML = np.mean((y.values - 6.66)**2, where=~np.isnan(y))\n",
    "    \n",
    "    sigma_ML = np.sqrt(sigma2_ML) # biased estimate\n",
    "    s2 = n/(n-1) * sigma2_ML\n",
    "    s = np.sqrt(s2) # unbiased estimate\n",
    "    # Robust estimates:\n",
    "    mu_R = y.median()\n",
    "    sigma_R = iqr(y, nan_policy = 'omit')/1.349\n",
    "\n",
    "    # Assign values of mu and sigma for z-transform:\n",
    "    if est == 'ML':\n",
    "        mu, sigma = mu_ML, s\n",
    "    elif est == 'robust':\n",
    "        mu, sigma = mu_R, sigma_R\n",
    "    elif est == 'preset':\n",
    "        mu, sigma = mu_0, sigma_0\n",
    "    else:\n",
    "        print('Wrong estimation method chosen!')\n",
    "        \n",
    "    print('Estimation method: ' + est)\n",
    "    print('mu = ',mu,', sigma = ',sigma)\n",
    "        \n",
    "    # Perform z-transform: sample quantiles z.i\n",
    "    z_i = (y_os - mu)/sigma\n",
    "\n",
    "    # Calculate cumulative probabilities p.i:\n",
    "    i = np.array(range(n)) + 1\n",
    "    p_i = (i - 0.5)/n\n",
    "\n",
    "    # Calculate theoretical quantiles z.(i):\n",
    "    from scipy.stats import norm\n",
    "    z_th = norm.ppf(p_i, 0, 1)\n",
    "\n",
    "    # Calculate SE or theoretical quantiles:\n",
    "    SE_z_th = (1/norm.pdf(z_th, 0, 1)) * np.sqrt((p_i * (1 - p_i)) / n)\n",
    "\n",
    "    # Calculate 95% CI of diagonal line:\n",
    "    CI_upper = z_th + 1.96 * SE_z_th\n",
    "    CI_lower = z_th - 1.96 * SE_z_th\n",
    "\n",
    "    return z_th, z_i, CI_lower, CI_upper"
   ]
  },
  {
   "cell_type": "code",
   "execution_count": 141,
   "metadata": {},
   "outputs": [
    {
     "name": "stdout",
     "output_type": "stream",
     "text": [
      "Estimation method: ML\n",
      "mu =  6.66 , sigma =  1.4298403982110857\n"
     ]
    }
   ],
   "source": [
    "# Get Q-Q plot data\n",
    "y = sleep_data.Hours\n",
    "\n",
    "z_th, z_i, CI_lower, CI_upper = Q_Q_Plot(y, est = 'ML')"
   ]
  },
  {
   "cell_type": "markdown",
   "metadata": {},
   "source": [
    "### Q-Q plot"
   ]
  },
  {
   "cell_type": "code",
   "execution_count": 142,
   "metadata": {},
   "outputs": [
    {
     "data": {
      "text/html": [
       "\n",
       "\n",
       "\n",
       "\n",
       "\n",
       "\n",
       "  <div class=\"bk-root\" id=\"70f96588-054f-45f2-9b9d-c093b2935021\" data-root-id=\"16365\"></div>\n"
      ]
     },
     "metadata": {},
     "output_type": "display_data"
    },
    {
     "data": {
      "application/javascript": [
       "(function(root) {\n",
       "  function embed_document(root) {\n",
       "    \n",
       "  var docs_json = {\"dd7ebdcd-a196-4689-82c5-51834cf3b7b3\":{\"defs\":[{\"extends\":null,\"module\":null,\"name\":\"ReactiveHTML1\",\"overrides\":[],\"properties\":[]},{\"extends\":null,\"module\":null,\"name\":\"FlexBox1\",\"overrides\":[],\"properties\":[{\"default\":\"flex-start\",\"kind\":null,\"name\":\"align_content\"},{\"default\":\"flex-start\",\"kind\":null,\"name\":\"align_items\"},{\"default\":\"row\",\"kind\":null,\"name\":\"flex_direction\"},{\"default\":\"wrap\",\"kind\":null,\"name\":\"flex_wrap\"},{\"default\":\"flex-start\",\"kind\":null,\"name\":\"justify_content\"}]},{\"extends\":null,\"module\":null,\"name\":\"TemplateActions1\",\"overrides\":[],\"properties\":[{\"default\":0,\"kind\":null,\"name\":\"open_modal\"},{\"default\":0,\"kind\":null,\"name\":\"close_modal\"}]},{\"extends\":null,\"module\":null,\"name\":\"MaterialTemplateActions1\",\"overrides\":[],\"properties\":[{\"default\":0,\"kind\":null,\"name\":\"open_modal\"},{\"default\":0,\"kind\":null,\"name\":\"close_modal\"}]}],\"roots\":{\"references\":[{\"attributes\":{\"below\":[{\"id\":\"16376\"}],\"center\":[{\"id\":\"16379\"},{\"id\":\"16383\"},{\"id\":\"16411\"}],\"height\":400,\"left\":[{\"id\":\"16380\"}],\"renderers\":[{\"id\":\"16400\"},{\"id\":\"16416\"},{\"id\":\"16433\"},{\"id\":\"16452\"}],\"title\":{\"id\":\"16366\"},\"toolbar\":{\"id\":\"16390\"},\"width\":750,\"x_range\":{\"id\":\"16368\"},\"x_scale\":{\"id\":\"16372\"},\"y_range\":{\"id\":\"16370\"},\"y_scale\":{\"id\":\"16374\"}},\"id\":\"16365\",\"subtype\":\"Figure\",\"type\":\"Plot\"},{\"attributes\":{},\"id\":\"16384\",\"type\":\"PanTool\"},{\"attributes\":{},\"id\":\"16387\",\"type\":\"ZoomOutTool\"},{\"attributes\":{\"source\":{\"id\":\"16449\"}},\"id\":\"16453\",\"type\":\"CDSView\"},{\"attributes\":{\"data\":{\"x\":{\"__ndarray__\":\"emN/lE6pBMCjSxfuYmwBwEavhBunfv+/VLx52kIi/b80hpVXyEb7vx9BKBs4uvm/1GqGMkBj+L8uakQOMjP3vyJRJ3O+IPa/lQfwn5ol9b9akhNkUD30vwjMSOKWZPO/XEc9I/CY8r8ilDf8a9jxv3OrGnOAIfG/RVCWH+9y8L8RQQZzZZfvv8pdJfbjVe6/51OkLOwf7b838P5BR/Trv74prXjq0eq/l93G9+636b9SpFhri6XovzcBkv8Omue/AN12Yd2U5r9JilKHa5Xlv+FmkRM9m+S/74c+MOKl47+hmbTJ9bTiv+H/HRUcyOG/l+DUUwHf4L9I1gqQsfLfv2LP6KK3Ld6/XAhlVpJu3L/ALvSIyLTav4XiK2Dp/9i/WUoiTYtP17/SkUEwS6PVvy5oiZfL+tO/Wo4XE7RV0r/b94KcsLPQv8IUSRziKM6/rOm4T1Hvyr+BCII+G7rHvwVI4HKxiMS/Rmb12Ylawb8upUwqPF68v83bRq3VC7a/IKQFHL15r78PgfDHseCiv6fBTYpLKom/p8FNiksqiT/7gPDHseCiPyCkBRy9ea8/zdtGrdULtj8kpUwqPF68P0tm9dmJWsE/BUjgcrGIxD98CII+G7rHP7HpuE9R78o/whRJHOIozj/Y94KcsLPQP12OFxO0VdI/LmiJl8v60z/SkUEwS6PVP1xKIk2LT9c/heIrYOn/2D/ALvSIyLTaP1kIZVaSbtw/Ys/oorct3j9I1gqQsfLfP5bg1FMB3+A/4v8dFRzI4T+hmbTJ9bTiP+6HPjDipeM/4maREz2b5D9JilKHa5XlPwDddmHdlOY/NwGS/w6a5z9SpFhri6XoP5fdxvfut+k/wCmteOrR6j838P5BR/TrP+dTpCzsH+0/zF0l9uNV7j8RQQZzZZfvP0VQlh/vcvA/casac4Ah8T8ilDf8a9jxP1xHPSPwmPI/CMxI4pZk8z9akhNkUD30P5UH8J+aJfU/IlEnc74g9j8wakQOMjP3P9RqhjJAY/g/HUEoGzi6+T82hpVXyEb7P1S8edpCIv0/RK+EG6d+/z+lSxfuYmwBQHxjf5ROqQRA\",\"dtype\":\"float64\",\"order\":\"little\",\"shape\":[102]},\"y\":{\"__ndarray__\":\"MNVBpaUSCsAw1UGlpRIKwCdgkLv7w/2/J2CQu/vD/b8nYJC7+8P9vydgkLv7w/2/C7sW9FOT8r8Luxb0U5Pyvwu7FvRTk/K/C7sW9FOT8r8Luxb0U5Pyvwu7FvRTk/K/C7sW9FOT8r8Luxb0U5Pyvwu7FvRTk/K/C7sW9FOT8r8Luxb0U5Pyvwu7FvRTk/K/vFd0srCK3b+8V3SysIrdv7xXdLKwit2/vFd0srCK3b+8V3SysIrdv7xXdLKwit2/vFd0srCK3b+8V3SysIrdv7xXdLKwit2/vFd0srCK3b+8V3SysIrdv7xXdLKwit2/vFd0srCK3b+8V3SysIrdv7xXdLKwit2/vFd0srCK3b+8V3SysIrdv7xXdLKwit2/vFd0srCK3b+8V3SysIrdv7xXdLKwit2/vFd0srCK3b+8V3SysIrdv2d55Nbcb84/Z3nk1txvzj9neeTW3G/OP2d55Nbcb84/Z3nk1txvzj9neeTW3G/OP2d55Nbcb84/Z3nk1txvzj9neeTW3G/OP2d55Nbcb84/Z3nk1txvzj9neeTW3G/OP2d55Nbcb84/Z3nk1txvzj9neeTW3G/OP2d55Nbcb84/Z3nk1txvzj9neeTW3G/OP2d55Nbcb84/Z3nk1txvzj9neeTW3G/OP2d55Nbcb84/Z3nk1txvzj9neeTW3G/OP2d55Nbcb84/Z3nk1txvzj9neeTW3G/OP2d55Nbcb84/Z3nk1txvzj9neeTW3G/OP2d55Nbcb84/Z3nk1txvzj9neeTW3G/OP2d55Nbcb84/kmisxEb97T+SaKzERv3tP5JorMRG/e0/kmisxEb97T+SaKzERv3tP5JorMRG/e0/kmisxEb97T+SaKzERv3tP5JorMRG/e0/kmisxEb97T+SaKzERv3tP5JorMRG/e0/kmisxEb97T+SaKzERv3tP5JorMRG/e0/kmisxEb97T9l2c8pSy/6P2XZzylLL/o/ZdnPKUsv+j9l2c8pSy/6P2XZzylLL/o/ZdnPKUsv+j9l2c8pSy/6P2XZzylLL/o/QL+kePmvAkAAAAAAAAD4fwAAAAAAAPh/\",\"dtype\":\"float64\",\"order\":\"little\",\"shape\":[102]}},\"selected\":{\"id\":\"16410\"},\"selection_policy\":{\"id\":\"16409\"}},\"id\":\"16397\",\"type\":\"ColumnDataSource\"},{\"attributes\":{\"line_color\":\"red\",\"line_dash\":[6,4,2,4],\"x\":{\"field\":\"x\"},\"y\":{\"field\":\"y\"}},\"id\":\"16414\",\"type\":\"Line\"},{\"attributes\":{},\"id\":\"16427\",\"type\":\"UnionRenderers\"},{\"attributes\":{\"data_source\":{\"id\":\"16413\"},\"glyph\":{\"id\":\"16414\"},\"hover_glyph\":null,\"muted_glyph\":null,\"nonselection_glyph\":{\"id\":\"16415\"},\"view\":{\"id\":\"16417\"}},\"id\":\"16416\",\"type\":\"GlyphRenderer\"},{\"attributes\":{\"dimensions\":\"height\"},\"id\":\"16388\",\"type\":\"ZoomInTool\"},{\"attributes\":{},\"id\":\"16370\",\"type\":\"DataRange1d\"},{\"attributes\":{\"click_policy\":\"hide\",\"items\":[{\"id\":\"16412\"},{\"id\":\"16429\"},{\"id\":\"16448\"}],\"location\":\"top_left\"},\"id\":\"16411\",\"type\":\"Legend\"},{\"attributes\":{\"source\":{\"id\":\"16413\"}},\"id\":\"16417\",\"type\":\"CDSView\"},{\"attributes\":{},\"id\":\"16410\",\"type\":\"Selection\"},{\"attributes\":{\"callback\":null},\"id\":\"16385\",\"type\":\"HoverTool\"},{\"attributes\":{},\"id\":\"16467\",\"type\":\"UnionRenderers\"},{\"attributes\":{\"axis\":{\"id\":\"16376\"},\"ticker\":null},\"id\":\"16379\",\"type\":\"Grid\"},{\"attributes\":{\"data\":{\"x\":{\"__ndarray__\":\"emN/lE6pBMCjSxfuYmwBwEavhBunfv+/VLx52kIi/b80hpVXyEb7vx9BKBs4uvm/1GqGMkBj+L8uakQOMjP3vyJRJ3O+IPa/lQfwn5ol9b9akhNkUD30vwjMSOKWZPO/XEc9I/CY8r8ilDf8a9jxv3OrGnOAIfG/RVCWH+9y8L8RQQZzZZfvv8pdJfbjVe6/51OkLOwf7b838P5BR/Trv74prXjq0eq/l93G9+636b9SpFhri6XovzcBkv8Omue/AN12Yd2U5r9JilKHa5Xlv+FmkRM9m+S/74c+MOKl47+hmbTJ9bTiv+H/HRUcyOG/l+DUUwHf4L9I1gqQsfLfv2LP6KK3Ld6/XAhlVpJu3L/ALvSIyLTav4XiK2Dp/9i/WUoiTYtP17/SkUEwS6PVvy5oiZfL+tO/Wo4XE7RV0r/b94KcsLPQv8IUSRziKM6/rOm4T1Hvyr+BCII+G7rHvwVI4HKxiMS/Rmb12Ylawb8upUwqPF68v83bRq3VC7a/IKQFHL15r78PgfDHseCiv6fBTYpLKom/p8FNiksqiT/7gPDHseCiPyCkBRy9ea8/zdtGrdULtj8kpUwqPF68P0tm9dmJWsE/BUjgcrGIxD98CII+G7rHP7HpuE9R78o/whRJHOIozj/Y94KcsLPQP12OFxO0VdI/LmiJl8v60z/SkUEwS6PVP1xKIk2LT9c/heIrYOn/2D/ALvSIyLTaP1kIZVaSbtw/Ys/oorct3j9I1gqQsfLfP5bg1FMB3+A/4v8dFRzI4T+hmbTJ9bTiP+6HPjDipeM/4maREz2b5D9JilKHa5XlPwDddmHdlOY/NwGS/w6a5z9SpFhri6XoP5fdxvfut+k/wCmteOrR6j838P5BR/TrP+dTpCzsH+0/zF0l9uNV7j8RQQZzZZfvP0VQlh/vcvA/casac4Ah8T8ilDf8a9jxP1xHPSPwmPI/CMxI4pZk8z9akhNkUD30P5UH8J+aJfU/IlEnc74g9j8wakQOMjP3P9RqhjJAY/g/HUEoGzi6+T82hpVXyEb7P1S8edpCIv0/RK+EG6d+/z+lSxfuYmwBQHxjf5ROqQRA\",\"dtype\":\"float64\",\"order\":\"little\",\"shape\":[102]},\"y\":{\"__ndarray__\":\"sBc6RDhLDMAfsQm/Z3EGwO10JdB27APA0DkB585IAsBC6JjdUg4BwLhG1S3UEADAfp92h1l2/r+1TKSoMgP9v75K+tfDufu/kIKIAY2Q+r+uz8vX94D5vxx9Y5xChvi/cz5Vz+Cc979A4IBOGsL2v0j05qjN8/W/BOpZVUcw9b+YXl3YJXb0vx5ysTdGxPO/w7Rq7bUZ87/c5HmYqHXyvyKx/0dw1/G/E4jJoHc+8b9ll0taParwv5mZmrhQGvC/2oodh50c77/B24YawAvuv5jkLc1tAe2/n9AN0hv9678bBfOGTf7qv1rKAHiSBOq/6PnPt4QP6b/WbqZ7xx7ov4jl5+4FMue/CCKfM/JI5r9GAhaIRGPlv0KfD4u6gOS/2s53mRah47+ayVVBH8TivxwElcae6eG/eMLTtmIR4b/0w+OJOzvgv6YhG5r4zd6/0nnvrvQo3b92w6kMGofbv06RYP8a6Nm/vES59axL2L+0O1cbiLHWvx5dZPtmGdW/xv3pKQaD078LoNfyI+7Rvzg0tA2AWtC/PLAeqraPzb+U/7YB72vKv3sp0cUtSce/cN6BSfgmxL9A0mEM1ATBv9R5D2+MxLu/IiUBMqZ9tb+81z1x9meuvyyBtPkazaG/cJxBus+ihL9Q+cynRB2OP0C+PMQVRaQ/kCCjh2aJsD++QV53X/m2PwLcU52lc70/Cg1xVLv8wT/osXgDEEbFP0qZF4uAlsg/ZqcD0Mbuyz/GnZFRqE/PP4qOs9/7XNE/0Gp2ZEsX0z9OXOwYPNfUP3x+3hxRndY/VdLpsxhq2D+icTzoLT7aP0xeoHc6Gtw/eZ7dG/n+3T+1MzREOO3fPwir+q3u8uA/OvFaYfT04T+2FgpTPf3iP0c+c35sDOQ/WtfnfDsj5T/yxFE1f0LmPw1tpdMta+c/OMWcemae6D8JkNxTe93pP4qgSu7+Kes/6TVcUNaF7D8NqrbgUfPtPzQZr3xQde8/hldUDrmH8D+oh+RzMWPxPyo2lt0mUPI/zvSl2sdS8z/mO/nz6nD0PwgF8ebnsvU/sHS+lmAk9z9SzEk6vM74P4leicnJDvo/\",\"dtype\":\"float64\",\"order\":\"little\",\"shape\":[102]}},\"selected\":{\"id\":\"16447\"},\"selection_policy\":{\"id\":\"16446\"}},\"id\":\"16430\",\"type\":\"ColumnDataSource\"},{\"attributes\":{\"fill_alpha\":{\"value\":0.7},\"fill_color\":{\"value\":\"black\"},\"line_alpha\":{\"value\":0.7},\"marker\":{\"value\":\"dot\"},\"size\":{\"value\":30},\"x\":{\"field\":\"x\"},\"y\":{\"field\":\"y\"}},\"id\":\"16398\",\"type\":\"Scatter\"},{\"attributes\":{\"label\":{\"value\":\"experimental data\"},\"renderers\":[{\"id\":\"16400\"}]},\"id\":\"16412\",\"type\":\"LegendItem\"},{\"attributes\":{},\"id\":\"16405\",\"type\":\"BasicTickFormatter\"},{\"attributes\":{\"dimensions\":\"height\"},\"id\":\"16389\",\"type\":\"ZoomOutTool\"},{\"attributes\":{},\"id\":\"16468\",\"type\":\"Selection\"},{\"attributes\":{},\"id\":\"16386\",\"type\":\"ZoomInTool\"},{\"attributes\":{},\"id\":\"16374\",\"type\":\"LinearScale\"},{\"attributes\":{\"data_source\":{\"id\":\"16430\"},\"glyph\":{\"id\":\"16431\"},\"hover_glyph\":null,\"muted_glyph\":null,\"nonselection_glyph\":{\"id\":\"16432\"},\"view\":{\"id\":\"16434\"}},\"id\":\"16433\",\"type\":\"GlyphRenderer\"},{\"attributes\":{\"active_multi\":null,\"tools\":[{\"id\":\"16384\"},{\"id\":\"16385\"},{\"id\":\"16386\"},{\"id\":\"16387\"},{\"id\":\"16388\"},{\"id\":\"16389\"}]},\"id\":\"16390\",\"type\":\"Toolbar\"},{\"attributes\":{},\"id\":\"16372\",\"type\":\"LinearScale\"},{\"attributes\":{\"axis\":{\"id\":\"16380\"},\"dimension\":1,\"ticker\":null},\"id\":\"16383\",\"type\":\"Grid\"},{\"attributes\":{\"line_alpha\":0.1,\"line_color\":\"blue\",\"line_dash\":[6,4,2,4],\"x\":{\"field\":\"x\"},\"y\":{\"field\":\"y\"}},\"id\":\"16432\",\"type\":\"Line\"},{\"attributes\":{},\"id\":\"16407\",\"type\":\"AllLabels\"},{\"attributes\":{},\"id\":\"16377\",\"type\":\"BasicTicker\"},{\"attributes\":{\"data\":{\"x\":{\"__ndarray__\":\"emN/lE6pBMCjSxfuYmwBwEavhBunfv+/VLx52kIi/b80hpVXyEb7vx9BKBs4uvm/1GqGMkBj+L8uakQOMjP3vyJRJ3O+IPa/lQfwn5ol9b9akhNkUD30vwjMSOKWZPO/XEc9I/CY8r8ilDf8a9jxv3OrGnOAIfG/RVCWH+9y8L8RQQZzZZfvv8pdJfbjVe6/51OkLOwf7b838P5BR/Trv74prXjq0eq/l93G9+636b9SpFhri6XovzcBkv8Omue/AN12Yd2U5r9JilKHa5Xlv+FmkRM9m+S/74c+MOKl47+hmbTJ9bTiv+H/HRUcyOG/l+DUUwHf4L9I1gqQsfLfv2LP6KK3Ld6/XAhlVpJu3L/ALvSIyLTav4XiK2Dp/9i/WUoiTYtP17/SkUEwS6PVvy5oiZfL+tO/Wo4XE7RV0r/b94KcsLPQv8IUSRziKM6/rOm4T1Hvyr+BCII+G7rHvwVI4HKxiMS/Rmb12Ylawb8upUwqPF68v83bRq3VC7a/IKQFHL15r78PgfDHseCiv6fBTYpLKom/p8FNiksqiT/7gPDHseCiPyCkBRy9ea8/zdtGrdULtj8kpUwqPF68P0tm9dmJWsE/BUjgcrGIxD98CII+G7rHP7HpuE9R78o/whRJHOIozj/Y94KcsLPQP12OFxO0VdI/LmiJl8v60z/SkUEwS6PVP1xKIk2LT9c/heIrYOn/2D/ALvSIyLTaP1kIZVaSbtw/Ys/oorct3j9I1gqQsfLfP5bg1FMB3+A/4v8dFRzI4T+hmbTJ9bTiP+6HPjDipeM/4maREz2b5D9JilKHa5XlPwDddmHdlOY/NwGS/w6a5z9SpFhri6XoP5fdxvfut+k/wCmteOrR6j838P5BR/TrP+dTpCzsH+0/zF0l9uNV7j8RQQZzZZfvP0VQlh/vcvA/casac4Ah8T8ilDf8a9jxP1xHPSPwmPI/CMxI4pZk8z9akhNkUD30P5UH8J+aJfU/IlEnc74g9j8wakQOMjP3P9RqhjJAY/g/HUEoGzi6+T82hpVXyEb7P1S8edpCIv0/RK+EG6d+/z+lSxfuYmwBQHxjf5ROqQRA\",\"dtype\":\"float64\",\"order\":\"little\",\"shape\":[102]},\"y\":{\"__ndarray__\":\"h16JyckO+r9OzEk6vM74v7J0vpZgJPe/CAXx5uey9b/kO/nz6nD0v870pdrHUvO/KjaW3SZQ8r+nh+RzMWPxv4ZXVA65h/C/NBmvfFB1778MqrbgUfPtv+k1XFDWhey/iqBK7v4p678IkNxTe93pvzzFnHpmnui/DW2l0y1r57/yxFE1f0Lmv1jX53w7I+W/SD5zfmwM5L+2FgpTPf3ivzjxWmH09OG/CKv6re7y4L+1MzREOO3fv3me3Rv5/t2/TF6gdzoa3L+icTzoLT7av1PS6bMYati/fn7eHFGd1r9OXOwYPNfUv89qdmRLF9O/i46z3/tc0b/GnZFRqE/Pv2anA9DG7su/UJkXi4CWyL/osXgDEEbFvwoNcVS7/MG/9ttTnaVzvb++QV53X/m2v5Ago4dmibC/IL48xBVFpL+w+cynRB2Ov3CcQbrPooQ/MIG0+RrNoT+o1z1x9meuPyIlATKmfbU/2nkPb4zEuz870mEM1ATBP3DegUn4JsQ/eynRxS1Jxz+O/7YB72vKPzywHqq2j80/ODS0DYBa0D8JoNfyI+7RP8b96SkGg9M/Hl1k+2YZ1T+yO1cbiLHWP8BEufWsS9g/TpFg/xro2T90w6kMGofbP9Z57670KN0/piEbmvjN3j/zw+OJOzvgP3nC07ZiEeE/HASVxp7p4T+ayVVBH8TiP9zOd5kWoeM/Qp8Pi7qA5D9GAhaIRGPlPwYinzPySOY/iOXn7gUy5z/WbqZ7xx7oP+f5z7eED+k/XMoAeJIE6j8bBfOGTf7qP57QDdIb/es/muQtzW0B7T/B24YawAvuP9qKHYedHO8/mZmauFAa8D9ll0taParwPxOIyaB3PvE/I7H/R3DX8T/c5HmYqHXyP8S0au21GfM/H3KxN0bE8z+YXl3YJXb0PwTqWVVHMPU/RvTmqM3z9T9A4IBOGsL2P3M+Vc/gnPc/HH1jnEKG+D+uz8vX94D5P5CCiAGNkPo/vkr618O5+z+4TKSoMgP9P36fdodZdv4/tkbVLdQQAEBD6JjdUg4BQNA5AefOSAJA7HQl0HbsA0AhsQm/Z3EGQLQXOkQ4SwxA\",\"dtype\":\"float64\",\"order\":\"little\",\"shape\":[102]}},\"selected\":{\"id\":\"16468\"},\"selection_policy\":{\"id\":\"16467\"}},\"id\":\"16449\",\"type\":\"ColumnDataSource\"},{\"attributes\":{},\"id\":\"16381\",\"type\":\"BasicTicker\"},{\"attributes\":{},\"id\":\"16404\",\"type\":\"AllLabels\"},{\"attributes\":{},\"id\":\"16409\",\"type\":\"UnionRenderers\"},{\"attributes\":{},\"id\":\"16428\",\"type\":\"Selection\"},{\"attributes\":{},\"id\":\"16368\",\"type\":\"DataRange1d\"},{\"attributes\":{\"line_color\":\"blue\",\"line_dash\":[6,4,2,4],\"x\":{\"field\":\"x\"},\"y\":{\"field\":\"y\"}},\"id\":\"16431\",\"type\":\"Line\"},{\"attributes\":{\"source\":{\"id\":\"16397\"}},\"id\":\"16401\",\"type\":\"CDSView\"},{\"attributes\":{\"source\":{\"id\":\"16430\"}},\"id\":\"16434\",\"type\":\"CDSView\"},{\"attributes\":{\"label\":{\"value\":\"95% CI\"},\"renderers\":[{\"id\":\"16433\"},{\"id\":\"16452\"}]},\"id\":\"16448\",\"type\":\"LegendItem\"},{\"attributes\":{},\"id\":\"16408\",\"type\":\"BasicTickFormatter\"},{\"attributes\":{\"axis_label\":\"Sample quantiles, Zi\",\"formatter\":{\"id\":\"16405\"},\"major_label_policy\":{\"id\":\"16404\"},\"ticker\":{\"id\":\"16381\"}},\"id\":\"16380\",\"type\":\"LinearAxis\"},{\"attributes\":{\"fill_alpha\":{\"value\":0.1},\"fill_color\":{\"value\":\"black\"},\"line_alpha\":{\"value\":0.1},\"marker\":{\"value\":\"dot\"},\"size\":{\"value\":30},\"x\":{\"field\":\"x\"},\"y\":{\"field\":\"y\"}},\"id\":\"16399\",\"type\":\"Scatter\"},{\"attributes\":{\"data_source\":{\"id\":\"16397\"},\"glyph\":{\"id\":\"16398\"},\"hover_glyph\":null,\"muted_glyph\":null,\"nonselection_glyph\":{\"id\":\"16399\"},\"view\":{\"id\":\"16401\"}},\"id\":\"16400\",\"type\":\"GlyphRenderer\"},{\"attributes\":{\"line_color\":\"blue\",\"line_dash\":[6,4,2,4],\"x\":{\"field\":\"x\"},\"y\":{\"field\":\"y\"}},\"id\":\"16450\",\"type\":\"Line\"},{\"attributes\":{\"line_alpha\":0.1,\"line_color\":\"blue\",\"line_dash\":[6,4,2,4],\"x\":{\"field\":\"x\"},\"y\":{\"field\":\"y\"}},\"id\":\"16451\",\"type\":\"Line\"},{\"attributes\":{\"data\":{\"x\":{\"__ndarray__\":\"emN/lE6pBMCjSxfuYmwBwEavhBunfv+/VLx52kIi/b80hpVXyEb7vx9BKBs4uvm/1GqGMkBj+L8uakQOMjP3vyJRJ3O+IPa/lQfwn5ol9b9akhNkUD30vwjMSOKWZPO/XEc9I/CY8r8ilDf8a9jxv3OrGnOAIfG/RVCWH+9y8L8RQQZzZZfvv8pdJfbjVe6/51OkLOwf7b838P5BR/Trv74prXjq0eq/l93G9+636b9SpFhri6XovzcBkv8Omue/AN12Yd2U5r9JilKHa5Xlv+FmkRM9m+S/74c+MOKl47+hmbTJ9bTiv+H/HRUcyOG/l+DUUwHf4L9I1gqQsfLfv2LP6KK3Ld6/XAhlVpJu3L/ALvSIyLTav4XiK2Dp/9i/WUoiTYtP17/SkUEwS6PVvy5oiZfL+tO/Wo4XE7RV0r/b94KcsLPQv8IUSRziKM6/rOm4T1Hvyr+BCII+G7rHvwVI4HKxiMS/Rmb12Ylawb8upUwqPF68v83bRq3VC7a/IKQFHL15r78PgfDHseCiv6fBTYpLKom/p8FNiksqiT/7gPDHseCiPyCkBRy9ea8/zdtGrdULtj8kpUwqPF68P0tm9dmJWsE/BUjgcrGIxD98CII+G7rHP7HpuE9R78o/whRJHOIozj/Y94KcsLPQP12OFxO0VdI/LmiJl8v60z/SkUEwS6PVP1xKIk2LT9c/heIrYOn/2D/ALvSIyLTaP1kIZVaSbtw/Ys/oorct3j9I1gqQsfLfP5bg1FMB3+A/4v8dFRzI4T+hmbTJ9bTiP+6HPjDipeM/4maREz2b5D9JilKHa5XlPwDddmHdlOY/NwGS/w6a5z9SpFhri6XoP5fdxvfut+k/wCmteOrR6j838P5BR/TrP+dTpCzsH+0/zF0l9uNV7j8RQQZzZZfvP0VQlh/vcvA/casac4Ah8T8ilDf8a9jxP1xHPSPwmPI/CMxI4pZk8z9akhNkUD30P5UH8J+aJfU/IlEnc74g9j8wakQOMjP3P9RqhjJAY/g/HUEoGzi6+T82hpVXyEb7P1S8edpCIv0/RK+EG6d+/z+lSxfuYmwBQHxjf5ROqQRA\",\"dtype\":\"float64\",\"order\":\"little\",\"shape\":[102]},\"y\":{\"__ndarray__\":\"emN/lE6pBMCjSxfuYmwBwEavhBunfv+/VLx52kIi/b80hpVXyEb7vx9BKBs4uvm/1GqGMkBj+L8uakQOMjP3vyJRJ3O+IPa/lQfwn5ol9b9akhNkUD30vwjMSOKWZPO/XEc9I/CY8r8ilDf8a9jxv3OrGnOAIfG/RVCWH+9y8L8RQQZzZZfvv8pdJfbjVe6/51OkLOwf7b838P5BR/Trv74prXjq0eq/l93G9+636b9SpFhri6XovzcBkv8Omue/AN12Yd2U5r9JilKHa5Xlv+FmkRM9m+S/74c+MOKl47+hmbTJ9bTiv+H/HRUcyOG/l+DUUwHf4L9I1gqQsfLfv2LP6KK3Ld6/XAhlVpJu3L/ALvSIyLTav4XiK2Dp/9i/WUoiTYtP17/SkUEwS6PVvy5oiZfL+tO/Wo4XE7RV0r/b94KcsLPQv8IUSRziKM6/rOm4T1Hvyr+BCII+G7rHvwVI4HKxiMS/Rmb12Ylawb8upUwqPF68v83bRq3VC7a/IKQFHL15r78PgfDHseCiv6fBTYpLKom/p8FNiksqiT/7gPDHseCiPyCkBRy9ea8/zdtGrdULtj8kpUwqPF68P0tm9dmJWsE/BUjgcrGIxD98CII+G7rHP7HpuE9R78o/whRJHOIozj/Y94KcsLPQP12OFxO0VdI/LmiJl8v60z/SkUEwS6PVP1xKIk2LT9c/heIrYOn/2D/ALvSIyLTaP1kIZVaSbtw/Ys/oorct3j9I1gqQsfLfP5bg1FMB3+A/4v8dFRzI4T+hmbTJ9bTiP+6HPjDipeM/4maREz2b5D9JilKHa5XlPwDddmHdlOY/NwGS/w6a5z9SpFhri6XoP5fdxvfut+k/wCmteOrR6j838P5BR/TrP+dTpCzsH+0/zF0l9uNV7j8RQQZzZZfvP0VQlh/vcvA/casac4Ah8T8ilDf8a9jxP1xHPSPwmPI/CMxI4pZk8z9akhNkUD30P5UH8J+aJfU/IlEnc74g9j8wakQOMjP3P9RqhjJAY/g/HUEoGzi6+T82hpVXyEb7P1S8edpCIv0/RK+EG6d+/z+lSxfuYmwBQHxjf5ROqQRA\",\"dtype\":\"float64\",\"order\":\"little\",\"shape\":[102]}},\"selected\":{\"id\":\"16428\"},\"selection_policy\":{\"id\":\"16427\"}},\"id\":\"16413\",\"type\":\"ColumnDataSource\"},{\"attributes\":{},\"id\":\"16447\",\"type\":\"Selection\"},{\"attributes\":{\"text\":\"Q-Q plot: check normality hours slept.\"},\"id\":\"16366\",\"type\":\"Title\"},{\"attributes\":{\"label\":{\"value\":\"normal line\"},\"renderers\":[{\"id\":\"16416\"}]},\"id\":\"16429\",\"type\":\"LegendItem\"},{\"attributes\":{\"axis_label\":\"Theoretical quantiles, Z(i)\",\"formatter\":{\"id\":\"16408\"},\"major_label_policy\":{\"id\":\"16407\"},\"ticker\":{\"id\":\"16377\"}},\"id\":\"16376\",\"type\":\"LinearAxis\"},{\"attributes\":{\"data_source\":{\"id\":\"16449\"},\"glyph\":{\"id\":\"16450\"},\"hover_glyph\":null,\"muted_glyph\":null,\"nonselection_glyph\":{\"id\":\"16451\"},\"view\":{\"id\":\"16453\"}},\"id\":\"16452\",\"type\":\"GlyphRenderer\"},{\"attributes\":{\"line_alpha\":0.1,\"line_color\":\"red\",\"line_dash\":[6,4,2,4],\"x\":{\"field\":\"x\"},\"y\":{\"field\":\"y\"}},\"id\":\"16415\",\"type\":\"Line\"},{\"attributes\":{},\"id\":\"16446\",\"type\":\"UnionRenderers\"}],\"root_ids\":[\"16365\"]},\"title\":\"Bokeh Application\",\"version\":\"2.3.3\"}};\n",
       "  var render_items = [{\"docid\":\"dd7ebdcd-a196-4689-82c5-51834cf3b7b3\",\"root_ids\":[\"16365\"],\"roots\":{\"16365\":\"70f96588-054f-45f2-9b9d-c093b2935021\"}}];\n",
       "  root.Bokeh.embed.embed_items_notebook(docs_json, render_items);\n",
       "\n",
       "  }\n",
       "  if (root.Bokeh !== undefined) {\n",
       "    embed_document(root);\n",
       "  } else {\n",
       "    var attempts = 0;\n",
       "    var timer = setInterval(function(root) {\n",
       "      if (root.Bokeh !== undefined) {\n",
       "        clearInterval(timer);\n",
       "        embed_document(root);\n",
       "      } else {\n",
       "        attempts++;\n",
       "        if (attempts > 100) {\n",
       "          clearInterval(timer);\n",
       "          console.log(\"Bokeh: ERROR: Unable to run BokehJS code because BokehJS library is missing\");\n",
       "        }\n",
       "      }\n",
       "    }, 10, root)\n",
       "  }\n",
       "})(window);"
      ],
      "application/vnd.bokehjs_exec.v0+json": ""
     },
     "metadata": {
      "application/vnd.bokehjs_exec.v0+json": {
       "id": "16365"
      }
     },
     "output_type": "display_data"
    }
   ],
   "source": [
    "p = figure(title = \"Q-Q plot: check normality hours slept.\",plot_width = 750, plot_height = 400, tools=\"pan, hover, zoom_in, zoom_out, yzoom_in, yzoom_out\")\n",
    "\n",
    "\n",
    "# Create the points of the experimental daata\n",
    "points = p.scatter(z_th, z_i, color = \"black\", marker = \"dot\", size = 30, legend_label = \"experimental data\", alpha = 0.7)\n",
    "line_normal = p.line(z_th, z_th, color = \"red\", legend_label = \"normal line\", line_dash = \"dashdot\")\n",
    "# Create the lines for the 95% CI interval\n",
    "line_lower = p.line(z_th, CI_lower, color = \"blue\", legend_label = \"95% CI\", line_dash = \"dashdot\")\n",
    "line_upper = p.line(z_th, CI_upper, color = \"blue\", legend_label = \"95% CI\", line_dash = \"dashdot\")\n",
    "\n",
    "# Set labels\n",
    "p.xaxis.axis_label = 'Theoretical quantiles, Z(i)'\n",
    "p.yaxis.axis_label = 'Sample quantiles, Zi'\n",
    "\n",
    "\n",
    "# Make legend interactive\n",
    "p.legend.location = \"top_left\"\n",
    "p.legend.click_policy=\"hide\"\n",
    "\n",
    "show(p)"
   ]
  },
  {
   "cell_type": "markdown",
   "metadata": {},
   "source": [
    "### Histogram"
   ]
  },
  {
   "cell_type": "code",
   "execution_count": 143,
   "metadata": {},
   "outputs": [
    {
     "data": {
      "text/html": [
       "\n",
       "\n",
       "\n",
       "\n",
       "\n",
       "\n",
       "  <div class=\"bk-root\" id=\"967fe089-2b2b-41bc-a245-f64a5baeca4b\" data-root-id=\"17045\"></div>\n"
      ]
     },
     "metadata": {},
     "output_type": "display_data"
    },
    {
     "data": {
      "application/javascript": [
       "(function(root) {\n",
       "  function embed_document(root) {\n",
       "    \n",
       "  var docs_json = {\"8c2e1350-8991-41be-b5d5-3f354e7f61c7\":{\"defs\":[{\"extends\":null,\"module\":null,\"name\":\"ReactiveHTML1\",\"overrides\":[],\"properties\":[]},{\"extends\":null,\"module\":null,\"name\":\"FlexBox1\",\"overrides\":[],\"properties\":[{\"default\":\"flex-start\",\"kind\":null,\"name\":\"align_content\"},{\"default\":\"flex-start\",\"kind\":null,\"name\":\"align_items\"},{\"default\":\"row\",\"kind\":null,\"name\":\"flex_direction\"},{\"default\":\"wrap\",\"kind\":null,\"name\":\"flex_wrap\"},{\"default\":\"flex-start\",\"kind\":null,\"name\":\"justify_content\"}]},{\"extends\":null,\"module\":null,\"name\":\"TemplateActions1\",\"overrides\":[],\"properties\":[{\"default\":0,\"kind\":null,\"name\":\"open_modal\"},{\"default\":0,\"kind\":null,\"name\":\"close_modal\"}]},{\"extends\":null,\"module\":null,\"name\":\"MaterialTemplateActions1\",\"overrides\":[],\"properties\":[{\"default\":0,\"kind\":null,\"name\":\"open_modal\"},{\"default\":0,\"kind\":null,\"name\":\"close_modal\"}]}],\"roots\":{\"references\":[{\"attributes\":{\"below\":[{\"id\":\"17054\"}],\"center\":[{\"id\":\"17057\"},{\"id\":\"17061\"},{\"id\":\"17092\"},{\"id\":\"17113\"},{\"id\":\"17135\"}],\"left\":[{\"id\":\"17058\"}],\"renderers\":[{\"id\":\"17079\"},{\"id\":\"17097\"},{\"id\":\"17117\"}],\"title\":{\"id\":\"17081\"},\"toolbar\":{\"id\":\"17069\"},\"x_range\":{\"id\":\"17046\"},\"x_scale\":{\"id\":\"17050\"},\"y_range\":{\"id\":\"17048\"},\"y_scale\":{\"id\":\"17052\"}},\"id\":\"17045\",\"subtype\":\"Figure\",\"type\":\"Plot\"},{\"attributes\":{},\"id\":\"17090\",\"type\":\"Selection\"},{\"attributes\":{\"label\":{\"value\":\"ML estimation\"},\"renderers\":[{\"id\":\"17097\"}]},\"id\":\"17112\",\"type\":\"LegendItem\"},{\"attributes\":{\"bottom\":{\"value\":0},\"fill_alpha\":{\"value\":0.5},\"fill_color\":{\"value\":\"navy\"},\"left\":{\"field\":\"left\"},\"line_alpha\":{\"value\":0.5},\"line_color\":{\"value\":\"white\"},\"right\":{\"field\":\"right\"},\"top\":{\"field\":\"top\"}},\"id\":\"17077\",\"type\":\"Quad\"},{\"attributes\":{},\"id\":\"17087\",\"type\":\"AllLabels\"},{\"attributes\":{\"label\":{\"value\":\"Robust estimation\"},\"renderers\":[{\"id\":\"17117\"}]},\"id\":\"17134\",\"type\":\"LegendItem\"},{\"attributes\":{\"axis\":{\"id\":\"17054\"},\"ticker\":null},\"id\":\"17057\",\"type\":\"Grid\"},{\"attributes\":{\"data_source\":{\"id\":\"17076\"},\"glyph\":{\"id\":\"17077\"},\"hover_glyph\":null,\"muted_glyph\":null,\"nonselection_glyph\":{\"id\":\"17078\"},\"view\":{\"id\":\"17080\"}},\"id\":\"17079\",\"type\":\"GlyphRenderer\"},{\"attributes\":{},\"id\":\"17055\",\"type\":\"BasicTicker\"},{\"attributes\":{},\"id\":\"17085\",\"type\":\"BasicTickFormatter\"},{\"attributes\":{},\"id\":\"17131\",\"type\":\"UnionRenderers\"},{\"attributes\":{\"active_multi\":null,\"tools\":[{\"id\":\"17062\"},{\"id\":\"17063\"},{\"id\":\"17064\"},{\"id\":\"17065\"},{\"id\":\"17066\"},{\"id\":\"17067\"}]},\"id\":\"17069\",\"type\":\"Toolbar\"},{\"attributes\":{},\"id\":\"17052\",\"type\":\"LinearScale\"},{\"attributes\":{},\"id\":\"17050\",\"type\":\"LinearScale\"},{\"attributes\":{},\"id\":\"17065\",\"type\":\"SaveTool\"},{\"attributes\":{\"items\":[{\"id\":\"17093\"},{\"id\":\"17112\"},{\"id\":\"17134\"}]},\"id\":\"17092\",\"type\":\"Legend\"},{\"attributes\":{},\"id\":\"17063\",\"type\":\"WheelZoomTool\"},{\"attributes\":{\"data_source\":{\"id\":\"17094\"},\"glyph\":{\"id\":\"17095\"},\"hover_glyph\":null,\"muted_glyph\":null,\"nonselection_glyph\":{\"id\":\"17096\"},\"view\":{\"id\":\"17098\"}},\"id\":\"17097\",\"type\":\"GlyphRenderer\"},{\"attributes\":{\"line_color\":\"red\",\"line_dash\":[6,4,2,4],\"x\":{\"field\":\"x\"},\"y\":{\"field\":\"y\"}},\"id\":\"17095\",\"type\":\"Line\"},{\"attributes\":{},\"id\":\"17109\",\"type\":\"UnionRenderers\"},{\"attributes\":{\"line_alpha\":0.1,\"line_color\":\"red\",\"line_dash\":[6,4,2,4],\"x\":{\"field\":\"x\"},\"y\":{\"field\":\"y\"}},\"id\":\"17096\",\"type\":\"Line\"},{\"attributes\":{\"line_color\":\"blue\",\"line_dash\":[6,4,2,4],\"x\":{\"field\":\"x\"},\"y\":{\"field\":\"y\"}},\"id\":\"17115\",\"type\":\"Line\"},{\"attributes\":{\"data\":{\"x\":{\"__ndarray__\":\"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\",\"dtype\":\"float64\",\"order\":\"little\",\"shape\":[501]},\"y\":{\"__ndarray__\":\"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\",\"dtype\":\"float64\",\"order\":\"little\",\"shape\":[501]}},\"selected\":{\"id\":\"17132\"},\"selection_policy\":{\"id\":\"17131\"}},\"id\":\"17114\",\"type\":\"ColumnDataSource\"},{\"attributes\":{},\"id\":\"17067\",\"type\":\"HelpTool\"},{\"attributes\":{\"line_alpha\":0.1,\"line_color\":\"blue\",\"line_dash\":[6,4,2,4],\"x\":{\"field\":\"x\"},\"y\":{\"field\":\"y\"}},\"id\":\"17116\",\"type\":\"Line\"},{\"attributes\":{},\"id\":\"17062\",\"type\":\"PanTool\"},{\"attributes\":{\"data\":{\"left\":{\"__ndarray__\":\"AAAAAAAAAEBmZmZmZmYGQM3MzMzMzAxAmpmZmZmZEUDNzMzMzMwUQAAAAAAAABhANDMzMzMzG0BnZmZmZmYeQM3MzMzMzCBAZmZmZmZmIkA=\",\"dtype\":\"float64\",\"order\":\"little\",\"shape\":[10]},\"right\":{\"__ndarray__\":\"ZmZmZmZmBkDNzMzMzMwMQJqZmZmZmRFAzczMzMzMFEAAAAAAAAAYQDQzMzMzMxtAZ2ZmZmZmHkDNzMzMzMwgQGZmZmZmZiJAAAAAAAAAJEA=\",\"dtype\":\"float64\",\"order\":\"little\",\"shape\":[10]},\"top\":{\"__ndarray__\":\"m5mZmZmZmT8AAAAAAAAAAJeZmZmZmak/NDMzMzMzwz8AAAAAAAAAAGJmZmZmZtI/NDMzMzMz2z+bmZmZmZnJP6SZmZmZmbk/k5mZmZmZiT8=\",\"dtype\":\"float64\",\"order\":\"little\",\"shape\":[10]}},\"selected\":{\"id\":\"17090\"},\"selection_policy\":{\"id\":\"17089\"}},\"id\":\"17076\",\"type\":\"ColumnDataSource\"},{\"attributes\":{},\"id\":\"17110\",\"type\":\"Selection\"},{\"attributes\":{},\"id\":\"17084\",\"type\":\"AllLabels\"},{\"attributes\":{},\"id\":\"17132\",\"type\":\"Selection\"},{\"attributes\":{},\"id\":\"17081\",\"type\":\"Title\"},{\"attributes\":{\"source\":{\"id\":\"17094\"}},\"id\":\"17098\",\"type\":\"CDSView\"},{\"attributes\":{\"data\":{\"x\":{\"__ndarray__\":\"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\",\"dtype\":\"float64\",\"order\":\"little\",\"shape\":[501]},\"y\":{\"__ndarray__\":\"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\",\"dtype\":\"float64\",\"order\":\"little\",\"shape\":[501]}},\"selected\":{\"id\":\"17110\"},\"selection_policy\":{\"id\":\"17109\"}},\"id\":\"17094\",\"type\":\"ColumnDataSource\"},{\"attributes\":{\"dimension\":\"height\",\"line_color\":\"blue\",\"line_dash\":[6,4,2,4],\"location\":7.0},\"id\":\"17135\",\"type\":\"Span\"},{\"attributes\":{\"axis\":{\"id\":\"17058\"},\"dimension\":1,\"ticker\":null},\"id\":\"17061\",\"type\":\"Grid\"},{\"attributes\":{\"bottom_units\":\"screen\",\"fill_alpha\":0.5,\"fill_color\":\"lightgrey\",\"left_units\":\"screen\",\"level\":\"overlay\",\"line_alpha\":1.0,\"line_color\":\"black\",\"line_dash\":[4,4],\"line_width\":2,\"right_units\":\"screen\",\"syncable\":false,\"top_units\":\"screen\"},\"id\":\"17068\",\"type\":\"BoxAnnotation\"},{\"attributes\":{\"data_source\":{\"id\":\"17114\"},\"glyph\":{\"id\":\"17115\"},\"hover_glyph\":null,\"muted_glyph\":null,\"nonselection_glyph\":{\"id\":\"17116\"},\"view\":{\"id\":\"17118\"}},\"id\":\"17117\",\"type\":\"GlyphRenderer\"},{\"attributes\":{\"source\":{\"id\":\"17076\"}},\"id\":\"17080\",\"type\":\"CDSView\"},{\"attributes\":{},\"id\":\"17066\",\"type\":\"ResetTool\"},{\"attributes\":{\"dimension\":\"height\",\"line_color\":\"red\",\"line_dash\":[6,4,2,4],\"location\":6.66},\"id\":\"17113\",\"type\":\"Span\"},{\"attributes\":{},\"id\":\"17048\",\"type\":\"DataRange1d\"},{\"attributes\":{},\"id\":\"17088\",\"type\":\"BasicTickFormatter\"},{\"attributes\":{\"overlay\":{\"id\":\"17068\"}},\"id\":\"17064\",\"type\":\"BoxZoomTool\"},{\"attributes\":{\"label\":{\"value\":\"Hours slept\"},\"renderers\":[{\"id\":\"17079\"}]},\"id\":\"17093\",\"type\":\"LegendItem\"},{\"attributes\":{},\"id\":\"17089\",\"type\":\"UnionRenderers\"},{\"attributes\":{},\"id\":\"17059\",\"type\":\"BasicTicker\"},{\"attributes\":{},\"id\":\"17046\",\"type\":\"DataRange1d\"},{\"attributes\":{\"source\":{\"id\":\"17114\"}},\"id\":\"17118\",\"type\":\"CDSView\"},{\"attributes\":{\"formatter\":{\"id\":\"17088\"},\"major_label_policy\":{\"id\":\"17087\"},\"ticker\":{\"id\":\"17055\"}},\"id\":\"17054\",\"type\":\"LinearAxis\"},{\"attributes\":{\"formatter\":{\"id\":\"17085\"},\"major_label_policy\":{\"id\":\"17084\"},\"ticker\":{\"id\":\"17059\"}},\"id\":\"17058\",\"type\":\"LinearAxis\"},{\"attributes\":{\"bottom\":{\"value\":0},\"fill_alpha\":{\"value\":0.1},\"fill_color\":{\"value\":\"navy\"},\"left\":{\"field\":\"left\"},\"line_alpha\":{\"value\":0.1},\"line_color\":{\"value\":\"white\"},\"right\":{\"field\":\"right\"},\"top\":{\"field\":\"top\"}},\"id\":\"17078\",\"type\":\"Quad\"}],\"root_ids\":[\"17045\"]},\"title\":\"Bokeh Application\",\"version\":\"2.3.3\"}};\n",
       "  var render_items = [{\"docid\":\"8c2e1350-8991-41be-b5d5-3f354e7f61c7\",\"root_ids\":[\"17045\"],\"roots\":{\"17045\":\"967fe089-2b2b-41bc-a245-f64a5baeca4b\"}}];\n",
       "  root.Bokeh.embed.embed_items_notebook(docs_json, render_items);\n",
       "\n",
       "  }\n",
       "  if (root.Bokeh !== undefined) {\n",
       "    embed_document(root);\n",
       "  } else {\n",
       "    var attempts = 0;\n",
       "    var timer = setInterval(function(root) {\n",
       "      if (root.Bokeh !== undefined) {\n",
       "        clearInterval(timer);\n",
       "        embed_document(root);\n",
       "      } else {\n",
       "        attempts++;\n",
       "        if (attempts > 100) {\n",
       "          clearInterval(timer);\n",
       "          console.log(\"Bokeh: ERROR: Unable to run BokehJS code because BokehJS library is missing\");\n",
       "        }\n",
       "      }\n",
       "    }, 10, root)\n",
       "  }\n",
       "})(window);"
      ],
      "application/vnd.bokehjs_exec.v0+json": ""
     },
     "metadata": {
      "application/vnd.bokehjs_exec.v0+json": {
       "id": "17045"
      }
     },
     "output_type": "display_data"
    }
   ],
   "source": [
    "y = sleep_data.Hours[~np.isnan(sleep_data.Hours)]\n",
    "\n",
    "n = len(y)\n",
    "\n",
    "hist, edges = np.histogram(y, density = True)\n",
    "\n",
    "# ML estimation\n",
    "mu_ML = np.mean(y)\n",
    "sigma2_ML = np.mean((y - mu_ML)**2)\n",
    "sigma_ML = np.sqrt(sigma2_ML) # biased estimate\n",
    "s2 = n/(n-1) * sigma2_ML\n",
    "s = np.sqrt(s2) # unbiased estimate\n",
    "\n",
    "# Robust estimates:\n",
    "mu_R = np.median(y)\n",
    "sigma_R = iqr(y)/1.349\n",
    "\n",
    "# Calculate the CLT normal distribution:\n",
    "x = np.linspace(np.min(y), np.max(y), 501)\n",
    "rv_ML = np.array([norm.pdf(xi, loc = mu_ML, scale = s) for xi in x])\n",
    "\n",
    "rv_R = np.array([norm.pdf(xi, loc = mu_R, scale = sigma_R) for xi in x])\n",
    "\n",
    "p = figure()\n",
    "p.quad(top=hist, bottom=0, left=edges[:-1], right=edges[1:],\n",
    "           fill_color=\"navy\", line_color=\"white\", alpha=0.5, legend_label = \"Hours slept\")\n",
    "p.line(x, rv_ML, color = \"red\", line_dash = \"dashdot\", legend_label = \"ML estimation\")\n",
    "vline_ML = Span(location=mu_ML, dimension='height', line_color='red', line_width=1, line_dash = \"dashdot\")\n",
    "\n",
    "p.line(x, rv_R, color = \"blue\", line_dash = \"dashdot\", legend_label = \"Robust estimation\")\n",
    "vline_R = Span(location=mu_R, dimension='height', line_color='blue', line_width=1, line_dash = \"dashdot\")\n",
    "\n",
    "p.add_layout(vline_ML)\n",
    "p.add_layout(vline_R)\n",
    "show(p)"
   ]
  },
  {
   "cell_type": "code",
   "execution_count": 144,
   "metadata": {},
   "outputs": [
    {
     "name": "stdout",
     "output_type": "stream",
     "text": [
      "According to the Q-Q plot the dependent variable has a normal distribution, if we use a robust estimation. However,\n",
      "there are a few points which fall out of the 95% CI bounds. If we look at the histogram we can see both the robust and the \n",
      "maximum likelihood estimation.\n",
      "\n",
      "However, if we use the Shapiro-Wilk test to check normality, we find that the data does not follow a normal distribution. From the test we get a p-value of: 9.799786494113505e-05 which is below the alpha (p-value < 0.05). That means that we cannot reject the null hypothesis which states that the data is NOT normally distributed.\n"
     ]
    }
   ],
   "source": [
    "# briefly summarize your findings\n",
    "print(\"\"\"According to the Q-Q plot the dependent variable has a normal distribution, if we use a robust estimation. However,\n",
    "there are a few points which fall out of the 95% CI bounds. If we look at the histogram we can see both the robust and the \n",
    "maximum likelihood estimation.\"\"\")\n",
    "\n",
    "t_stat, p_val = shapiro(y)\n",
    "print(f\"\\nHowever, if we use the Shapiro-Wilk test to check normality, we find that the data does not follow a normal \" + \n",
    "f\"distribution. From the test we get a p-value of: {p_val} which is below the alpha (p-value < 0.05). That means that we \" + \n",
    "f\"cannot reject the null hypothesis which states that the data is NOT normally distributed.\")"
   ]
  },
  {
   "cell_type": "markdown",
   "metadata": {},
   "source": [
    "<a name='ex-32'></a>\n",
    "### Check homogeneity of variance (20 pt)\n",
    "\n",
    "<ul><li>\n",
    "Use boxplots for the check of homoegeneity of variance. Do you want the full points? Plot with bokeh!</li>\n",
    "\n",
    "<li>Use a Levene’s & Bartlett’s Test of Equality (Homogeneity) of Variance to test equal variance statistically</li><ul>"
   ]
  },
  {
   "cell_type": "code",
   "execution_count": 145,
   "metadata": {},
   "outputs": [],
   "source": [
    "import hvplot.pandas\n",
    "import holoviews as hv"
   ]
  },
  {
   "cell_type": "code",
   "execution_count": 155,
   "metadata": {},
   "outputs": [
    {
     "data": {},
     "metadata": {},
     "output_type": "display_data"
    },
    {
     "data": {
      "application/vnd.holoviews_exec.v0+json": "",
      "text/html": [
       "<div id='18282'>\n",
       "\n",
       "\n",
       "\n",
       "\n",
       "\n",
       "  <div class=\"bk-root\" id=\"e3a1baba-2ede-4efb-a272-6d25fa47b2ee\" data-root-id=\"18282\"></div>\n",
       "</div>\n",
       "<script type=\"application/javascript\">(function(root) {\n",
       "  function embed_document(root) {\n",
       "    var docs_json = {\"1c5ed594-a124-4b00-b250-3bf55dab84db\":{\"defs\":[{\"extends\":null,\"module\":null,\"name\":\"ReactiveHTML1\",\"overrides\":[],\"properties\":[]},{\"extends\":null,\"module\":null,\"name\":\"FlexBox1\",\"overrides\":[],\"properties\":[{\"default\":\"flex-start\",\"kind\":null,\"name\":\"align_content\"},{\"default\":\"flex-start\",\"kind\":null,\"name\":\"align_items\"},{\"default\":\"row\",\"kind\":null,\"name\":\"flex_direction\"},{\"default\":\"wrap\",\"kind\":null,\"name\":\"flex_wrap\"},{\"default\":\"flex-start\",\"kind\":null,\"name\":\"justify_content\"}]},{\"extends\":null,\"module\":null,\"name\":\"TemplateActions1\",\"overrides\":[],\"properties\":[{\"default\":0,\"kind\":null,\"name\":\"open_modal\"},{\"default\":0,\"kind\":null,\"name\":\"close_modal\"}]},{\"extends\":null,\"module\":null,\"name\":\"MaterialTemplateActions1\",\"overrides\":[],\"properties\":[{\"default\":0,\"kind\":null,\"name\":\"open_modal\"},{\"default\":0,\"kind\":null,\"name\":\"close_modal\"}]}],\"roots\":{\"references\":[{\"attributes\":{},\"id\":\"18359\",\"type\":\"BasicTickFormatter\"},{\"attributes\":{\"bottom\":{\"field\":\"bottom\"},\"fill_color\":{\"field\":\"box_fill_color\",\"transform\":{\"id\":\"18349\"}},\"top\":{\"field\":\"top\"},\"width\":{\"value\":0.7},\"x\":{\"field\":\"index\"}},\"id\":\"18352\",\"type\":\"VBar\"},{\"attributes\":{},\"id\":\"18367\",\"type\":\"UnionRenderers\"},{\"attributes\":{\"items\":[{\"id\":\"18377\"},{\"id\":\"18407\"}],\"location\":[0,0]},\"id\":\"18376\",\"type\":\"Legend\"},{\"attributes\":{\"angle\":{\"value\":0.0},\"fill_alpha\":{\"value\":1.0},\"fill_color\":{\"value\":\"black\"},\"hatch_alpha\":{\"value\":1.0},\"hatch_color\":{\"value\":\"black\"},\"hatch_scale\":{\"value\":12.0},\"hatch_weight\":{\"value\":1.0},\"line_alpha\":{\"value\":1.0},\"line_cap\":{\"value\":\"butt\"},\"line_color\":{\"value\":\"black\"},\"line_dash\":{\"value\":[]},\"line_dash_offset\":{\"value\":0},\"line_join\":{\"value\":\"bevel\"},\"line_width\":{\"value\":1},\"size\":{\"value\":4},\"x\":{\"field\":\"index\"},\"y\":{\"field\":\"Hours\"}},\"id\":\"18320\",\"type\":\"Circle\"},{\"attributes\":{},\"id\":\"18365\",\"type\":\"UnionRenderers\"},{\"attributes\":{\"margin\":[5,5,5,5],\"name\":\"HSpacer04203\",\"sizing_mode\":\"stretch_width\"},\"id\":\"18283\",\"type\":\"Spacer\"},{\"attributes\":{\"end\":10.8,\"reset_end\":10.8,\"reset_start\":1.2,\"start\":1.2,\"tags\":[[[\"Hours\",\"Hours\",null]]]},\"id\":\"18285\",\"type\":\"Range1d\"},{\"attributes\":{},\"id\":\"18374\",\"type\":\"Selection\"},{\"attributes\":{\"line_alpha\":{\"value\":1.0},\"line_cap\":{\"value\":\"butt\"},\"line_color\":{\"value\":\"black\"},\"line_dash\":{\"value\":[]},\"line_dash_offset\":{\"value\":0},\"line_join\":{\"value\":\"bevel\"},\"line_width\":{\"value\":1},\"x0\":{\"field\":\"x0\"},\"x1\":{\"field\":\"x1\"},\"y0\":{\"field\":\"y0\"},\"y1\":{\"field\":\"y1\"}},\"id\":\"18327\",\"type\":\"Segment\"},{\"attributes\":{\"axis_label\":\"Hours\",\"formatter\":{\"id\":\"18359\"},\"major_label_policy\":{\"id\":\"18358\"},\"ticker\":{\"id\":\"18299\"}},\"id\":\"18298\",\"type\":\"LinearAxis\"},{\"attributes\":{\"line_alpha\":{\"value\":0.1},\"x0\":{\"field\":\"x0\"},\"x1\":{\"field\":\"x1\"},\"y0\":{\"field\":\"y0\"},\"y1\":{\"field\":\"y1\"}},\"id\":\"18338\",\"type\":\"Segment\"},{\"attributes\":{\"source\":{\"id\":\"18321\"}},\"id\":\"18326\",\"type\":\"CDSView\"},{\"attributes\":{\"margin\":[5,5,5,5],\"name\":\"HSpacer04204\",\"sizing_mode\":\"stretch_width\"},\"id\":\"18459\",\"type\":\"Spacer\"},{\"attributes\":{\"data\":{\"x0\":[[\"3\",\"Yes\"],[\"2\",\"Yes\"],[\"4\",\"No\"],[\"3\",\"No\"],[\"2\",\"No\"],[\"4\",\"Yes\"],[\"5\",\"No\"],[\"1\",\"Yes\"],[\"5\",\"Yes\"],[\"1\",\"No\"]],\"x1\":[[\"3\",\"Yes\"],[\"2\",\"Yes\"],[\"4\",\"No\"],[\"3\",\"No\"],[\"2\",\"No\"],[\"4\",\"Yes\"],[\"5\",\"No\"],[\"1\",\"Yes\"],[\"5\",\"Yes\"],[\"1\",\"No\"]],\"y0\":{\"__ndarray__\":\"AAAAAAAAFEAAAAAAAAAQQAAAAAAAABRAAAAAAAAAFEAAAAAAAAAUQAAAAAAAABRAAAAAAAAAAEAAAAAAAAAgQAAAAAAAABRAAAAAAAAAHEA=\",\"dtype\":\"float64\",\"order\":\"little\",\"shape\":[10]},\"y1\":{\"__ndarray__\":\"AAAAAAAAGEAAAAAAAAAYQAAAAAAAABhAAAAAAAAAGEAAAAAAAAAWQAAAAAAAABhAAAAAAAAACEAAAAAAAAAgQAAAAAAAABZAAAAAAAAAHEA=\",\"dtype\":\"float64\",\"order\":\"little\",\"shape\":[10]}},\"selected\":{\"id\":\"18368\"},\"selection_policy\":{\"id\":\"18367\"}},\"id\":\"18328\",\"type\":\"ColumnDataSource\"},{\"attributes\":{\"bottom\":{\"field\":\"bottom\"},\"fill_alpha\":{\"value\":0.1},\"fill_color\":{\"field\":\"box_fill_color\",\"transform\":{\"id\":\"18349\"}},\"line_alpha\":{\"value\":0.1},\"top\":{\"field\":\"top\"},\"width\":{\"value\":0.7},\"x\":{\"field\":\"index\"}},\"id\":\"18382\",\"type\":\"VBar\"},{\"attributes\":{},\"id\":\"18364\",\"type\":\"Selection\"},{\"attributes\":{\"data\":{\"x0\":[[\"3\",\"Yes\",-0.2],[\"2\",\"Yes\",-0.2],[\"4\",\"No\",-0.2],[\"3\",\"No\",-0.2],[\"2\",\"No\",-0.2],[\"4\",\"Yes\",-0.2],[\"5\",\"No\",-0.2],[\"1\",\"Yes\",-0.2],[\"5\",\"Yes\",-0.2],[\"1\",\"No\",-0.2]],\"x1\":[[\"3\",\"Yes\",0.2],[\"2\",\"Yes\",0.2],[\"4\",\"No\",0.2],[\"3\",\"No\",0.2],[\"2\",\"No\",0.2],[\"4\",\"Yes\",0.2],[\"5\",\"No\",0.2],[\"1\",\"Yes\",0.2],[\"5\",\"Yes\",0.2],[\"1\",\"No\",0.2]],\"y0\":[9.0,9.0,8.0,7.0,8.0,8.0,9.0,9.0,9.0,7.0],\"y1\":[9.0,9.0,8.0,7.0,8.0,8.0,9.0,9.0,9.0,7.0]},\"selected\":{\"id\":\"18372\"},\"selection_policy\":{\"id\":\"18371\"}},\"id\":\"18342\",\"type\":\"ColumnDataSource\"},{\"attributes\":{\"data\":{\"x0\":[[\"3\",\"Yes\",-0.2],[\"2\",\"Yes\",-0.2],[\"4\",\"No\",-0.2],[\"3\",\"No\",-0.2],[\"2\",\"No\",-0.2],[\"4\",\"Yes\",-0.2],[\"5\",\"No\",-0.2],[\"1\",\"Yes\",-0.2],[\"5\",\"Yes\",-0.2],[\"1\",\"No\",-0.2]],\"x1\":[[\"3\",\"Yes\",0.2],[\"2\",\"Yes\",0.2],[\"4\",\"No\",0.2],[\"3\",\"No\",0.2],[\"2\",\"No\",0.2],[\"4\",\"Yes\",0.2],[\"5\",\"No\",0.2],[\"1\",\"Yes\",0.2],[\"5\",\"Yes\",0.2],[\"1\",\"No\",0.2]],\"y0\":[5.0,4.0,5.0,5.0,5.0,5.0,2.0,8.0,5.0,7.0],\"y1\":[5.0,4.0,5.0,5.0,5.0,5.0,2.0,8.0,5.0,7.0]},\"selected\":{\"id\":\"18370\"},\"selection_policy\":{\"id\":\"18369\"}},\"id\":\"18335\",\"type\":\"ColumnDataSource\"},{\"attributes\":{},\"id\":\"18302\",\"type\":\"SaveTool\"},{\"attributes\":{},\"id\":\"18361\",\"type\":\"AllLabels\"},{\"attributes\":{\"data_source\":{\"id\":\"18328\"},\"glyph\":{\"id\":\"18330\"},\"hover_glyph\":null,\"muted_glyph\":null,\"nonselection_glyph\":{\"id\":\"18331\"},\"selection_glyph\":{\"id\":\"18334\"},\"view\":{\"id\":\"18333\"}},\"id\":\"18332\",\"type\":\"GlyphRenderer\"},{\"attributes\":{\"data\":{\"Hours\":{\"__ndarray__\":\"AAAAAAAAJEAAAAAAAAAgQAAAAAAAACBAAAAAAAAAIkA=\",\"dtype\":\"float64\",\"order\":\"little\",\"shape\":[4]},\"index\":[[\"4\",\"No\"],[\"3\",\"No\"],[\"3\",\"No\"],[\"4\",\"Yes\"]]},\"selected\":{\"id\":\"18364\"},\"selection_policy\":{\"id\":\"18363\"}},\"id\":\"18314\",\"type\":\"ColumnDataSource\"},{\"attributes\":{},\"id\":\"18369\",\"type\":\"UnionRenderers\"},{\"attributes\":{},\"id\":\"18293\",\"type\":\"LinearScale\"},{\"attributes\":{\"source\":{\"id\":\"18350\"}},\"id\":\"18355\",\"type\":\"CDSView\"},{\"attributes\":{},\"id\":\"18366\",\"type\":\"Selection\"},{\"attributes\":{\"source\":{\"id\":\"18328\"}},\"id\":\"18333\",\"type\":\"CDSView\"},{\"attributes\":{},\"id\":\"18373\",\"type\":\"UnionRenderers\"},{\"attributes\":{\"axis\":{\"id\":\"18298\"},\"dimension\":1,\"grid_line_color\":null,\"ticker\":null},\"id\":\"18301\",\"type\":\"Grid\"},{\"attributes\":{\"factors\":[[\"1\",\"No\"],[\"1\",\"Yes\"],[\"2\",\"No\"],[\"2\",\"Yes\"],[\"3\",\"No\"],[\"3\",\"Yes\"],[\"4\",\"No\"],[\"4\",\"Yes\"],[\"5\",\"No\"],[\"5\",\"Yes\"]],\"tags\":[[[\"Tired\",\"Tired\",null],[\"Breakfast\",\"Breakfast\",null]]]},\"id\":\"18284\",\"type\":\"FactorRange\"},{\"attributes\":{},\"id\":\"18303\",\"type\":\"PanTool\"},{\"attributes\":{},\"id\":\"18291\",\"type\":\"CategoricalScale\"},{\"attributes\":{\"fill_alpha\":{\"value\":0.1},\"fill_color\":{\"value\":\"black\"},\"line_alpha\":{\"value\":0.1},\"x\":{\"field\":\"index\"},\"y\":{\"field\":\"Hours\"}},\"id\":\"18317\",\"type\":\"Circle\"},{\"attributes\":{\"axis_label\":\"Tired, Breakfast\",\"formatter\":{\"id\":\"18362\"},\"major_label_policy\":{\"id\":\"18361\"},\"ticker\":{\"id\":\"18296\"}},\"id\":\"18295\",\"type\":\"CategoricalAxis\"},{\"attributes\":{\"data\":{\"bottom\":{\"__ndarray__\":\"AAAAAAAAHEAAAAAAAAAcQAAAAAAAABxAAAAAAAAAGEAAAAAAAAAcQAAAAAAAABxAAAAAAAAAFEAAAAAAAAAgQAAAAAAAABhAAAAAAAAAHEA=\",\"dtype\":\"float64\",\"order\":\"little\",\"shape\":[10]},\"box_fill_color\":[\"Yes\",\"Yes\",\"No\",\"No\",\"No\",\"Yes\",\"No\",\"Yes\",\"Yes\",\"No\"],\"index\":[[\"3\",\"Yes\"],[\"2\",\"Yes\"],[\"4\",\"No\"],[\"3\",\"No\"],[\"2\",\"No\"],[\"4\",\"Yes\"],[\"5\",\"No\"],[\"1\",\"Yes\"],[\"5\",\"Yes\"],[\"1\",\"No\"]],\"top\":{\"__ndarray__\":\"AAAAAAAAGEAAAAAAAAAYQAAAAAAAABhAAAAAAAAAGEAAAAAAAAAWQAAAAAAAABhAAAAAAAAACEAAAAAAAAAgQAAAAAAAABZAAAAAAAAAHEA=\",\"dtype\":\"float64\",\"order\":\"little\",\"shape\":[10]}},\"selected\":{\"id\":\"18405\"},\"selection_policy\":{\"id\":\"18404\"}},\"id\":\"18379\",\"type\":\"ColumnDataSource\"},{\"attributes\":{},\"id\":\"18306\",\"type\":\"ResetTool\"},{\"attributes\":{},\"id\":\"18363\",\"type\":\"UnionRenderers\"},{\"attributes\":{\"data_source\":{\"id\":\"18342\"},\"glyph\":{\"id\":\"18344\"},\"hover_glyph\":null,\"muted_glyph\":null,\"nonselection_glyph\":{\"id\":\"18345\"},\"selection_glyph\":{\"id\":\"18348\"},\"view\":{\"id\":\"18347\"}},\"id\":\"18346\",\"type\":\"GlyphRenderer\"},{\"attributes\":{\"fill_color\":{\"value\":\"black\"},\"x\":{\"field\":\"index\"},\"y\":{\"field\":\"Hours\"}},\"id\":\"18316\",\"type\":\"Circle\"},{\"attributes\":{\"children\":[{\"id\":\"18283\"},{\"id\":\"18286\"},{\"id\":\"18459\"}],\"margin\":[0,0,0,0],\"name\":\"Row04199\",\"tags\":[\"embedded\"]},\"id\":\"18282\",\"type\":\"Row\"},{\"attributes\":{\"data_source\":{\"id\":\"18314\"},\"glyph\":{\"id\":\"18316\"},\"hover_glyph\":null,\"muted_glyph\":null,\"nonselection_glyph\":{\"id\":\"18317\"},\"selection_glyph\":{\"id\":\"18320\"},\"view\":{\"id\":\"18319\"}},\"id\":\"18318\",\"type\":\"GlyphRenderer\"},{\"attributes\":{\"line_alpha\":{\"value\":1.0},\"line_cap\":{\"value\":\"butt\"},\"line_color\":{\"value\":\"black\"},\"line_dash\":{\"value\":[]},\"line_dash_offset\":{\"value\":0},\"line_join\":{\"value\":\"bevel\"},\"line_width\":{\"value\":1},\"x0\":{\"field\":\"x0\"},\"x1\":{\"field\":\"x1\"},\"y0\":{\"field\":\"y0\"},\"y1\":{\"field\":\"y1\"}},\"id\":\"18334\",\"type\":\"Segment\"},{\"attributes\":{\"below\":[{\"id\":\"18295\"}],\"center\":[{\"id\":\"18297\"},{\"id\":\"18301\"},{\"id\":\"18376\"}],\"height\":300,\"left\":[{\"id\":\"18298\"}],\"margin\":[5,5,5,5],\"min_border_bottom\":10,\"min_border_left\":10,\"min_border_right\":10,\"min_border_top\":10,\"renderers\":[{\"id\":\"18318\"},{\"id\":\"18325\"},{\"id\":\"18332\"},{\"id\":\"18339\"},{\"id\":\"18346\"},{\"id\":\"18354\"},{\"id\":\"18383\"}],\"right\":[{\"id\":\"18376\"}],\"sizing_mode\":\"fixed\",\"title\":{\"id\":\"18287\"},\"toolbar\":{\"id\":\"18308\"},\"width\":700,\"x_range\":{\"id\":\"18284\"},\"x_scale\":{\"id\":\"18291\"},\"y_range\":{\"id\":\"18285\"},\"y_scale\":{\"id\":\"18293\"}},\"id\":\"18286\",\"subtype\":\"Figure\",\"type\":\"Plot\"},{\"attributes\":{},\"id\":\"18370\",\"type\":\"Selection\"},{\"attributes\":{\"label\":{\"field\":\"box_fill_color\"},\"renderers\":[{\"id\":\"18383\"}]},\"id\":\"18407\",\"type\":\"LegendItem\"},{\"attributes\":{\"line_alpha\":{\"value\":0.1},\"x0\":{\"field\":\"x0\"},\"x1\":{\"field\":\"x1\"},\"y0\":{\"field\":\"y0\"},\"y1\":{\"field\":\"y1\"}},\"id\":\"18324\",\"type\":\"Segment\"},{\"attributes\":{},\"id\":\"18358\",\"type\":\"AllLabels\"},{\"attributes\":{\"active_multi\":null,\"tools\":[{\"id\":\"18302\"},{\"id\":\"18303\"},{\"id\":\"18304\"},{\"id\":\"18305\"},{\"id\":\"18306\"}]},\"id\":\"18308\",\"type\":\"Toolbar\"},{\"attributes\":{\"data_source\":{\"id\":\"18321\"},\"glyph\":{\"id\":\"18323\"},\"hover_glyph\":null,\"muted_glyph\":null,\"nonselection_glyph\":{\"id\":\"18324\"},\"selection_glyph\":{\"id\":\"18327\"},\"view\":{\"id\":\"18326\"}},\"id\":\"18325\",\"type\":\"GlyphRenderer\"},{\"attributes\":{\"data_source\":{\"id\":\"18350\"},\"glyph\":{\"id\":\"18352\"},\"hover_glyph\":null,\"muted_glyph\":null,\"nonselection_glyph\":{\"id\":\"18353\"},\"selection_glyph\":{\"id\":\"18378\"},\"view\":{\"id\":\"18355\"}},\"id\":\"18354\",\"type\":\"GlyphRenderer\"},{\"attributes\":{\"line_alpha\":{\"value\":0.1},\"x0\":{\"field\":\"x0\"},\"x1\":{\"field\":\"x1\"},\"y0\":{\"field\":\"y0\"},\"y1\":{\"field\":\"y1\"}},\"id\":\"18331\",\"type\":\"Segment\"},{\"attributes\":{},\"id\":\"18368\",\"type\":\"Selection\"},{\"attributes\":{\"factors\":[\"Yes\",\"No\"],\"palette\":[\"red\",\"green\"]},\"id\":\"18349\",\"type\":\"CategoricalColorMapper\"},{\"attributes\":{},\"id\":\"18362\",\"type\":\"CategoricalTickFormatter\"},{\"attributes\":{\"source\":{\"id\":\"18335\"}},\"id\":\"18340\",\"type\":\"CDSView\"},{\"attributes\":{\"bottom\":{\"field\":\"bottom\"},\"fill_alpha\":{\"value\":1.0},\"fill_color\":{\"field\":\"box_fill_color\",\"transform\":{\"id\":\"18349\"}},\"hatch_alpha\":{\"value\":1.0},\"hatch_color\":{\"value\":\"black\"},\"hatch_scale\":{\"value\":12.0},\"hatch_weight\":{\"value\":1.0},\"line_alpha\":{\"value\":1.0},\"line_cap\":{\"value\":\"butt\"},\"line_color\":{\"value\":\"black\"},\"line_dash\":{\"value\":[]},\"line_dash_offset\":{\"value\":0},\"line_join\":{\"value\":\"bevel\"},\"line_width\":{\"value\":1},\"top\":{\"field\":\"top\"},\"width\":{\"value\":0.7},\"x\":{\"field\":\"index\"}},\"id\":\"18378\",\"type\":\"VBar\"},{\"attributes\":{\"axis\":{\"id\":\"18295\"},\"grid_line_color\":null,\"ticker\":null},\"id\":\"18297\",\"type\":\"Grid\"},{\"attributes\":{\"x0\":{\"field\":\"x0\"},\"x1\":{\"field\":\"x1\"},\"y0\":{\"field\":\"y0\"},\"y1\":{\"field\":\"y1\"}},\"id\":\"18330\",\"type\":\"Segment\"},{\"attributes\":{\"label\":{\"field\":\"index\"},\"renderers\":[{\"id\":\"18354\"}]},\"id\":\"18377\",\"type\":\"LegendItem\"},{\"attributes\":{\"line_alpha\":{\"value\":0.1},\"x0\":{\"field\":\"x0\"},\"x1\":{\"field\":\"x1\"},\"y0\":{\"field\":\"y0\"},\"y1\":{\"field\":\"y1\"}},\"id\":\"18345\",\"type\":\"Segment\"},{\"attributes\":{\"source\":{\"id\":\"18342\"}},\"id\":\"18347\",\"type\":\"CDSView\"},{\"attributes\":{},\"id\":\"18404\",\"type\":\"UnionRenderers\"},{\"attributes\":{\"line_alpha\":{\"value\":1.0},\"line_cap\":{\"value\":\"butt\"},\"line_color\":{\"value\":\"black\"},\"line_dash\":{\"value\":[]},\"line_dash_offset\":{\"value\":0},\"line_join\":{\"value\":\"bevel\"},\"line_width\":{\"value\":1},\"x0\":{\"field\":\"x0\"},\"x1\":{\"field\":\"x1\"},\"y0\":{\"field\":\"y0\"},\"y1\":{\"field\":\"y1\"}},\"id\":\"18348\",\"type\":\"Segment\"},{\"attributes\":{\"data_source\":{\"id\":\"18335\"},\"glyph\":{\"id\":\"18337\"},\"hover_glyph\":null,\"muted_glyph\":null,\"nonselection_glyph\":{\"id\":\"18338\"},\"selection_glyph\":{\"id\":\"18341\"},\"view\":{\"id\":\"18340\"}},\"id\":\"18339\",\"type\":\"GlyphRenderer\"},{\"attributes\":{},\"id\":\"18371\",\"type\":\"UnionRenderers\"},{\"attributes\":{\"bottom\":{\"field\":\"bottom\"},\"fill_alpha\":{\"value\":1.0},\"fill_color\":{\"field\":\"box_fill_color\",\"transform\":{\"id\":\"18349\"}},\"hatch_alpha\":{\"value\":1.0},\"hatch_color\":{\"value\":\"black\"},\"hatch_scale\":{\"value\":12.0},\"hatch_weight\":{\"value\":1.0},\"line_alpha\":{\"value\":1.0},\"line_cap\":{\"value\":\"butt\"},\"line_color\":{\"value\":\"black\"},\"line_dash\":{\"value\":[]},\"line_dash_offset\":{\"value\":0},\"line_join\":{\"value\":\"bevel\"},\"line_width\":{\"value\":1},\"top\":{\"field\":\"top\"},\"width\":{\"value\":0.7},\"x\":{\"field\":\"index\"}},\"id\":\"18408\",\"type\":\"VBar\"},{\"attributes\":{\"text_color\":\"black\",\"text_font_size\":\"12pt\"},\"id\":\"18287\",\"type\":\"Title\"},{\"attributes\":{\"bottom_units\":\"screen\",\"fill_alpha\":0.5,\"fill_color\":\"lightgrey\",\"left_units\":\"screen\",\"level\":\"overlay\",\"line_alpha\":1.0,\"line_color\":\"black\",\"line_dash\":[4,4],\"line_width\":2,\"right_units\":\"screen\",\"syncable\":false,\"top_units\":\"screen\"},\"id\":\"18307\",\"type\":\"BoxAnnotation\"},{\"attributes\":{\"data_source\":{\"id\":\"18379\"},\"glyph\":{\"id\":\"18381\"},\"hover_glyph\":null,\"muted_glyph\":null,\"nonselection_glyph\":{\"id\":\"18382\"},\"selection_glyph\":{\"id\":\"18408\"},\"view\":{\"id\":\"18384\"}},\"id\":\"18383\",\"type\":\"GlyphRenderer\"},{\"attributes\":{},\"id\":\"18296\",\"type\":\"CategoricalTicker\"},{\"attributes\":{\"data\":{\"x0\":[[\"3\",\"Yes\"],[\"2\",\"Yes\"],[\"4\",\"No\"],[\"3\",\"No\"],[\"2\",\"No\"],[\"4\",\"Yes\"],[\"5\",\"No\"],[\"1\",\"Yes\"],[\"5\",\"Yes\"],[\"1\",\"No\"]],\"x1\":[[\"3\",\"Yes\"],[\"2\",\"Yes\"],[\"4\",\"No\"],[\"3\",\"No\"],[\"2\",\"No\"],[\"4\",\"Yes\"],[\"5\",\"No\"],[\"1\",\"Yes\"],[\"5\",\"Yes\"],[\"1\",\"No\"]],\"y0\":{\"__ndarray__\":\"AAAAAAAAIkAAAAAAAAAiQAAAAAAAACBAAAAAAAAAHEAAAAAAAAAgQAAAAAAAACBAAAAAAAAAIkAAAAAAAAAiQAAAAAAAACJAAAAAAAAAHEA=\",\"dtype\":\"float64\",\"order\":\"little\",\"shape\":[10]},\"y1\":{\"__ndarray__\":\"AAAAAAAAIEAAAAAAAAAeQAAAAAAAABxAAAAAAAAAG0AAAAAAAAAcQAAAAAAAABxAAAAAAAAAHkAAAAAAAAAhQAAAAAAAAB5AAAAAAAAAHEA=\",\"dtype\":\"float64\",\"order\":\"little\",\"shape\":[10]}},\"selected\":{\"id\":\"18366\"},\"selection_policy\":{\"id\":\"18365\"}},\"id\":\"18321\",\"type\":\"ColumnDataSource\"},{\"attributes\":{\"overlay\":{\"id\":\"18307\"}},\"id\":\"18305\",\"type\":\"BoxZoomTool\"},{\"attributes\":{\"bottom\":{\"field\":\"bottom\"},\"fill_color\":{\"field\":\"box_fill_color\",\"transform\":{\"id\":\"18349\"}},\"top\":{\"field\":\"top\"},\"width\":{\"value\":0.7},\"x\":{\"field\":\"index\"}},\"id\":\"18381\",\"type\":\"VBar\"},{\"attributes\":{},\"id\":\"18304\",\"type\":\"WheelZoomTool\"},{\"attributes\":{},\"id\":\"18372\",\"type\":\"Selection\"},{\"attributes\":{\"x0\":{\"field\":\"x0\"},\"x1\":{\"field\":\"x1\"},\"y0\":{\"field\":\"y0\"},\"y1\":{\"field\":\"y1\"}},\"id\":\"18344\",\"type\":\"Segment\"},{\"attributes\":{\"x0\":{\"field\":\"x0\"},\"x1\":{\"field\":\"x1\"},\"y0\":{\"field\":\"y0\"},\"y1\":{\"field\":\"y1\"}},\"id\":\"18323\",\"type\":\"Segment\"},{\"attributes\":{},\"id\":\"18299\",\"type\":\"BasicTicker\"},{\"attributes\":{\"bottom\":{\"field\":\"bottom\"},\"fill_alpha\":{\"value\":0.1},\"fill_color\":{\"field\":\"box_fill_color\",\"transform\":{\"id\":\"18349\"}},\"line_alpha\":{\"value\":0.1},\"top\":{\"field\":\"top\"},\"width\":{\"value\":0.7},\"x\":{\"field\":\"index\"}},\"id\":\"18353\",\"type\":\"VBar\"},{\"attributes\":{\"line_alpha\":{\"value\":1.0},\"line_cap\":{\"value\":\"butt\"},\"line_color\":{\"value\":\"black\"},\"line_dash\":{\"value\":[]},\"line_dash_offset\":{\"value\":0},\"line_join\":{\"value\":\"bevel\"},\"line_width\":{\"value\":1},\"x0\":{\"field\":\"x0\"},\"x1\":{\"field\":\"x1\"},\"y0\":{\"field\":\"y0\"},\"y1\":{\"field\":\"y1\"}},\"id\":\"18341\",\"type\":\"Segment\"},{\"attributes\":{},\"id\":\"18405\",\"type\":\"Selection\"},{\"attributes\":{\"data\":{\"bottom\":{\"__ndarray__\":\"AAAAAAAAIEAAAAAAAAAeQAAAAAAAABxAAAAAAAAAG0AAAAAAAAAcQAAAAAAAABxAAAAAAAAAHkAAAAAAAAAhQAAAAAAAAB5AAAAAAAAAHEA=\",\"dtype\":\"float64\",\"order\":\"little\",\"shape\":[10]},\"box_fill_color\":[\"Yes\",\"Yes\",\"No\",\"No\",\"No\",\"Yes\",\"No\",\"Yes\",\"Yes\",\"No\"],\"index\":[[\"3\",\"Yes\"],[\"2\",\"Yes\"],[\"4\",\"No\"],[\"3\",\"No\"],[\"2\",\"No\"],[\"4\",\"Yes\"],[\"5\",\"No\"],[\"1\",\"Yes\"],[\"5\",\"Yes\"],[\"1\",\"No\"]],\"top\":{\"__ndarray__\":\"AAAAAAAAHEAAAAAAAAAcQAAAAAAAABxAAAAAAAAAGEAAAAAAAAAcQAAAAAAAABxAAAAAAAAAFEAAAAAAAAAgQAAAAAAAABhAAAAAAAAAHEA=\",\"dtype\":\"float64\",\"order\":\"little\",\"shape\":[10]}},\"selected\":{\"id\":\"18374\"},\"selection_policy\":{\"id\":\"18373\"}},\"id\":\"18350\",\"type\":\"ColumnDataSource\"},{\"attributes\":{\"source\":{\"id\":\"18314\"}},\"id\":\"18319\",\"type\":\"CDSView\"},{\"attributes\":{\"x0\":{\"field\":\"x0\"},\"x1\":{\"field\":\"x1\"},\"y0\":{\"field\":\"y0\"},\"y1\":{\"field\":\"y1\"}},\"id\":\"18337\",\"type\":\"Segment\"},{\"attributes\":{\"source\":{\"id\":\"18379\"}},\"id\":\"18384\",\"type\":\"CDSView\"}],\"root_ids\":[\"18282\"]},\"title\":\"Bokeh Application\",\"version\":\"2.3.3\"}};\n",
       "    var render_items = [{\"docid\":\"1c5ed594-a124-4b00-b250-3bf55dab84db\",\"root_ids\":[\"18282\"],\"roots\":{\"18282\":\"e3a1baba-2ede-4efb-a272-6d25fa47b2ee\"}}];\n",
       "    root.Bokeh.embed.embed_items_notebook(docs_json, render_items);\n",
       "  }\n",
       "  if (root.Bokeh !== undefined && root.Bokeh.Panel !== undefined) {\n",
       "    embed_document(root);\n",
       "  } else {\n",
       "    var attempts = 0;\n",
       "    var timer = setInterval(function(root) {\n",
       "      if (root.Bokeh !== undefined && root.Bokeh.Panel !== undefined) {\n",
       "        clearInterval(timer);\n",
       "        embed_document(root);\n",
       "      } else if (document.readyState == \"complete\") {\n",
       "        attempts++;\n",
       "        if (attempts > 200) {\n",
       "          clearInterval(timer);\n",
       "          console.log(\"Bokeh: ERROR: Unable to run BokehJS code because BokehJS library is missing\");\n",
       "        }\n",
       "      }\n",
       "    }, 25, root)\n",
       "  }\n",
       "})(window);</script>"
      ],
      "text/plain": [
       ":BoxWhisker   [Tired,Breakfast]   (Hours)"
      ]
     },
     "execution_count": 155,
     "metadata": {
      "application/vnd.holoviews_exec.v0+json": {
       "id": "18282"
      }
     },
     "output_type": "execute_result"
    }
   ],
   "source": [
    "# your code to plot here\n",
    "\n",
    "boxplot = sleep_data.hvplot.box(y=\"Hours\", by = ['Tired', 'Breakfast'],  color = \"Breakfast\",cmap = ['red', 'green'])\n",
    "boxplot"
   ]
  },
  {
   "cell_type": "code",
   "execution_count": 148,
   "metadata": {},
   "outputs": [],
   "source": [
    "# your code for the statistical test here"
   ]
  },
  {
   "cell_type": "code",
   "execution_count": 149,
   "metadata": {},
   "outputs": [],
   "source": [
    "# briefly summarize your findings"
   ]
  },
  {
   "cell_type": "markdown",
   "metadata": {},
   "source": [
    "---"
   ]
  },
  {
   "cell_type": "markdown",
   "metadata": {},
   "source": [
    "<a name='3'></a>\n",
    "## Part 4: Prepare your data (10 pt)\n",
    "\n",
    "Create a dataframe with equal samplesize. Make three categories for tireness 1-2 = no, 3 = maybe, 4-5 = yes"
   ]
  },
  {
   "cell_type": "code",
   "execution_count": 150,
   "metadata": {},
   "outputs": [],
   "source": [
    "#your solution here\n",
    "\n",
    "# Set dtype to category\n",
    "# sleep_data['Breakfast'] = sleep_data['Breakfast'].astype(\"category\")\n",
    "\n",
    "# Set dtype to category\n",
    "# sleep_data['Tired'] = sleep_data['Tired'].astype(\"category\")\n",
    "\n",
    "# sleep_data['Tired'] = sleep_data['Tired'].map({1: \"died\", 0:\"alive\"})"
   ]
  },
  {
   "cell_type": "markdown",
   "metadata": {},
   "source": [
    "---"
   ]
  },
  {
   "cell_type": "markdown",
   "metadata": {},
   "source": [
    "<a name='4'></a>\n",
    "## Part 5: Answer the research questions (20 pt)\n",
    "\n",
    "<details>    \n",
    "<summary>\n",
    "    <font size=\"3\" color=\"darkgreen\"><b>Hints</b></font>\n",
    "</summary>\n",
    "    <ul><li>use one-way ANOVA for research question 1</li>\n",
    "    <li>Use two-way ANOVA for research question 2</li>\n",
    "    <li>https://reneshbedre.github.io/blog/anova.html</li>\n",
    "</ul>\n",
    "</details>"
   ]
  },
  {
   "cell_type": "code",
   "execution_count": 151,
   "metadata": {},
   "outputs": [],
   "source": [
    "#Your solution here"
   ]
  },
  {
   "cell_type": "markdown",
   "metadata": {},
   "source": [
    "---"
   ]
  },
  {
   "cell_type": "markdown",
   "metadata": {},
   "source": [
    "<a name='5'></a>\n",
    "## Part 6: Enhanced plotting (20 pt)\n",
    "\n",
    "Create a panel with 1) your dataframe with equal samplesize 2) a picture of a sleeping beauty, 3) the scatter plot of tired / hours of sleep with different colors for Breakfast from part 2 4) the boxplots given the p-value for the anova outcome in the title"
   ]
  },
  {
   "cell_type": "code",
   "execution_count": 152,
   "metadata": {},
   "outputs": [],
   "source": [
    "#your solution here"
   ]
  }
 ],
 "metadata": {
  "kernelspec": {
   "display_name": "Python 3 (ipykernel)",
   "language": "python",
   "name": "python3"
  },
  "language_info": {
   "codemirror_mode": {
    "name": "ipython",
    "version": 3
   },
   "file_extension": ".py",
   "mimetype": "text/x-python",
   "name": "python",
   "nbconvert_exporter": "python",
   "pygments_lexer": "ipython3",
   "version": "3.9.7"
  }
 },
 "nbformat": 4,
 "nbformat_minor": 4
}
