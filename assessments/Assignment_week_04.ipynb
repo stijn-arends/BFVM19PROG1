{
 "cells": [
  {
   "cell_type": "markdown",
   "metadata": {},
   "source": [
    "# Week 04 Assignment weather data\n",
    "\n",
    "Welcome to week four of this course programming 1. You will to organise your data into the required format and apply smoothing. In this assignment we will work with weatherdata from the KNMI. A subset of weatherdata is for you available in the file: `KNMI_20181231.csv`. The data consist of several stations with daily weather data of several years. Your task is to make a plot similar to the plot below.\n",
    "\n",
    "\n",
    "<img src=\"images/weather.png\" alt=\"drawing\" width=\"400\"/>\n",
    "\n",
    "\n",
    "Furthermore the plot needs the following enhancements\n",
    "\n",
    "1. proper titles and ticks\n",
    "2. a slider widget selecting a particular year or all years\n",
    "3. lines need to be smoothed\n",
    "3. legends needs to be added\n",
    "\n",
    "Use your creativity. Consider colors, alpha settings, sizes etc. \n",
    "\n",
    "Learning outcomes\n",
    "\n",
    "- load, inspect and clean a dataset \n",
    "- reformat dataframes\n",
    "- apply smoothing technologies\n",
    "- visualize timeseries data\n",
    "\n",
    "The assignment consists of 6 parts:\n",
    "\n",
    "- [part 1: load the data](#0)\n",
    "- [part 2: clean the data](#1)\n",
    "- [part 3: reformat data](#2)\n",
    "- [part 4: smooth the data](#3)\n",
    "- [part 5: visualize the data](#4)\n",
    "- [part 6: Challenge](#5)\n",
    "\n",
    "Part 1 and 5 are mandatory, part 6 is optional (bonus)\n",
    "To pass the assingnment you need to a score of 60%. \n"
   ]
  },
  {
   "cell_type": "markdown",
   "metadata": {},
   "source": [
    "---"
   ]
  },
  {
   "cell_type": "code",
   "execution_count": 1,
   "metadata": {},
   "outputs": [],
   "source": [
    "# IMPORTS\n",
    "import pandas as pd\n",
    "import numpy as np\n",
    "from pathlib import Path\n",
    "import yaml\n",
    "import matplotlib.pyplot as plt"
   ]
  },
  {
   "cell_type": "code",
   "execution_count": 2,
   "metadata": {},
   "outputs": [],
   "source": [
    "def get_config():\n",
    "    with open(\"config.yaml\", 'r') as stream:\n",
    "        config = yaml.safe_load(stream)\n",
    "    return config\n",
    "\n",
    "config = get_config()\n",
    "data_dir = config['datadir']"
   ]
  },
  {
   "cell_type": "markdown",
   "metadata": {},
   "source": [
    "<a name='0'></a>\n",
    "## Part 1: Load the data\n",
    "\n",
    "Either load the dataset `KNMI_20181231.csv` or `KNMI_20181231.txt.tsv`. The dataheaders contain spaces and are not very self explainable. Change this into more readable ones. Select data from station 270. Select only the mean, minimum and maximum temperature. The data should look something like this:\n"
   ]
  },
  {
   "cell_type": "code",
   "execution_count": 3,
   "metadata": {},
   "outputs": [
    {
     "data": {
      "text/html": [
       "<div>\n",
       "<style scoped>\n",
       "    .dataframe tbody tr th:only-of-type {\n",
       "        vertical-align: middle;\n",
       "    }\n",
       "\n",
       "    .dataframe tbody tr th {\n",
       "        vertical-align: top;\n",
       "    }\n",
       "\n",
       "    .dataframe thead th {\n",
       "        text-align: right;\n",
       "    }\n",
       "</style>\n",
       "<table border=\"1\" class=\"dataframe\">\n",
       "  <thead>\n",
       "    <tr style=\"text-align: right;\">\n",
       "      <th></th>\n",
       "      <th>station</th>\n",
       "      <th>date</th>\n",
       "      <th>Tmean</th>\n",
       "      <th>Tmin</th>\n",
       "      <th>Tmax</th>\n",
       "    </tr>\n",
       "  </thead>\n",
       "  <tbody>\n",
       "    <tr>\n",
       "      <th>0</th>\n",
       "      <td>209</td>\n",
       "      <td>20010130</td>\n",
       "      <td></td>\n",
       "      <td></td>\n",
       "      <td></td>\n",
       "    </tr>\n",
       "    <tr>\n",
       "      <th>1</th>\n",
       "      <td>209</td>\n",
       "      <td>20010131</td>\n",
       "      <td></td>\n",
       "      <td></td>\n",
       "      <td></td>\n",
       "    </tr>\n",
       "    <tr>\n",
       "      <th>2</th>\n",
       "      <td>209</td>\n",
       "      <td>20010201</td>\n",
       "      <td></td>\n",
       "      <td></td>\n",
       "      <td></td>\n",
       "    </tr>\n",
       "    <tr>\n",
       "      <th>3</th>\n",
       "      <td>209</td>\n",
       "      <td>20010202</td>\n",
       "      <td></td>\n",
       "      <td></td>\n",
       "      <td></td>\n",
       "    </tr>\n",
       "    <tr>\n",
       "      <th>4</th>\n",
       "      <td>209</td>\n",
       "      <td>20010203</td>\n",
       "      <td></td>\n",
       "      <td></td>\n",
       "      <td></td>\n",
       "    </tr>\n",
       "    <tr>\n",
       "      <th>...</th>\n",
       "      <td>...</td>\n",
       "      <td>...</td>\n",
       "      <td>...</td>\n",
       "      <td>...</td>\n",
       "      <td>...</td>\n",
       "    </tr>\n",
       "    <tr>\n",
       "      <th>331311</th>\n",
       "      <td>391</td>\n",
       "      <td>20181227</td>\n",
       "      <td>12</td>\n",
       "      <td>-18</td>\n",
       "      <td>47</td>\n",
       "    </tr>\n",
       "    <tr>\n",
       "      <th>331312</th>\n",
       "      <td>391</td>\n",
       "      <td>20181228</td>\n",
       "      <td>7</td>\n",
       "      <td>-29</td>\n",
       "      <td>30</td>\n",
       "    </tr>\n",
       "    <tr>\n",
       "      <th>331313</th>\n",
       "      <td>391</td>\n",
       "      <td>20181229</td>\n",
       "      <td>59</td>\n",
       "      <td>25</td>\n",
       "      <td>92</td>\n",
       "    </tr>\n",
       "    <tr>\n",
       "      <th>331314</th>\n",
       "      <td>391</td>\n",
       "      <td>20181230</td>\n",
       "      <td>78</td>\n",
       "      <td>52</td>\n",
       "      <td>87</td>\n",
       "    </tr>\n",
       "    <tr>\n",
       "      <th>331315</th>\n",
       "      <td>391</td>\n",
       "      <td>20181231</td>\n",
       "      <td>89</td>\n",
       "      <td>74</td>\n",
       "      <td>97</td>\n",
       "    </tr>\n",
       "  </tbody>\n",
       "</table>\n",
       "<p>331316 rows × 5 columns</p>\n",
       "</div>"
      ],
      "text/plain": [
       "        station      date  Tmean   Tmin   Tmax\n",
       "0           209  20010130                     \n",
       "1           209  20010131                     \n",
       "2           209  20010201                     \n",
       "3           209  20010202                     \n",
       "4           209  20010203                     \n",
       "...         ...       ...    ...    ...    ...\n",
       "331311      391  20181227     12    -18     47\n",
       "331312      391  20181228      7    -29     30\n",
       "331313      391  20181229     59     25     92\n",
       "331314      391  20181230     78     52     87\n",
       "331315      391  20181231     89     74     97\n",
       "\n",
       "[331316 rows x 5 columns]"
      ]
     },
     "execution_count": 3,
     "metadata": {},
     "output_type": "execute_result"
    }
   ],
   "source": [
    "# Read in the data\n",
    "knmi_data = pd.read_csv(Path(data_dir + \"KNMI_20181231.txt.tsv\"), comment=\"#\", header = None, low_memory = False)\n",
    "\n",
    "# Remove leading white spaces from the columns names\n",
    "# knmi_data.columns = knmi_data.columns.str.lstrip()\n",
    "\n",
    "# Rename the columns\n",
    "knmi_data.rename(columns={0: \"station\",\n",
    "                         1:\"date\",\n",
    "                         2: \"Tmean\",\n",
    "                         3: \"Tmin\",\n",
    "                         4: \"Tmax\"}, inplace = True)\n",
    "\n",
    "# Only keep interesting columns\n",
    "cols_to_keep = [\"station\", \"date\", \"Tmean\", \"Tmin\", \"Tmax\"]\n",
    "knmi_data = knmi_data[cols_to_keep]\n",
    "\n",
    "# Get data from station 270\n",
    "data_270 = knmi_data[knmi_data[\"station\"] == 270]\n",
    "data_270.head()\n",
    "knmi_data"
   ]
  },
  {
   "cell_type": "raw",
   "metadata": {},
   "source": [
    "        station      Date  Tmean   Tmin   Tmax\n",
    "245205      270  19510101      0    -40     24\n",
    "245206      270  19510102      9     -5     19\n",
    "245207      270  19510103      5     -8     17\n",
    "245208      270  19510104      5    -15     17\n",
    "245209      270  19510105     26      6     46"
   ]
  },
  {
   "cell_type": "markdown",
   "metadata": {},
   "source": [
    "---"
   ]
  },
  {
   "cell_type": "markdown",
   "metadata": {},
   "source": [
    "<a name='1'></a>\n",
    "## Part 2: Clean the data"
   ]
  },
  {
   "cell_type": "markdown",
   "metadata": {},
   "source": [
    "The data ia not clean. There are empty cells in the dataframe which needs to be replaced with NaN's and the temperature is in centidegrees which needs to be transformed into degrees. The date field needs a datetime format. For visualization convience we would like to remove the leap year. Conduct the cleaning."
   ]
  },
  {
   "cell_type": "code",
   "execution_count": 4,
   "metadata": {},
   "outputs": [
    {
     "name": "stdout",
     "output_type": "stream",
     "text": [
      "<class 'pandas.core.frame.DataFrame'>\n",
      "RangeIndex: 331316 entries, 0 to 331315\n",
      "Data columns (total 5 columns):\n",
      " #   Column   Non-Null Count   Dtype \n",
      "---  ------   --------------   ----- \n",
      " 0   station  331316 non-null  int64 \n",
      " 1   date     331316 non-null  int64 \n",
      " 2   Tmean    331316 non-null  object\n",
      " 3   Tmin     331316 non-null  object\n",
      " 4   Tmax     331316 non-null  object\n",
      "dtypes: int64(2), object(3)\n",
      "memory usage: 12.6+ MB\n"
     ]
    }
   ],
   "source": [
    "\n",
    "# knmi_data[['Tmean', 'Tmin', 'Tmax']] = knmi.[['Tmean', 'Tmin', 'Tmax']].map(lambda x:x/10)\n",
    "# knmi_data[['Tmean', 'Tmin', 'Tmax']].applymap(lambda x:x/10)\n",
    "knmi_data.info()"
   ]
  },
  {
   "cell_type": "code",
   "execution_count": 5,
   "metadata": {},
   "outputs": [
    {
     "data": {
      "text/html": [
       "<div>\n",
       "<style scoped>\n",
       "    .dataframe tbody tr th:only-of-type {\n",
       "        vertical-align: middle;\n",
       "    }\n",
       "\n",
       "    .dataframe tbody tr th {\n",
       "        vertical-align: top;\n",
       "    }\n",
       "\n",
       "    .dataframe thead th {\n",
       "        text-align: right;\n",
       "    }\n",
       "</style>\n",
       "<table border=\"1\" class=\"dataframe\">\n",
       "  <thead>\n",
       "    <tr style=\"text-align: right;\">\n",
       "      <th></th>\n",
       "      <th>station</th>\n",
       "      <th>date</th>\n",
       "      <th>Tmean</th>\n",
       "      <th>Tmin</th>\n",
       "      <th>Tmax</th>\n",
       "    </tr>\n",
       "  </thead>\n",
       "  <tbody>\n",
       "    <tr>\n",
       "      <th>0</th>\n",
       "      <td>209</td>\n",
       "      <td>2001-01-30</td>\n",
       "      <td>NaN</td>\n",
       "      <td>NaN</td>\n",
       "      <td>NaN</td>\n",
       "    </tr>\n",
       "    <tr>\n",
       "      <th>1</th>\n",
       "      <td>209</td>\n",
       "      <td>2001-01-31</td>\n",
       "      <td>NaN</td>\n",
       "      <td>NaN</td>\n",
       "      <td>NaN</td>\n",
       "    </tr>\n",
       "    <tr>\n",
       "      <th>2</th>\n",
       "      <td>209</td>\n",
       "      <td>2001-02-01</td>\n",
       "      <td>NaN</td>\n",
       "      <td>NaN</td>\n",
       "      <td>NaN</td>\n",
       "    </tr>\n",
       "    <tr>\n",
       "      <th>3</th>\n",
       "      <td>209</td>\n",
       "      <td>2001-02-02</td>\n",
       "      <td>NaN</td>\n",
       "      <td>NaN</td>\n",
       "      <td>NaN</td>\n",
       "    </tr>\n",
       "    <tr>\n",
       "      <th>4</th>\n",
       "      <td>209</td>\n",
       "      <td>2001-02-03</td>\n",
       "      <td>NaN</td>\n",
       "      <td>NaN</td>\n",
       "      <td>NaN</td>\n",
       "    </tr>\n",
       "    <tr>\n",
       "      <th>...</th>\n",
       "      <td>...</td>\n",
       "      <td>...</td>\n",
       "      <td>...</td>\n",
       "      <td>...</td>\n",
       "      <td>...</td>\n",
       "    </tr>\n",
       "    <tr>\n",
       "      <th>331311</th>\n",
       "      <td>391</td>\n",
       "      <td>2018-12-27</td>\n",
       "      <td>1.2</td>\n",
       "      <td>-1.8</td>\n",
       "      <td>4.7</td>\n",
       "    </tr>\n",
       "    <tr>\n",
       "      <th>331312</th>\n",
       "      <td>391</td>\n",
       "      <td>2018-12-28</td>\n",
       "      <td>0.7</td>\n",
       "      <td>-2.9</td>\n",
       "      <td>3.0</td>\n",
       "    </tr>\n",
       "    <tr>\n",
       "      <th>331313</th>\n",
       "      <td>391</td>\n",
       "      <td>2018-12-29</td>\n",
       "      <td>5.9</td>\n",
       "      <td>2.5</td>\n",
       "      <td>9.2</td>\n",
       "    </tr>\n",
       "    <tr>\n",
       "      <th>331314</th>\n",
       "      <td>391</td>\n",
       "      <td>2018-12-30</td>\n",
       "      <td>7.8</td>\n",
       "      <td>5.2</td>\n",
       "      <td>8.7</td>\n",
       "    </tr>\n",
       "    <tr>\n",
       "      <th>331315</th>\n",
       "      <td>391</td>\n",
       "      <td>2018-12-31</td>\n",
       "      <td>8.9</td>\n",
       "      <td>7.4</td>\n",
       "      <td>9.7</td>\n",
       "    </tr>\n",
       "  </tbody>\n",
       "</table>\n",
       "<p>331078 rows × 5 columns</p>\n",
       "</div>"
      ],
      "text/plain": [
       "        station       date  Tmean  Tmin  Tmax\n",
       "0           209 2001-01-30    NaN   NaN   NaN\n",
       "1           209 2001-01-31    NaN   NaN   NaN\n",
       "2           209 2001-02-01    NaN   NaN   NaN\n",
       "3           209 2001-02-02    NaN   NaN   NaN\n",
       "4           209 2001-02-03    NaN   NaN   NaN\n",
       "...         ...        ...    ...   ...   ...\n",
       "331311      391 2018-12-27    1.2  -1.8   4.7\n",
       "331312      391 2018-12-28    0.7  -2.9   3.0\n",
       "331313      391 2018-12-29    5.9   2.5   9.2\n",
       "331314      391 2018-12-30    7.8   5.2   8.7\n",
       "331315      391 2018-12-31    8.9   7.4   9.7\n",
       "\n",
       "[331078 rows x 5 columns]"
      ]
     },
     "execution_count": 5,
     "metadata": {},
     "output_type": "execute_result"
    }
   ],
   "source": [
    "try:\n",
    "    # Repalce the empty cells with NaN values\n",
    "    knmi_data = knmi_data.replace(r'^\\s*$', np.NaN, regex=True)\n",
    "\n",
    "    # Change data format\n",
    "    \n",
    "    # Station\n",
    "    knmi_data.station = knmi_data.station.astype(\"int64\")\n",
    "    \n",
    "    # Date\n",
    "#     knmi_data.date = knmi_data.date.apply(lambda a: \"{}-{}-{}\".format(str(int(a))[0:4],str(int(a))[4:6], str(int(a))[6:])) \n",
    "#     knmi_data[\"date\"] = knmi_data[\"date\"].astype(\"datetime64\")\n",
    "    knmi_data[\"date\"]  = pd.to_datetime(knmi_data['date'].astype(str), format='%Y%m%d')\n",
    "    \n",
    "    # Tmean, Tmin, Tmax\n",
    "    knmi_data[[\"Tmean\", \"Tmin\", \"Tmax\"]] = knmi_data[[\"Tmean\", \"Tmin\", \"Tmax\"]].astype(\"float64\")\n",
    "    \n",
    "    def is_leapCheck(s):\n",
    "        \"\"\"\n",
    "        Check if a year in a series of years is a leap year or not.\n",
    "        \n",
    "        :parameters\n",
    "        -----------\n",
    "        s - array like\n",
    "            Years\n",
    "            \n",
    "        :returns\n",
    "        --------\n",
    "        leap - array like\n",
    "            List of booleans, True if a year is a leap year and False if a year is not a leap year.\n",
    "        \"\"\"\n",
    "        # Remove the first part because you only need to remove the leap year.\n",
    "        # leap = (s.dt.year % 4 == 0) & ((s.dt.year % 100 != 0) | (s.dt.year % 400 == 0)) & (s.dt.month == 2) & (s.dt.day == 29)\n",
    "        leap = (s.dt.month == 2) & (s.dt.day == 29)\n",
    "        return leap\n",
    "\n",
    "    # Exclude leap years\n",
    "    knmi_data = knmi_data[~is_leapCheck(knmi_data[\"date\"])]\n",
    "    \n",
    "    # Change the unit of Tmean Tmin and Tmax from centidegrees to degrees\n",
    "    knmi_data[['Tmean', 'Tmin', 'Tmax']] = knmi_data[['Tmean', 'Tmin', 'Tmax']].applymap(lambda x:x/10)\n",
    "    \n",
    "    # Set date as the index\n",
    "    # knmi_data.set_index(\"date\", inplace = True, drop = False)\n",
    "    \n",
    "except Exception as e:\n",
    "    print(f\"Dataframe has already been cleaned. error: {e}\")\n",
    "\n",
    "\n",
    "knmi_data"
   ]
  },
  {
   "cell_type": "code",
   "execution_count": 6,
   "metadata": {},
   "outputs": [
    {
     "data": {
      "text/plain": [
       "station     47\n",
       "date       365\n",
       "Tmean      367\n",
       "Tmin       322\n",
       "Tmax       417\n",
       "dtype: int64"
      ]
     },
     "execution_count": 6,
     "metadata": {},
     "output_type": "execute_result"
    }
   ],
   "source": [
    "knmi_data[knmi_data.date.dt.year == 2018].nunique()"
   ]
  },
  {
   "cell_type": "code",
   "execution_count": 7,
   "metadata": {},
   "outputs": [
    {
     "data": {
      "text/html": [
       "<div>\n",
       "<style scoped>\n",
       "    .dataframe tbody tr th:only-of-type {\n",
       "        vertical-align: middle;\n",
       "    }\n",
       "\n",
       "    .dataframe tbody tr th {\n",
       "        vertical-align: top;\n",
       "    }\n",
       "\n",
       "    .dataframe thead th {\n",
       "        text-align: right;\n",
       "    }\n",
       "</style>\n",
       "<table border=\"1\" class=\"dataframe\">\n",
       "  <thead>\n",
       "    <tr style=\"text-align: right;\">\n",
       "      <th></th>\n",
       "      <th>station</th>\n",
       "      <th>date</th>\n",
       "      <th>Tmean</th>\n",
       "      <th>Tmin</th>\n",
       "      <th>Tmax</th>\n",
       "    </tr>\n",
       "  </thead>\n",
       "  <tbody>\n",
       "    <tr>\n",
       "      <th>97641</th>\n",
       "      <td>270</td>\n",
       "      <td>2000-01-01</td>\n",
       "      <td>4.2</td>\n",
       "      <td>-0.4</td>\n",
       "      <td>7.9</td>\n",
       "    </tr>\n",
       "    <tr>\n",
       "      <th>97642</th>\n",
       "      <td>270</td>\n",
       "      <td>2000-01-02</td>\n",
       "      <td>5.5</td>\n",
       "      <td>3.3</td>\n",
       "      <td>7.4</td>\n",
       "    </tr>\n",
       "    <tr>\n",
       "      <th>97643</th>\n",
       "      <td>270</td>\n",
       "      <td>2000-01-03</td>\n",
       "      <td>7.4</td>\n",
       "      <td>4.9</td>\n",
       "      <td>8.9</td>\n",
       "    </tr>\n",
       "    <tr>\n",
       "      <th>97644</th>\n",
       "      <td>270</td>\n",
       "      <td>2000-01-04</td>\n",
       "      <td>4.6</td>\n",
       "      <td>2.2</td>\n",
       "      <td>7.5</td>\n",
       "    </tr>\n",
       "    <tr>\n",
       "      <th>97645</th>\n",
       "      <td>270</td>\n",
       "      <td>2000-01-05</td>\n",
       "      <td>4.1</td>\n",
       "      <td>1.4</td>\n",
       "      <td>5.6</td>\n",
       "    </tr>\n",
       "    <tr>\n",
       "      <th>...</th>\n",
       "      <td>...</td>\n",
       "      <td>...</td>\n",
       "      <td>...</td>\n",
       "      <td>...</td>\n",
       "      <td>...</td>\n",
       "    </tr>\n",
       "    <tr>\n",
       "      <th>104576</th>\n",
       "      <td>270</td>\n",
       "      <td>2018-12-27</td>\n",
       "      <td>5.7</td>\n",
       "      <td>5.3</td>\n",
       "      <td>6.2</td>\n",
       "    </tr>\n",
       "    <tr>\n",
       "      <th>104577</th>\n",
       "      <td>270</td>\n",
       "      <td>2018-12-28</td>\n",
       "      <td>7.1</td>\n",
       "      <td>5.8</td>\n",
       "      <td>8.1</td>\n",
       "    </tr>\n",
       "    <tr>\n",
       "      <th>104578</th>\n",
       "      <td>270</td>\n",
       "      <td>2018-12-29</td>\n",
       "      <td>8.5</td>\n",
       "      <td>6.9</td>\n",
       "      <td>10.2</td>\n",
       "    </tr>\n",
       "    <tr>\n",
       "      <th>104579</th>\n",
       "      <td>270</td>\n",
       "      <td>2018-12-30</td>\n",
       "      <td>8.0</td>\n",
       "      <td>6.8</td>\n",
       "      <td>9.0</td>\n",
       "    </tr>\n",
       "    <tr>\n",
       "      <th>104580</th>\n",
       "      <td>270</td>\n",
       "      <td>2018-12-31</td>\n",
       "      <td>8.7</td>\n",
       "      <td>8.2</td>\n",
       "      <td>9.7</td>\n",
       "    </tr>\n",
       "  </tbody>\n",
       "</table>\n",
       "<p>6935 rows × 5 columns</p>\n",
       "</div>"
      ],
      "text/plain": [
       "        station       date  Tmean  Tmin  Tmax\n",
       "97641       270 2000-01-01    4.2  -0.4   7.9\n",
       "97642       270 2000-01-02    5.5   3.3   7.4\n",
       "97643       270 2000-01-03    7.4   4.9   8.9\n",
       "97644       270 2000-01-04    4.6   2.2   7.5\n",
       "97645       270 2000-01-05    4.1   1.4   5.6\n",
       "...         ...        ...    ...   ...   ...\n",
       "104576      270 2018-12-27    5.7   5.3   6.2\n",
       "104577      270 2018-12-28    7.1   5.8   8.1\n",
       "104578      270 2018-12-29    8.5   6.9  10.2\n",
       "104579      270 2018-12-30    8.0   6.8   9.0\n",
       "104580      270 2018-12-31    8.7   8.2   9.7\n",
       "\n",
       "[6935 rows x 5 columns]"
      ]
     },
     "execution_count": 7,
     "metadata": {},
     "output_type": "execute_result"
    }
   ],
   "source": [
    "knmi_270 = knmi_data[knmi_data[\"station\"] == 270]\n",
    "knmi_270"
   ]
  },
  {
   "cell_type": "code",
   "execution_count": 8,
   "metadata": {},
   "outputs": [
    {
     "data": {
      "text/plain": [
       "station     47\n",
       "date       365\n",
       "Tmean      367\n",
       "Tmin       322\n",
       "Tmax       417\n",
       "dtype: int64"
      ]
     },
     "execution_count": 8,
     "metadata": {},
     "output_type": "execute_result"
    }
   ],
   "source": [
    "knmi_data[knmi_data.date.dt.year == 2018].nunique()"
   ]
  },
  {
   "cell_type": "code",
   "execution_count": 9,
   "metadata": {
    "scrolled": true
   },
   "outputs": [],
   "source": [
    "#replace cells with spaces to NaN\n",
    "#change data formats\n",
    "#change temperatures to celcius degrees\n",
    "#remove leap year"
   ]
  },
  {
   "cell_type": "markdown",
   "metadata": {},
   "source": [
    "<details>    \n",
    "<summary>\n",
    "    <font size=\"3\" color=\"darkgreen\"><b>Hints</b></font>\n",
    "</summary>\n",
    "<ul><li>pd.to_datetime(df['Date'].astype(str), format='%Y%m%d')</li>\n",
    "    <li>regex for empty cells = `^\\s*$` </li>\n",
    "    <li>remove month == 2 & day == 29</li> \n",
    "</ul>\n",
    "</details>"
   ]
  },
  {
   "cell_type": "code",
   "execution_count": 10,
   "metadata": {},
   "outputs": [
    {
     "name": "stdout",
     "output_type": "stream",
     "text": [
      "<class 'pandas.core.frame.DataFrame'>\n",
      "Int64Index: 331078 entries, 0 to 331315\n",
      "Data columns (total 5 columns):\n",
      " #   Column   Non-Null Count   Dtype         \n",
      "---  ------   --------------   -----         \n",
      " 0   station  331078 non-null  int64         \n",
      " 1   date     331078 non-null  datetime64[ns]\n",
      " 2   Tmean    237394 non-null  float64       \n",
      " 3   Tmin     237395 non-null  float64       \n",
      " 4   Tmax     237395 non-null  float64       \n",
      "dtypes: datetime64[ns](1), float64(3), int64(1)\n",
      "memory usage: 15.2 MB\n"
     ]
    }
   ],
   "source": [
    "#Test your outcome\n",
    "knmi_data.info()"
   ]
  },
  {
   "cell_type": "markdown",
   "metadata": {},
   "source": [
    "### Expected outcome"
   ]
  },
  {
   "cell_type": "raw",
   "metadata": {},
   "source": [
    "DatetimeIndex: 24820 entries, 1951-01-01 to 2018-12-31\n",
    "Data columns (total 5 columns):\n",
    " #   Column   Non-Null Count  Dtype         \n",
    "---  ------   --------------  -----         \n",
    " 0   station  24820 non-null  int64         \n",
    " 1   Date     24820 non-null  datetime64[ns]\n",
    " 2   Tmean    24819 non-null  float64       \n",
    " 3   Tmin     24819 non-null  float64       \n",
    " 4   Tmax     24819 non-null  float64       \n",
    "dtypes: datetime64[ns](1), float64(3), int64(1)\n",
    "memory usage: 1.1 MB"
   ]
  },
  {
   "cell_type": "markdown",
   "metadata": {},
   "source": [
    "---"
   ]
  },
  {
   "cell_type": "markdown",
   "metadata": {},
   "source": [
    "<a name='2'></a>\n",
    "## Part 3: Reform your data\n",
    "\n",
    "First we will split the data in data from 2018 and data before 2018. Best is to split this in two dataframes. \n",
    "Next we need for the non 2018 data the minimum values for each day and the maximum values for each day. So we look for the minimum value out of all january-01 minimum values (regardless the year). Create a dataframe with 365 days containing the ultimate minimum and the ultimate maximum per day. \n"
   ]
  },
  {
   "cell_type": "code",
   "execution_count": 27,
   "metadata": {},
   "outputs": [
    {
     "data": {
      "text/plain": [
       "Month  Day\n",
       "1      1      -5.8\n",
       "       2      -7.5\n",
       "       3     -12.6\n",
       "       4      -6.7\n",
       "       5      -6.2\n",
       "              ... \n",
       "12     27     -6.0\n",
       "       28     -7.4\n",
       "       29     -7.3\n",
       "       30    -10.2\n",
       "       31    -10.6\n",
       "Name: Tmin, Length: 365, dtype: float64"
      ]
     },
     "execution_count": 27,
     "metadata": {},
     "output_type": "execute_result"
    }
   ],
   "source": [
    "# Get the dataframe for all rows that were before 2018\n",
    "before_2018 = knmi_270[knmi_270['date'].dt.year < 2018]\n",
    "\n",
    "# Get the dataframe for all rows that have the year 2018 or higher\n",
    "after_2018 = knmi_270[knmi_270['date'].dt.year >= 2018]\n",
    "\n",
    "b_2018 = before_2018.copy() # create copy from both dfs\n",
    "a_2018 = after_2018.copy()\n",
    "\n",
    "# Create a seperate month and day column\n",
    "b_2018[\"Month\"] = b_2018['date'].dt.month\n",
    "b_2018[\"Day\"] = b_2018['date'].dt.day\n",
    "\n",
    "# Grab the minumum value vor each day across all years\n",
    "min_vals = b_2018.groupby(['Month', 'Day']).Tmin.min()\n",
    "\n",
    "# Another possible solution:\n",
    "# test = b_2018.groupby(['Month', 'Day']).agg({'Tmin': ['min'], \"Tmax\":['max']}).reset_index()\n",
    "# test.columns = [\"Month\", \"Day\", \"Tmin\", \"Tmax\"] # reset the column names to turn it back into a normal DataFrame\n",
    "\n",
    "min_vals"
   ]
  },
  {
   "cell_type": "code",
   "execution_count": 28,
   "metadata": {},
   "outputs": [
    {
     "name": "stdout",
     "output_type": "stream",
     "text": [
      "Month  Day\n",
      "1      1      -5.8\n",
      "       2      -7.5\n",
      "       3     -12.6\n",
      "       4      -6.7\n",
      "       5      -6.2\n",
      "              ... \n",
      "12     27     -6.0\n",
      "       28     -7.4\n",
      "       29     -7.3\n",
      "       30    -10.2\n",
      "       31    -10.6\n",
      "Name: Tmin, Length: 365, dtype: float64\n"
     ]
    }
   ],
   "source": [
    "def month_day(df_multipleyears):\n",
    "    #your code to reform data here\n",
    "    \n",
    "    df_oneyear = df_multipleyears.copy()\n",
    "    \n",
    "    # Create a seperate month and day column\n",
    "    df_oneyear[\"Month\"] = df_oneyear['date'].dt.month\n",
    "    df_oneyear[\"Day\"] = df_oneyear['date'].dt.day\n",
    "    \n",
    "    # Grab the minumum value vor each day across all years\n",
    "    df_groupedbymonthday = b_2018.groupby(['Month', 'Day']).Tmin.min()\n",
    "\n",
    "    print(df_groupedbymonthday)\n",
    "    return df_groupedbymonthday\n",
    "    \n",
    "df_monthday = month_day(before_2018)"
   ]
  },
  {
   "cell_type": "code",
   "execution_count": 29,
   "metadata": {},
   "outputs": [
    {
     "name": "stdout",
     "output_type": "stream",
     "text": [
      "Month  Day\n",
      "1      1      -5.8\n",
      "       2      -7.5\n",
      "       3     -12.6\n",
      "       4      -6.7\n",
      "       5      -6.2\n",
      "              ... \n",
      "12     27     -6.0\n",
      "       28     -7.4\n",
      "       29     -7.3\n",
      "       30    -10.2\n",
      "       31    -10.6\n",
      "Name: Tmin, Length: 365, dtype: float64\n"
     ]
    }
   ],
   "source": [
    "#Test your code\n",
    "def test_reformed(df): \n",
    "    #\n",
    "    df = df[(df.date.dt.year > 2007) & (df.date.dt.year < 2018)]\n",
    "    df_monthday = month_day(df)\n",
    "    \n",
    "    return df_monthday\n",
    "\n",
    "df_monthday = test_reformed(knmi_270)"
   ]
  },
  {
   "cell_type": "markdown",
   "metadata": {},
   "source": [
    "<details>    \n",
    "<summary>\n",
    "    <font size=\"3\" color=\"darkgreen\"><b>Hints</b></font>\n",
    "</summary>\n",
    "<ul><li>use the dt.month and dt.day to groupby</li>\n",
    "</ul>\n",
    "</details>"
   ]
  },
  {
   "cell_type": "markdown",
   "metadata": {},
   "source": [
    "### Expected outcome\n",
    "Note, the layout or names my differ, but the length should be 365 and the minimum values should be the same"
   ]
  },
  {
   "cell_type": "raw",
   "metadata": {},
   "source": [
    "month  day\n",
    "1      1      -5.8\n",
    "       2      -7.5\n",
    "       3     -12.6\n",
    "       4      -4.1\n",
    "       5      -6.0\n",
    "              ... \n",
    "12     27     -4.8\n",
    "       28     -4.2\n",
    "       29     -6.7\n",
    "       30    -10.2\n",
    "       31    -10.6\n",
    "Name: Tmin, Length: 365, dtype: float64"
   ]
  },
  {
   "cell_type": "markdown",
   "metadata": {},
   "source": [
    "---"
   ]
  },
  {
   "cell_type": "markdown",
   "metadata": {},
   "source": [
    "<a name='3'></a>\n",
    "## Part 4: Smooth the data\n",
    "\n",
    "Make a function that takes an array or a dataframe column and returns an array of smoothed data. Explain in words why you choose a certain smoothing algoritm\n"
   ]
  },
  {
   "cell_type": "code",
   "execution_count": null,
   "metadata": {},
   "outputs": [],
   "source": [
    "#your code here\n",
    "#your motivation here\n",
    "# x = df_monthday.index.get_level_values(1)\n",
    "x = np.linspace(1, 365, 365)\n",
    "y = df_monthday.values\n",
    "plt.scatter(x, y)\n",
    "plt.show()"
   ]
  },
  {
   "cell_type": "markdown",
   "metadata": {},
   "source": [
    "---"
   ]
  },
  {
   "cell_type": "markdown",
   "metadata": {},
   "source": [
    "<a name='4'></a>\n",
    "## Part 5: Visualize the data"
   ]
  },
  {
   "cell_type": "markdown",
   "metadata": {},
   "source": [
    "Plot the mean temperature of the year 2018. Create a shaded band with the ultimate minimum values and the ultimate maximum values from the multi-year dataset. Add labels, titles and legends. Use proper ranges. Be creative to make the plot attractive. \n",
    "\n"
   ]
  },
  {
   "cell_type": "markdown",
   "metadata": {},
   "source": [
    "<details>    \n",
    "<summary>\n",
    "    <font size=\"3\" color=\"darkgreen\"><b>Hints</b></font>\n",
    "</summary>\n",
    "<ul><li>use from bokeh.models import Band</li>\n",
    "    <li>use ColumnDataSource to parse data arrays</li>\n",
    "    <li>look for xaxis tick formatters</li>\n",
    "</ul>\n",
    "</details>"
   ]
  },
  {
   "cell_type": "markdown",
   "metadata": {},
   "source": [
    "---"
   ]
  },
  {
   "cell_type": "markdown",
   "metadata": {},
   "source": [
    "<a name='5'></a>\n",
    "## Part 6: Challenge"
   ]
  },
  {
   "cell_type": "markdown",
   "metadata": {},
   "source": [
    "Make a widget in which you can select the year range for the multiyear set. Add this to your layout to make the plot interactive. Add another widget to select or deselect the smoother. Inspiration: https://demo.bokeh.org/weather"
   ]
  },
  {
   "cell_type": "code",
   "execution_count": null,
   "metadata": {},
   "outputs": [],
   "source": []
  }
 ],
 "metadata": {
  "kernelspec": {
   "display_name": "Python 3 (ipykernel)",
   "language": "python",
   "name": "python3"
  },
  "language_info": {
   "codemirror_mode": {
    "name": "ipython",
    "version": 3
   },
   "file_extension": ".py",
   "mimetype": "text/x-python",
   "name": "python",
   "nbconvert_exporter": "python",
   "pygments_lexer": "ipython3",
   "version": "3.9.7"
  }
 },
 "nbformat": 4,
 "nbformat_minor": 2
}
