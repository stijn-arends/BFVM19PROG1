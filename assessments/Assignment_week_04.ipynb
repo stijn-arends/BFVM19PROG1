{
 "cells": [
  {
   "cell_type": "markdown",
   "metadata": {},
   "source": [
    "# Week 04 Assignment weather data\n",
    "\n",
    "Welcome to week four of this course programming 1. You will to organise your data into the required format and apply smoothing. In this assignment we will work with weatherdata from the KNMI. A subset of weatherdata is for you available in the file: `KNMI_20181231.csv`. The data consist of several stations with daily weather data of several years. Your task is to make a plot similar to the plot below.\n",
    "\n",
    "\n",
    "<img src=\"images/weather.png\" alt=\"drawing\" width=\"400\"/>\n",
    "\n",
    "\n",
    "Furthermore the plot needs the following enhancements\n",
    "\n",
    "1. proper titles and ticks\n",
    "2. a slider widget selecting a particular year or all years\n",
    "3. lines need to be smoothed\n",
    "3. legends needs to be added\n",
    "\n",
    "Use your creativity. Consider colors, alpha settings, sizes etc. \n",
    "\n",
    "Learning outcomes\n",
    "\n",
    "- load, inspect and clean a dataset \n",
    "- reformat dataframes\n",
    "- apply smoothing technologies\n",
    "- visualize timeseries data\n",
    "\n",
    "The assignment consists of 6 parts:\n",
    "\n",
    "- [part 1: load the data](#0)\n",
    "- [part 2: clean the data](#1)\n",
    "- [part 3: reformat data](#2)\n",
    "- [part 4: smooth the data](#3)\n",
    "- [part 5: visualize the data](#4)\n",
    "- [part 6: Challenge](#5)\n",
    "\n",
    "Part 1 and 5 are mandatory, part 6 is optional (bonus)\n",
    "To pass the assingnment you need to a score of 60%. \n"
   ]
  },
  {
   "cell_type": "markdown",
   "metadata": {},
   "source": [
    "---"
   ]
  },
  {
   "cell_type": "code",
   "execution_count": 103,
   "metadata": {},
   "outputs": [],
   "source": [
    "# IMPORTS\n",
    "import pandas as pd\n",
    "import numpy as np\n",
    "from pathlib import Path\n",
    "import yaml\n",
    "import matplotlib.pyplot as plt\n",
    "from statsmodels.tsa.seasonal import seasonal_decompose\n",
    "from statsmodels.tsa.api import Holt\n",
    "from statsmodels.tsa.holtwinters import ExponentialSmoothing, SimpleExpSmoothing\n",
    "from statsmodels.tsa.arima_model import ARIMA\n",
    "from statsmodels.tsa.stattools import adfuller"
   ]
  },
  {
   "cell_type": "code",
   "execution_count": 2,
   "metadata": {},
   "outputs": [],
   "source": [
    "def get_config():\n",
    "    with open(\"config.yaml\", 'r') as stream:\n",
    "        config = yaml.safe_load(stream)\n",
    "    return config\n",
    "\n",
    "config = get_config()\n",
    "data_dir = config['datadir']"
   ]
  },
  {
   "cell_type": "markdown",
   "metadata": {},
   "source": [
    "<a name='0'></a>\n",
    "## Part 1: Load the data\n",
    "\n",
    "Either load the dataset `KNMI_20181231.csv` or `KNMI_20181231.txt.tsv`. The dataheaders contain spaces and are not very self explainable. Change this into more readable ones. Select data from station 270. Select only the mean, minimum and maximum temperature. The data should look something like this:\n"
   ]
  },
  {
   "cell_type": "code",
   "execution_count": 3,
   "metadata": {},
   "outputs": [
    {
     "data": {
      "text/html": [
       "<div>\n",
       "<style scoped>\n",
       "    .dataframe tbody tr th:only-of-type {\n",
       "        vertical-align: middle;\n",
       "    }\n",
       "\n",
       "    .dataframe tbody tr th {\n",
       "        vertical-align: top;\n",
       "    }\n",
       "\n",
       "    .dataframe thead th {\n",
       "        text-align: right;\n",
       "    }\n",
       "</style>\n",
       "<table border=\"1\" class=\"dataframe\">\n",
       "  <thead>\n",
       "    <tr style=\"text-align: right;\">\n",
       "      <th></th>\n",
       "      <th>station</th>\n",
       "      <th>date</th>\n",
       "      <th>Tmean</th>\n",
       "      <th>Tmin</th>\n",
       "      <th>Tmax</th>\n",
       "    </tr>\n",
       "  </thead>\n",
       "  <tbody>\n",
       "    <tr>\n",
       "      <th>0</th>\n",
       "      <td>209</td>\n",
       "      <td>20010130</td>\n",
       "      <td></td>\n",
       "      <td></td>\n",
       "      <td></td>\n",
       "    </tr>\n",
       "    <tr>\n",
       "      <th>1</th>\n",
       "      <td>209</td>\n",
       "      <td>20010131</td>\n",
       "      <td></td>\n",
       "      <td></td>\n",
       "      <td></td>\n",
       "    </tr>\n",
       "    <tr>\n",
       "      <th>2</th>\n",
       "      <td>209</td>\n",
       "      <td>20010201</td>\n",
       "      <td></td>\n",
       "      <td></td>\n",
       "      <td></td>\n",
       "    </tr>\n",
       "    <tr>\n",
       "      <th>3</th>\n",
       "      <td>209</td>\n",
       "      <td>20010202</td>\n",
       "      <td></td>\n",
       "      <td></td>\n",
       "      <td></td>\n",
       "    </tr>\n",
       "    <tr>\n",
       "      <th>4</th>\n",
       "      <td>209</td>\n",
       "      <td>20010203</td>\n",
       "      <td></td>\n",
       "      <td></td>\n",
       "      <td></td>\n",
       "    </tr>\n",
       "    <tr>\n",
       "      <th>...</th>\n",
       "      <td>...</td>\n",
       "      <td>...</td>\n",
       "      <td>...</td>\n",
       "      <td>...</td>\n",
       "      <td>...</td>\n",
       "    </tr>\n",
       "    <tr>\n",
       "      <th>331311</th>\n",
       "      <td>391</td>\n",
       "      <td>20181227</td>\n",
       "      <td>12</td>\n",
       "      <td>-18</td>\n",
       "      <td>47</td>\n",
       "    </tr>\n",
       "    <tr>\n",
       "      <th>331312</th>\n",
       "      <td>391</td>\n",
       "      <td>20181228</td>\n",
       "      <td>7</td>\n",
       "      <td>-29</td>\n",
       "      <td>30</td>\n",
       "    </tr>\n",
       "    <tr>\n",
       "      <th>331313</th>\n",
       "      <td>391</td>\n",
       "      <td>20181229</td>\n",
       "      <td>59</td>\n",
       "      <td>25</td>\n",
       "      <td>92</td>\n",
       "    </tr>\n",
       "    <tr>\n",
       "      <th>331314</th>\n",
       "      <td>391</td>\n",
       "      <td>20181230</td>\n",
       "      <td>78</td>\n",
       "      <td>52</td>\n",
       "      <td>87</td>\n",
       "    </tr>\n",
       "    <tr>\n",
       "      <th>331315</th>\n",
       "      <td>391</td>\n",
       "      <td>20181231</td>\n",
       "      <td>89</td>\n",
       "      <td>74</td>\n",
       "      <td>97</td>\n",
       "    </tr>\n",
       "  </tbody>\n",
       "</table>\n",
       "<p>331316 rows × 5 columns</p>\n",
       "</div>"
      ],
      "text/plain": [
       "        station      date  Tmean   Tmin   Tmax\n",
       "0           209  20010130                     \n",
       "1           209  20010131                     \n",
       "2           209  20010201                     \n",
       "3           209  20010202                     \n",
       "4           209  20010203                     \n",
       "...         ...       ...    ...    ...    ...\n",
       "331311      391  20181227     12    -18     47\n",
       "331312      391  20181228      7    -29     30\n",
       "331313      391  20181229     59     25     92\n",
       "331314      391  20181230     78     52     87\n",
       "331315      391  20181231     89     74     97\n",
       "\n",
       "[331316 rows x 5 columns]"
      ]
     },
     "execution_count": 3,
     "metadata": {},
     "output_type": "execute_result"
    }
   ],
   "source": [
    "# Read in the data\n",
    "knmi_data = pd.read_csv(Path(data_dir + \"KNMI_20181231.txt.tsv\"), comment=\"#\", header = None, low_memory = False)\n",
    "\n",
    "# Remove leading white spaces from the columns names\n",
    "# knmi_data.columns = knmi_data.columns.str.lstrip()\n",
    "\n",
    "# Rename the columns\n",
    "knmi_data.rename(columns={0: \"station\",\n",
    "                         1:\"date\",\n",
    "                         2: \"Tmean\",\n",
    "                         3: \"Tmin\",\n",
    "                         4: \"Tmax\"}, inplace = True)\n",
    "\n",
    "# Only keep interesting columns\n",
    "cols_to_keep = [\"station\", \"date\", \"Tmean\", \"Tmin\", \"Tmax\"]\n",
    "knmi_data = knmi_data[cols_to_keep]\n",
    "\n",
    "# Get data from station 270\n",
    "data_270 = knmi_data[knmi_data[\"station\"] == 270]\n",
    "data_270.head()\n",
    "knmi_data"
   ]
  },
  {
   "cell_type": "raw",
   "metadata": {},
   "source": [
    "        station      Date  Tmean   Tmin   Tmax\n",
    "245205      270  19510101      0    -40     24\n",
    "245206      270  19510102      9     -5     19\n",
    "245207      270  19510103      5     -8     17\n",
    "245208      270  19510104      5    -15     17\n",
    "245209      270  19510105     26      6     46"
   ]
  },
  {
   "cell_type": "markdown",
   "metadata": {},
   "source": [
    "---"
   ]
  },
  {
   "cell_type": "markdown",
   "metadata": {},
   "source": [
    "<a name='1'></a>\n",
    "## Part 2: Clean the data"
   ]
  },
  {
   "cell_type": "markdown",
   "metadata": {},
   "source": [
    "The data ia not clean. There are empty cells in the dataframe which needs to be replaced with NaN's and the temperature is in centidegrees which needs to be transformed into degrees. The date field needs a datetime format. For visualization convience we would like to remove the leap year. Conduct the cleaning."
   ]
  },
  {
   "cell_type": "code",
   "execution_count": 4,
   "metadata": {},
   "outputs": [
    {
     "name": "stdout",
     "output_type": "stream",
     "text": [
      "<class 'pandas.core.frame.DataFrame'>\n",
      "RangeIndex: 331316 entries, 0 to 331315\n",
      "Data columns (total 5 columns):\n",
      " #   Column   Non-Null Count   Dtype \n",
      "---  ------   --------------   ----- \n",
      " 0   station  331316 non-null  int64 \n",
      " 1   date     331316 non-null  int64 \n",
      " 2   Tmean    331316 non-null  object\n",
      " 3   Tmin     331316 non-null  object\n",
      " 4   Tmax     331316 non-null  object\n",
      "dtypes: int64(2), object(3)\n",
      "memory usage: 12.6+ MB\n"
     ]
    }
   ],
   "source": [
    "\n",
    "# knmi_data[['Tmean', 'Tmin', 'Tmax']] = knmi.[['Tmean', 'Tmin', 'Tmax']].map(lambda x:x/10)\n",
    "# knmi_data[['Tmean', 'Tmin', 'Tmax']].applymap(lambda x:x/10)\n",
    "knmi_data.info()"
   ]
  },
  {
   "cell_type": "code",
   "execution_count": 5,
   "metadata": {},
   "outputs": [
    {
     "data": {
      "text/html": [
       "<div>\n",
       "<style scoped>\n",
       "    .dataframe tbody tr th:only-of-type {\n",
       "        vertical-align: middle;\n",
       "    }\n",
       "\n",
       "    .dataframe tbody tr th {\n",
       "        vertical-align: top;\n",
       "    }\n",
       "\n",
       "    .dataframe thead th {\n",
       "        text-align: right;\n",
       "    }\n",
       "</style>\n",
       "<table border=\"1\" class=\"dataframe\">\n",
       "  <thead>\n",
       "    <tr style=\"text-align: right;\">\n",
       "      <th></th>\n",
       "      <th>station</th>\n",
       "      <th>date</th>\n",
       "      <th>Tmean</th>\n",
       "      <th>Tmin</th>\n",
       "      <th>Tmax</th>\n",
       "    </tr>\n",
       "  </thead>\n",
       "  <tbody>\n",
       "    <tr>\n",
       "      <th>0</th>\n",
       "      <td>209</td>\n",
       "      <td>2001-01-30</td>\n",
       "      <td>NaN</td>\n",
       "      <td>NaN</td>\n",
       "      <td>NaN</td>\n",
       "    </tr>\n",
       "    <tr>\n",
       "      <th>1</th>\n",
       "      <td>209</td>\n",
       "      <td>2001-01-31</td>\n",
       "      <td>NaN</td>\n",
       "      <td>NaN</td>\n",
       "      <td>NaN</td>\n",
       "    </tr>\n",
       "    <tr>\n",
       "      <th>2</th>\n",
       "      <td>209</td>\n",
       "      <td>2001-02-01</td>\n",
       "      <td>NaN</td>\n",
       "      <td>NaN</td>\n",
       "      <td>NaN</td>\n",
       "    </tr>\n",
       "    <tr>\n",
       "      <th>3</th>\n",
       "      <td>209</td>\n",
       "      <td>2001-02-02</td>\n",
       "      <td>NaN</td>\n",
       "      <td>NaN</td>\n",
       "      <td>NaN</td>\n",
       "    </tr>\n",
       "    <tr>\n",
       "      <th>4</th>\n",
       "      <td>209</td>\n",
       "      <td>2001-02-03</td>\n",
       "      <td>NaN</td>\n",
       "      <td>NaN</td>\n",
       "      <td>NaN</td>\n",
       "    </tr>\n",
       "    <tr>\n",
       "      <th>...</th>\n",
       "      <td>...</td>\n",
       "      <td>...</td>\n",
       "      <td>...</td>\n",
       "      <td>...</td>\n",
       "      <td>...</td>\n",
       "    </tr>\n",
       "    <tr>\n",
       "      <th>331311</th>\n",
       "      <td>391</td>\n",
       "      <td>2018-12-27</td>\n",
       "      <td>1.2</td>\n",
       "      <td>-1.8</td>\n",
       "      <td>4.7</td>\n",
       "    </tr>\n",
       "    <tr>\n",
       "      <th>331312</th>\n",
       "      <td>391</td>\n",
       "      <td>2018-12-28</td>\n",
       "      <td>0.7</td>\n",
       "      <td>-2.9</td>\n",
       "      <td>3.0</td>\n",
       "    </tr>\n",
       "    <tr>\n",
       "      <th>331313</th>\n",
       "      <td>391</td>\n",
       "      <td>2018-12-29</td>\n",
       "      <td>5.9</td>\n",
       "      <td>2.5</td>\n",
       "      <td>9.2</td>\n",
       "    </tr>\n",
       "    <tr>\n",
       "      <th>331314</th>\n",
       "      <td>391</td>\n",
       "      <td>2018-12-30</td>\n",
       "      <td>7.8</td>\n",
       "      <td>5.2</td>\n",
       "      <td>8.7</td>\n",
       "    </tr>\n",
       "    <tr>\n",
       "      <th>331315</th>\n",
       "      <td>391</td>\n",
       "      <td>2018-12-31</td>\n",
       "      <td>8.9</td>\n",
       "      <td>7.4</td>\n",
       "      <td>9.7</td>\n",
       "    </tr>\n",
       "  </tbody>\n",
       "</table>\n",
       "<p>331078 rows × 5 columns</p>\n",
       "</div>"
      ],
      "text/plain": [
       "        station       date  Tmean  Tmin  Tmax\n",
       "0           209 2001-01-30    NaN   NaN   NaN\n",
       "1           209 2001-01-31    NaN   NaN   NaN\n",
       "2           209 2001-02-01    NaN   NaN   NaN\n",
       "3           209 2001-02-02    NaN   NaN   NaN\n",
       "4           209 2001-02-03    NaN   NaN   NaN\n",
       "...         ...        ...    ...   ...   ...\n",
       "331311      391 2018-12-27    1.2  -1.8   4.7\n",
       "331312      391 2018-12-28    0.7  -2.9   3.0\n",
       "331313      391 2018-12-29    5.9   2.5   9.2\n",
       "331314      391 2018-12-30    7.8   5.2   8.7\n",
       "331315      391 2018-12-31    8.9   7.4   9.7\n",
       "\n",
       "[331078 rows x 5 columns]"
      ]
     },
     "execution_count": 5,
     "metadata": {},
     "output_type": "execute_result"
    }
   ],
   "source": [
    "try:\n",
    "    # Repalce the empty cells with NaN values\n",
    "    knmi_data = knmi_data.replace(r'^\\s*$', np.NaN, regex=True)\n",
    "\n",
    "    # Change data format\n",
    "    \n",
    "    # Station\n",
    "    knmi_data.station = knmi_data.station.astype(\"int64\")\n",
    "    \n",
    "    # Date\n",
    "#     knmi_data.date = knmi_data.date.apply(lambda a: \"{}-{}-{}\".format(str(int(a))[0:4],str(int(a))[4:6], str(int(a))[6:])) \n",
    "#     knmi_data[\"date\"] = knmi_data[\"date\"].astype(\"datetime64\")\n",
    "    knmi_data[\"date\"]  = pd.to_datetime(knmi_data['date'].astype(str), format='%Y%m%d')\n",
    "    \n",
    "    # Tmean, Tmin, Tmax\n",
    "    knmi_data[[\"Tmean\", \"Tmin\", \"Tmax\"]] = knmi_data[[\"Tmean\", \"Tmin\", \"Tmax\"]].astype(\"float64\")\n",
    "    \n",
    "    def is_leapCheck(s):\n",
    "        \"\"\"\n",
    "        Check if a year in a series of years is a leap year or not.\n",
    "        \n",
    "        :parameters\n",
    "        -----------\n",
    "        s - array like\n",
    "            Years\n",
    "            \n",
    "        :returns\n",
    "        --------\n",
    "        leap - array like\n",
    "            List of booleans, True if a year is a leap year and False if a year is not a leap year.\n",
    "        \"\"\"\n",
    "        # Remove the first part because you only need to remove the leap year.\n",
    "        # leap = (s.dt.year % 4 == 0) & ((s.dt.year % 100 != 0) | (s.dt.year % 400 == 0)) & (s.dt.month == 2) & (s.dt.day == 29)\n",
    "        leap = (s.dt.month == 2) & (s.dt.day == 29)\n",
    "        return leap\n",
    "\n",
    "    # Exclude leap years\n",
    "    knmi_data = knmi_data[~is_leapCheck(knmi_data[\"date\"])]\n",
    "    \n",
    "    # Change the unit of Tmean Tmin and Tmax from centidegrees to degrees\n",
    "    knmi_data[['Tmean', 'Tmin', 'Tmax']] = knmi_data[['Tmean', 'Tmin', 'Tmax']].applymap(lambda x:x/10)\n",
    "    \n",
    "    # Set date as the index\n",
    "    # knmi_data.set_index(\"date\", inplace = True, drop = False)\n",
    "    \n",
    "except Exception as e:\n",
    "    print(f\"Dataframe has already been cleaned. error: {e}\")\n",
    "\n",
    "\n",
    "knmi_data"
   ]
  },
  {
   "cell_type": "code",
   "execution_count": 6,
   "metadata": {},
   "outputs": [
    {
     "data": {
      "text/plain": [
       "station     47\n",
       "date       365\n",
       "Tmean      367\n",
       "Tmin       322\n",
       "Tmax       417\n",
       "dtype: int64"
      ]
     },
     "execution_count": 6,
     "metadata": {},
     "output_type": "execute_result"
    }
   ],
   "source": [
    "knmi_data[knmi_data.date.dt.year == 2018].nunique()"
   ]
  },
  {
   "cell_type": "code",
   "execution_count": 7,
   "metadata": {},
   "outputs": [
    {
     "data": {
      "text/html": [
       "<div>\n",
       "<style scoped>\n",
       "    .dataframe tbody tr th:only-of-type {\n",
       "        vertical-align: middle;\n",
       "    }\n",
       "\n",
       "    .dataframe tbody tr th {\n",
       "        vertical-align: top;\n",
       "    }\n",
       "\n",
       "    .dataframe thead th {\n",
       "        text-align: right;\n",
       "    }\n",
       "</style>\n",
       "<table border=\"1\" class=\"dataframe\">\n",
       "  <thead>\n",
       "    <tr style=\"text-align: right;\">\n",
       "      <th></th>\n",
       "      <th>station</th>\n",
       "      <th>date</th>\n",
       "      <th>Tmean</th>\n",
       "      <th>Tmin</th>\n",
       "      <th>Tmax</th>\n",
       "    </tr>\n",
       "  </thead>\n",
       "  <tbody>\n",
       "    <tr>\n",
       "      <th>97641</th>\n",
       "      <td>270</td>\n",
       "      <td>2000-01-01</td>\n",
       "      <td>4.2</td>\n",
       "      <td>-0.4</td>\n",
       "      <td>7.9</td>\n",
       "    </tr>\n",
       "    <tr>\n",
       "      <th>97642</th>\n",
       "      <td>270</td>\n",
       "      <td>2000-01-02</td>\n",
       "      <td>5.5</td>\n",
       "      <td>3.3</td>\n",
       "      <td>7.4</td>\n",
       "    </tr>\n",
       "    <tr>\n",
       "      <th>97643</th>\n",
       "      <td>270</td>\n",
       "      <td>2000-01-03</td>\n",
       "      <td>7.4</td>\n",
       "      <td>4.9</td>\n",
       "      <td>8.9</td>\n",
       "    </tr>\n",
       "    <tr>\n",
       "      <th>97644</th>\n",
       "      <td>270</td>\n",
       "      <td>2000-01-04</td>\n",
       "      <td>4.6</td>\n",
       "      <td>2.2</td>\n",
       "      <td>7.5</td>\n",
       "    </tr>\n",
       "    <tr>\n",
       "      <th>97645</th>\n",
       "      <td>270</td>\n",
       "      <td>2000-01-05</td>\n",
       "      <td>4.1</td>\n",
       "      <td>1.4</td>\n",
       "      <td>5.6</td>\n",
       "    </tr>\n",
       "    <tr>\n",
       "      <th>...</th>\n",
       "      <td>...</td>\n",
       "      <td>...</td>\n",
       "      <td>...</td>\n",
       "      <td>...</td>\n",
       "      <td>...</td>\n",
       "    </tr>\n",
       "    <tr>\n",
       "      <th>104576</th>\n",
       "      <td>270</td>\n",
       "      <td>2018-12-27</td>\n",
       "      <td>5.7</td>\n",
       "      <td>5.3</td>\n",
       "      <td>6.2</td>\n",
       "    </tr>\n",
       "    <tr>\n",
       "      <th>104577</th>\n",
       "      <td>270</td>\n",
       "      <td>2018-12-28</td>\n",
       "      <td>7.1</td>\n",
       "      <td>5.8</td>\n",
       "      <td>8.1</td>\n",
       "    </tr>\n",
       "    <tr>\n",
       "      <th>104578</th>\n",
       "      <td>270</td>\n",
       "      <td>2018-12-29</td>\n",
       "      <td>8.5</td>\n",
       "      <td>6.9</td>\n",
       "      <td>10.2</td>\n",
       "    </tr>\n",
       "    <tr>\n",
       "      <th>104579</th>\n",
       "      <td>270</td>\n",
       "      <td>2018-12-30</td>\n",
       "      <td>8.0</td>\n",
       "      <td>6.8</td>\n",
       "      <td>9.0</td>\n",
       "    </tr>\n",
       "    <tr>\n",
       "      <th>104580</th>\n",
       "      <td>270</td>\n",
       "      <td>2018-12-31</td>\n",
       "      <td>8.7</td>\n",
       "      <td>8.2</td>\n",
       "      <td>9.7</td>\n",
       "    </tr>\n",
       "  </tbody>\n",
       "</table>\n",
       "<p>6935 rows × 5 columns</p>\n",
       "</div>"
      ],
      "text/plain": [
       "        station       date  Tmean  Tmin  Tmax\n",
       "97641       270 2000-01-01    4.2  -0.4   7.9\n",
       "97642       270 2000-01-02    5.5   3.3   7.4\n",
       "97643       270 2000-01-03    7.4   4.9   8.9\n",
       "97644       270 2000-01-04    4.6   2.2   7.5\n",
       "97645       270 2000-01-05    4.1   1.4   5.6\n",
       "...         ...        ...    ...   ...   ...\n",
       "104576      270 2018-12-27    5.7   5.3   6.2\n",
       "104577      270 2018-12-28    7.1   5.8   8.1\n",
       "104578      270 2018-12-29    8.5   6.9  10.2\n",
       "104579      270 2018-12-30    8.0   6.8   9.0\n",
       "104580      270 2018-12-31    8.7   8.2   9.7\n",
       "\n",
       "[6935 rows x 5 columns]"
      ]
     },
     "execution_count": 7,
     "metadata": {},
     "output_type": "execute_result"
    }
   ],
   "source": [
    "knmi_270 = knmi_data[knmi_data[\"station\"] == 270]\n",
    "knmi_270"
   ]
  },
  {
   "cell_type": "code",
   "execution_count": 8,
   "metadata": {},
   "outputs": [
    {
     "data": {
      "text/plain": [
       "station     47\n",
       "date       365\n",
       "Tmean      367\n",
       "Tmin       322\n",
       "Tmax       417\n",
       "dtype: int64"
      ]
     },
     "execution_count": 8,
     "metadata": {},
     "output_type": "execute_result"
    }
   ],
   "source": [
    "knmi_data[knmi_data.date.dt.year == 2018].nunique()"
   ]
  },
  {
   "cell_type": "code",
   "execution_count": 9,
   "metadata": {
    "scrolled": true
   },
   "outputs": [],
   "source": [
    "#replace cells with spaces to NaN\n",
    "#change data formats\n",
    "#change temperatures to celcius degrees\n",
    "#remove leap year"
   ]
  },
  {
   "cell_type": "markdown",
   "metadata": {},
   "source": [
    "<details>    \n",
    "<summary>\n",
    "    <font size=\"3\" color=\"darkgreen\"><b>Hints</b></font>\n",
    "</summary>\n",
    "<ul><li>pd.to_datetime(df['Date'].astype(str), format='%Y%m%d')</li>\n",
    "    <li>regex for empty cells = `^\\s*$` </li>\n",
    "    <li>remove month == 2 & day == 29</li> \n",
    "</ul>\n",
    "</details>"
   ]
  },
  {
   "cell_type": "code",
   "execution_count": 10,
   "metadata": {},
   "outputs": [
    {
     "name": "stdout",
     "output_type": "stream",
     "text": [
      "<class 'pandas.core.frame.DataFrame'>\n",
      "Int64Index: 331078 entries, 0 to 331315\n",
      "Data columns (total 5 columns):\n",
      " #   Column   Non-Null Count   Dtype         \n",
      "---  ------   --------------   -----         \n",
      " 0   station  331078 non-null  int64         \n",
      " 1   date     331078 non-null  datetime64[ns]\n",
      " 2   Tmean    237394 non-null  float64       \n",
      " 3   Tmin     237395 non-null  float64       \n",
      " 4   Tmax     237395 non-null  float64       \n",
      "dtypes: datetime64[ns](1), float64(3), int64(1)\n",
      "memory usage: 15.2 MB\n"
     ]
    }
   ],
   "source": [
    "#Test your outcome\n",
    "knmi_data.info()"
   ]
  },
  {
   "cell_type": "markdown",
   "metadata": {},
   "source": [
    "### Expected outcome"
   ]
  },
  {
   "cell_type": "raw",
   "metadata": {},
   "source": [
    "DatetimeIndex: 24820 entries, 1951-01-01 to 2018-12-31\n",
    "Data columns (total 5 columns):\n",
    " #   Column   Non-Null Count  Dtype         \n",
    "---  ------   --------------  -----         \n",
    " 0   station  24820 non-null  int64         \n",
    " 1   Date     24820 non-null  datetime64[ns]\n",
    " 2   Tmean    24819 non-null  float64       \n",
    " 3   Tmin     24819 non-null  float64       \n",
    " 4   Tmax     24819 non-null  float64       \n",
    "dtypes: datetime64[ns](1), float64(3), int64(1)\n",
    "memory usage: 1.1 MB"
   ]
  },
  {
   "cell_type": "markdown",
   "metadata": {},
   "source": [
    "---"
   ]
  },
  {
   "cell_type": "markdown",
   "metadata": {},
   "source": [
    "<a name='2'></a>\n",
    "## Part 3: Reform your data\n",
    "\n",
    "First we will split the data in data from 2018 and data before 2018. Best is to split this in two dataframes. \n",
    "Next we need for the non 2018 data the minimum values for each day and the maximum values for each day. So we look for the minimum value out of all january-01 minimum values (regardless the year). Create a dataframe with 365 days containing the ultimate minimum and the ultimate maximum per day. \n"
   ]
  },
  {
   "cell_type": "code",
   "execution_count": 27,
   "metadata": {},
   "outputs": [
    {
     "data": {
      "text/plain": [
       "Month  Day\n",
       "1      1      -5.8\n",
       "       2      -7.5\n",
       "       3     -12.6\n",
       "       4      -6.7\n",
       "       5      -6.2\n",
       "              ... \n",
       "12     27     -6.0\n",
       "       28     -7.4\n",
       "       29     -7.3\n",
       "       30    -10.2\n",
       "       31    -10.6\n",
       "Name: Tmin, Length: 365, dtype: float64"
      ]
     },
     "execution_count": 27,
     "metadata": {},
     "output_type": "execute_result"
    }
   ],
   "source": [
    "# Get the dataframe for all rows that were before 2018\n",
    "before_2018 = knmi_270[knmi_270['date'].dt.year < 2018]\n",
    "\n",
    "# Get the dataframe for all rows that have the year 2018 or higher\n",
    "after_2018 = knmi_270[knmi_270['date'].dt.year >= 2018]\n",
    "\n",
    "b_2018 = before_2018.copy() # create copy from both dfs\n",
    "a_2018 = after_2018.copy()\n",
    "\n",
    "# Create a seperate month and day column\n",
    "b_2018[\"Month\"] = b_2018['date'].dt.month\n",
    "b_2018[\"Day\"] = b_2018['date'].dt.day\n",
    "\n",
    "# Grab the minumum value vor each day across all years\n",
    "min_vals = b_2018.groupby(['Month', 'Day']).Tmin.min()\n",
    "\n",
    "# Another possible solution:\n",
    "# test = b_2018.groupby(['Month', 'Day']).agg({'Tmin': ['min'], \"Tmax\":['max']}).reset_index() # https://www.statology.org/pandas-groupby-aggregate-multiple-columns/\n",
    "# test.columns = [\"Month\", \"Day\", \"Tmin\", \"Tmax\"] # reset the column names to turn it back into a normal DataFrame\n",
    "\n",
    "min_vals"
   ]
  },
  {
   "cell_type": "code",
   "execution_count": 28,
   "metadata": {},
   "outputs": [
    {
     "name": "stdout",
     "output_type": "stream",
     "text": [
      "Month  Day\n",
      "1      1      -5.8\n",
      "       2      -7.5\n",
      "       3     -12.6\n",
      "       4      -6.7\n",
      "       5      -6.2\n",
      "              ... \n",
      "12     27     -6.0\n",
      "       28     -7.4\n",
      "       29     -7.3\n",
      "       30    -10.2\n",
      "       31    -10.6\n",
      "Name: Tmin, Length: 365, dtype: float64\n"
     ]
    }
   ],
   "source": [
    "def month_day(df_multipleyears):\n",
    "    #your code to reform data here\n",
    "    \n",
    "    df_oneyear = df_multipleyears.copy()\n",
    "    \n",
    "    # Create a seperate month and day column\n",
    "    df_oneyear[\"Month\"] = df_oneyear['date'].dt.month\n",
    "    df_oneyear[\"Day\"] = df_oneyear['date'].dt.day\n",
    "    \n",
    "    # Grab the minumum value vor each day across all years\n",
    "    df_groupedbymonthday = b_2018.groupby(['Month', 'Day']).Tmin.min()\n",
    "\n",
    "    print(df_groupedbymonthday)\n",
    "    return df_groupedbymonthday\n",
    "    \n",
    "df_monthday = month_day(before_2018)"
   ]
  },
  {
   "cell_type": "code",
   "execution_count": 29,
   "metadata": {},
   "outputs": [
    {
     "name": "stdout",
     "output_type": "stream",
     "text": [
      "Month  Day\n",
      "1      1      -5.8\n",
      "       2      -7.5\n",
      "       3     -12.6\n",
      "       4      -6.7\n",
      "       5      -6.2\n",
      "              ... \n",
      "12     27     -6.0\n",
      "       28     -7.4\n",
      "       29     -7.3\n",
      "       30    -10.2\n",
      "       31    -10.6\n",
      "Name: Tmin, Length: 365, dtype: float64\n"
     ]
    }
   ],
   "source": [
    "#Test your code\n",
    "def test_reformed(df): \n",
    "    #\n",
    "    df = df[(df.date.dt.year > 2007) & (df.date.dt.year < 2018)]\n",
    "    df_monthday = month_day(df)\n",
    "    \n",
    "    return df_monthday\n",
    "\n",
    "df_monthday = test_reformed(knmi_270)"
   ]
  },
  {
   "cell_type": "markdown",
   "metadata": {},
   "source": [
    "<details>    \n",
    "<summary>\n",
    "    <font size=\"3\" color=\"darkgreen\"><b>Hints</b></font>\n",
    "</summary>\n",
    "<ul><li>use the dt.month and dt.day to groupby</li>\n",
    "</ul>\n",
    "</details>"
   ]
  },
  {
   "cell_type": "markdown",
   "metadata": {},
   "source": [
    "### Expected outcome\n",
    "Note, the layout or names my differ, but the length should be 365 and the minimum values should be the same"
   ]
  },
  {
   "cell_type": "raw",
   "metadata": {},
   "source": [
    "month  day\n",
    "1      1      -5.8\n",
    "       2      -7.5\n",
    "       3     -12.6\n",
    "       4      -4.1\n",
    "       5      -6.0\n",
    "              ... \n",
    "12     27     -4.8\n",
    "       28     -4.2\n",
    "       29     -6.7\n",
    "       30    -10.2\n",
    "       31    -10.6\n",
    "Name: Tmin, Length: 365, dtype: float64"
   ]
  },
  {
   "cell_type": "markdown",
   "metadata": {},
   "source": [
    "---"
   ]
  },
  {
   "cell_type": "markdown",
   "metadata": {},
   "source": [
    "<a name='3'></a>\n",
    "## Part 4: Smooth the data\n",
    "\n",
    "Make a function that takes an array or a dataframe column and returns an array of smoothed data. Explain in words why you choose a certain smoothing algoritm\n"
   ]
  },
  {
   "cell_type": "code",
   "execution_count": null,
   "metadata": {},
   "outputs": [],
   "source": [
    "# Is there a trend? Is it seasonal data?\n",
    "    # * Stationarizing the data\n",
    "    # * Use Augmented Dickey-Fuller Test to check if data is stationary\n",
    "\n",
    "# What method to use?\n",
    "    # * SARIMA\n",
    "    # * Holt-winters Exponentional Smoothing\n",
    "    # * Normal exponentional smoothing\n",
    "    \n",
    "# Useful link for Holt, SARIMA, and Stationarizing the data: \n",
    "    # * https://towardsdatascience.com/time-series-in-python-part-2-dealing-with-seasonal-data-397a65b74051\n",
    "    \n",
    "    \n",
    "# Info:\n",
    "    # * we have: multiplicative seasonal data with a trend (my opinion)\n",
    "    # * How to de-trend time series data: https://www.statology.org/detrend-data/\n",
    "        # * using linear fit: https://towardsdatascience.com/time-series-in-python-part-2-dealing-with-seasonal-data-397a65b74051\n",
    "    \n",
    "    \n",
    "# Determine what forecasting method is best for your data:\n",
    "    # * https://docs.oracle.com/cd/E57185_01/CBPUG/ch03s04s01.html\n",
    "    # Exponential smoothing methods—While the moving averages give equal weights to included values, single exponential smoothing assigns exponentially decreasing weights as the observation get older, a more reasonable approach. When a time series has a trend, double exponential smoothing is useful and is computed by smoothing the series twice."
   ]
  },
  {
   "cell_type": "code",
   "execution_count": 42,
   "metadata": {},
   "outputs": [
    {
     "data": {
      "image/png": "[encoded data removed]",
      "text/plain": [
       "<Figure size 432x288 with 1 Axes>"
      ]
     },
     "metadata": {
      "needs_background": "light"
     },
     "output_type": "display_data"
    }
   ],
   "source": [
    "# It is seasonal data, doesn't look like that there is a trend in the data.\n",
    "\n",
    "# Exponential smoothing: Alpha is weight for most recent observation\n",
    "\n",
    "#your code here\n",
    "#your motivation here\n",
    "# x = df_monthday.index.get_level_values(1)\n",
    "x = np.linspace(1, 365, 365)\n",
    "y = df_monthday.values\n",
    "plt.plot(after_2018.date, after_2018.Tmean)\n",
    "plt.plot(after_2018.date, y, color = \"lightgrey\", linestyle = \"dashed\")\n",
    "plt.show()"
   ]
  },
  {
   "cell_type": "code",
   "execution_count": 149,
   "metadata": {},
   "outputs": [
    {
     "name": "stderr",
     "output_type": "stream",
     "text": [
      "C:\\Users\\stijn\\anaconda3\\envs\\DSLS_prog1\\lib\\site-packages\\statsmodels\\tsa\\base\\tsa_model.py:536: ValueWarning: No frequency information was provided, so inferred frequency D will be used.\n",
      "  warnings.warn('No frequency information was'\n",
      "C:\\Users\\stijn\\anaconda3\\envs\\DSLS_prog1\\lib\\site-packages\\statsmodels\\tsa\\base\\tsa_model.py:536: ValueWarning: No frequency information was provided, so inferred frequency D will be used.\n",
      "  warnings.warn('No frequency information was'\n",
      "C:\\Users\\stijn\\anaconda3\\envs\\DSLS_prog1\\lib\\site-packages\\statsmodels\\tsa\\base\\tsa_model.py:536: ValueWarning: No frequency information was provided, so inferred frequency D will be used.\n",
      "  warnings.warn('No frequency information was'\n"
     ]
    },
    {
     "data": {
      "text/plain": [
       "date\n",
       "2018-01-01    6.000000\n",
       "2018-01-02    5.800000\n",
       "2018-01-03    6.366667\n",
       "2018-01-04    6.600000\n",
       "2018-01-05    6.480000\n",
       "                ...   \n",
       "2018-12-27    6.060000\n",
       "2018-12-28    6.180000\n",
       "2018-12-29    6.940000\n",
       "2018-12-30    7.280000\n",
       "2018-12-31    7.600000\n",
       "Name: Tmean, Length: 365, dtype: float64"
      ]
     },
     "execution_count": 149,
     "metadata": {},
     "output_type": "execute_result"
    }
   ],
   "source": [
    "df = after_2018.copy()\n",
    "df.set_index('date', inplace = True)\n",
    "ts = df[\"Tmean\"]\n",
    "\n",
    "# Smoothing with rolling mean\n",
    "\n",
    "\n",
    "# Smooth the data by Exponential Smoothing\n",
    "fit1 = SimpleExpSmoothing(ts).fit(smoothing_level = 0.2, optimized = False)\n",
    "\n",
    "fit2 = SimpleExpSmoothing(ts).fit(smoothing_level = 0.8, optimized = False)\n",
    "\n",
    "# Exponential smoothing\n",
    "fit3 = ExponentialSmoothing(ts).fit(smoothing_level = 0.2, optimized = True)\n",
    "# ExponentialSmoothing\n",
    "\n",
    "rolling_mean = ts.rolling(window = 5,  min_periods = 1).mean()\n",
    "rolling_mean"
   ]
  },
  {
   "cell_type": "code",
   "execution_count": 118,
   "metadata": {},
   "outputs": [
    {
     "data": {
      "text/plain": [
       "DatetimeIndex(['2018-01-01', '2018-01-02', '2018-01-03', '2018-01-04',\n",
       "               '2018-01-05', '2018-01-06', '2018-01-07', '2018-01-08',\n",
       "               '2018-01-09', '2018-01-10',\n",
       "               ...\n",
       "               '2018-12-22', '2018-12-23', '2018-12-24', '2018-12-25',\n",
       "               '2018-12-26', '2018-12-27', '2018-12-28', '2018-12-29',\n",
       "               '2018-12-30', '2018-12-31'],\n",
       "              dtype='datetime64[ns]', name='date', length=365, freq=None)"
      ]
     },
     "execution_count": 118,
     "metadata": {},
     "output_type": "execute_result"
    }
   ],
   "source": [
    "fit1.season.index\n"
   ]
  },
  {
   "cell_type": "code",
   "execution_count": 109,
   "metadata": {},
   "outputs": [
    {
     "data": {
      "text/html": [
       "\n",
       "    <div class=\"bk-root\">\n",
       "        <a href=\"https://bokeh.org\" target=\"_blank\" class=\"bk-logo bk-logo-small bk-logo-notebook\"></a>\n",
       "        <span id=\"1002\">Loading BokehJS ...</span>\n",
       "    </div>"
      ]
     },
     "metadata": {},
     "output_type": "display_data"
    },
    {
     "data": {
      "application/javascript": [
       "\n",
       "(function(root) {\n",
       "  function now() {\n",
       "    return new Date();\n",
       "  }\n",
       "\n",
       "  var force = true;\n",
       "\n",
       "  if (typeof root._bokeh_onload_callbacks === \"undefined\" || force === true) {\n",
       "    root._bokeh_onload_callbacks = [];\n",
       "    root._bokeh_is_loading = undefined;\n",
       "  }\n",
       "\n",
       "  var JS_MIME_TYPE = 'application/javascript';\n",
       "  var HTML_MIME_TYPE = 'text/html';\n",
       "  var EXEC_MIME_TYPE = 'application/vnd.bokehjs_exec.v0+json';\n",
       "  var CLASS_NAME = 'output_bokeh rendered_html';\n",
       "\n",
       "  /**\n",
       "   * Render data to the DOM node\n",
       "   */\n",
       "  function render(props, node) {\n",
       "    var script = document.createElement(\"script\");\n",
       "    node.appendChild(script);\n",
       "  }\n",
       "\n",
       "  /**\n",
       "   * Handle when an output is cleared or removed\n",
       "   */\n",
       "  function handleClearOutput(event, handle) {\n",
       "    var cell = handle.cell;\n",
       "\n",
       "    var id = cell.output_area._bokeh_element_id;\n",
       "    var server_id = cell.output_area._bokeh_server_id;\n",
       "    // Clean up Bokeh references\n",
       "    if (id != null && id in Bokeh.index) {\n",
       "      Bokeh.index[id].model.document.clear();\n",
       "      delete Bokeh.index[id];\n",
       "    }\n",
       "\n",
       "    if (server_id !== undefined) {\n",
       "      // Clean up Bokeh references\n",
       "      var cmd = \"from bokeh.io.state import curstate; print(curstate().uuid_to_server['\" + server_id + \"'].get_sessions()[0].document.roots[0]._id)\";\n",
       "      cell.notebook.kernel.execute(cmd, {\n",
       "        iopub: {\n",
       "          output: function(msg) {\n",
       "            var id = msg.content.text.trim();\n",
       "            if (id in Bokeh.index) {\n",
       "              Bokeh.index[id].model.document.clear();\n",
       "              delete Bokeh.index[id];\n",
       "            }\n",
       "          }\n",
       "        }\n",
       "      });\n",
       "      // Destroy server and session\n",
       "      var cmd = \"import bokeh.io.notebook as ion; ion.destroy_server('\" + server_id + \"')\";\n",
       "      cell.notebook.kernel.execute(cmd);\n",
       "    }\n",
       "  }\n",
       "\n",
       "  /**\n",
       "   * Handle when a new output is added\n",
       "   */\n",
       "  function handleAddOutput(event, handle) {\n",
       "    var output_area = handle.output_area;\n",
       "    var output = handle.output;\n",
       "\n",
       "    // limit handleAddOutput to display_data with EXEC_MIME_TYPE content only\n",
       "    if ((output.output_type != \"display_data\") || (!Object.prototype.hasOwnProperty.call(output.data, EXEC_MIME_TYPE))) {\n",
       "      return\n",
       "    }\n",
       "\n",
       "    var toinsert = output_area.element.find(\".\" + CLASS_NAME.split(' ')[0]);\n",
       "\n",
       "    if (output.metadata[EXEC_MIME_TYPE][\"id\"] !== undefined) {\n",
       "      toinsert[toinsert.length - 1].firstChild.textContent = output.data[JS_MIME_TYPE];\n",
       "      // store reference to embed id on output_area\n",
       "      output_area._bokeh_element_id = output.metadata[EXEC_MIME_TYPE][\"id\"];\n",
       "    }\n",
       "    if (output.metadata[EXEC_MIME_TYPE][\"server_id\"] !== undefined) {\n",
       "      var bk_div = document.createElement(\"div\");\n",
       "      bk_div.innerHTML = output.data[HTML_MIME_TYPE];\n",
       "      var script_attrs = bk_div.children[0].attributes;\n",
       "      for (var i = 0; i < script_attrs.length; i++) {\n",
       "        toinsert[toinsert.length - 1].firstChild.setAttribute(script_attrs[i].name, script_attrs[i].value);\n",
       "        toinsert[toinsert.length - 1].firstChild.textContent = bk_div.children[0].textContent\n",
       "      }\n",
       "      // store reference to server id on output_area\n",
       "      output_area._bokeh_server_id = output.metadata[EXEC_MIME_TYPE][\"server_id\"];\n",
       "    }\n",
       "  }\n",
       "\n",
       "  function register_renderer(events, OutputArea) {\n",
       "\n",
       "    function append_mime(data, metadata, element) {\n",
       "      // create a DOM node to render to\n",
       "      var toinsert = this.create_output_subarea(\n",
       "        metadata,\n",
       "        CLASS_NAME,\n",
       "        EXEC_MIME_TYPE\n",
       "      );\n",
       "      this.keyboard_manager.register_events(toinsert);\n",
       "      // Render to node\n",
       "      var props = {data: data, metadata: metadata[EXEC_MIME_TYPE]};\n",
       "      render(props, toinsert[toinsert.length - 1]);\n",
       "      element.append(toinsert);\n",
       "      return toinsert\n",
       "    }\n",
       "\n",
       "    /* Handle when an output is cleared or removed */\n",
       "    events.on('clear_output.CodeCell', handleClearOutput);\n",
       "    events.on('delete.Cell', handleClearOutput);\n",
       "\n",
       "    /* Handle when a new output is added */\n",
       "    events.on('output_added.OutputArea', handleAddOutput);\n",
       "\n",
       "    /**\n",
       "     * Register the mime type and append_mime function with output_area\n",
       "     */\n",
       "    OutputArea.prototype.register_mime_type(EXEC_MIME_TYPE, append_mime, {\n",
       "      /* Is output safe? */\n",
       "      safe: true,\n",
       "      /* Index of renderer in `output_area.display_order` */\n",
       "      index: 0\n",
       "    });\n",
       "  }\n",
       "\n",
       "  // register the mime type if in Jupyter Notebook environment and previously unregistered\n",
       "  if (root.Jupyter !== undefined) {\n",
       "    var events = require('base/js/events');\n",
       "    var OutputArea = require('notebook/js/outputarea').OutputArea;\n",
       "\n",
       "    if (OutputArea.prototype.mime_types().indexOf(EXEC_MIME_TYPE) == -1) {\n",
       "      register_renderer(events, OutputArea);\n",
       "    }\n",
       "  }\n",
       "\n",
       "  \n",
       "  if (typeof (root._bokeh_timeout) === \"undefined\" || force === true) {\n",
       "    root._bokeh_timeout = Date.now() + 5000;\n",
       "    root._bokeh_failed_load = false;\n",
       "  }\n",
       "\n",
       "  var NB_LOAD_WARNING = {'data': {'text/html':\n",
       "     \"<div style='background-color: #fdd'>\\n\"+\n",
       "     \"<p>\\n\"+\n",
       "     \"BokehJS does not appear to have successfully loaded. If loading BokehJS from CDN, this \\n\"+\n",
       "     \"may be due to a slow or bad network connection. Possible fixes:\\n\"+\n",
       "     \"</p>\\n\"+\n",
       "     \"<ul>\\n\"+\n",
       "     \"<li>re-rerun `output_notebook()` to attempt to load from CDN again, or</li>\\n\"+\n",
       "     \"<li>use INLINE resources instead, as so:</li>\\n\"+\n",
       "     \"</ul>\\n\"+\n",
       "     \"<code>\\n\"+\n",
       "     \"from bokeh.resources import INLINE\\n\"+\n",
       "     \"output_notebook(resources=INLINE)\\n\"+\n",
       "     \"</code>\\n\"+\n",
       "     \"</div>\"}};\n",
       "\n",
       "  function display_loaded() {\n",
       "    var el = document.getElementById(\"1002\");\n",
       "    if (el != null) {\n",
       "      el.textContent = \"BokehJS is loading...\";\n",
       "    }\n",
       "    if (root.Bokeh !== undefined) {\n",
       "      if (el != null) {\n",
       "        el.textContent = \"BokehJS \" + root.Bokeh.version + \" successfully loaded.\";\n",
       "      }\n",
       "    } else if (Date.now() < root._bokeh_timeout) {\n",
       "      setTimeout(display_loaded, 100)\n",
       "    }\n",
       "  }\n",
       "\n",
       "\n",
       "  function run_callbacks() {\n",
       "    try {\n",
       "      root._bokeh_onload_callbacks.forEach(function(callback) {\n",
       "        if (callback != null)\n",
       "          callback();\n",
       "      });\n",
       "    } finally {\n",
       "      delete root._bokeh_onload_callbacks\n",
       "    }\n",
       "    console.debug(\"Bokeh: all callbacks have finished\");\n",
       "  }\n",
       "\n",
       "  function load_libs(css_urls, js_urls, callback) {\n",
       "    if (css_urls == null) css_urls = [];\n",
       "    if (js_urls == null) js_urls = [];\n",
       "\n",
       "    root._bokeh_onload_callbacks.push(callback);\n",
       "    if (root._bokeh_is_loading > 0) {\n",
       "      console.debug(\"Bokeh: BokehJS is being loaded, scheduling callback at\", now());\n",
       "      return null;\n",
       "    }\n",
       "    if (js_urls == null || js_urls.length === 0) {\n",
       "      run_callbacks();\n",
       "      return null;\n",
       "    }\n",
       "    console.debug(\"Bokeh: BokehJS not loaded, scheduling load and callback at\", now());\n",
       "    root._bokeh_is_loading = css_urls.length + js_urls.length;\n",
       "\n",
       "    function on_load() {\n",
       "      root._bokeh_is_loading--;\n",
       "      if (root._bokeh_is_loading === 0) {\n",
       "        console.debug(\"Bokeh: all BokehJS libraries/stylesheets loaded\");\n",
       "        run_callbacks()\n",
       "      }\n",
       "    }\n",
       "\n",
       "    function on_error(url) {\n",
       "      console.error(\"failed to load \" + url);\n",
       "    }\n",
       "\n",
       "    for (let i = 0; i < css_urls.length; i++) {\n",
       "      const url = css_urls[i];\n",
       "      const element = document.createElement(\"link\");\n",
       "      element.onload = on_load;\n",
       "      element.onerror = on_error.bind(null, url);\n",
       "      element.rel = \"stylesheet\";\n",
       "      element.type = \"text/css\";\n",
       "      element.href = url;\n",
       "      console.debug(\"Bokeh: injecting link tag for BokehJS stylesheet: \", url);\n",
       "      document.body.appendChild(element);\n",
       "    }\n",
       "\n",
       "    const hashes = {\"https://cdn.bokeh.org/bokeh/release/bokeh-2.3.3.min.js\": \"dM3QQsP+wXdHg42wTqW85BjZQdLNNIXqlPw/BgKoExPmTG7ZLML4EGqLMfqHT6ON\", \"https://cdn.bokeh.org/bokeh/release/bokeh-tables-2.3.3.min.js\": \"8x57I4YuIfu8XyZfFo0XVr2WAT8EK4rh/uDe3wF7YuW2FNUSNEpJbsPaB1nJ2fz2\", \"https://cdn.bokeh.org/bokeh/release/bokeh-widgets-2.3.3.min.js\": \"3QTqdz9LyAm2i0sG5XTePsHec3UHWwVsrOL68SYRoAXsafvfAyqtQ+h440+qIBhS\"};\n",
       "\n",
       "    for (let i = 0; i < js_urls.length; i++) {\n",
       "      const url = js_urls[i];\n",
       "      const element = document.createElement('script');\n",
       "      element.onload = on_load;\n",
       "      element.onerror = on_error.bind(null, url);\n",
       "      element.async = false;\n",
       "      element.src = url;\n",
       "      if (url in hashes) {\n",
       "        element.crossOrigin = \"anonymous\";\n",
       "        element.integrity = \"sha384-\" + hashes[url];\n",
       "      }\n",
       "      console.debug(\"Bokeh: injecting script tag for BokehJS library: \", url);\n",
       "      document.head.appendChild(element);\n",
       "    }\n",
       "  };\n",
       "\n",
       "  function inject_raw_css(css) {\n",
       "    const element = document.createElement(\"style\");\n",
       "    element.appendChild(document.createTextNode(css));\n",
       "    document.body.appendChild(element);\n",
       "  }\n",
       "\n",
       "  \n",
       "  var js_urls = [\"https://cdn.bokeh.org/bokeh/release/bokeh-2.3.3.min.js\", \"https://cdn.bokeh.org/bokeh/release/bokeh-widgets-2.3.3.min.js\", \"https://cdn.bokeh.org/bokeh/release/bokeh-tables-2.3.3.min.js\"];\n",
       "  var css_urls = [];\n",
       "  \n",
       "\n",
       "  var inline_js = [\n",
       "    function(Bokeh) {\n",
       "      Bokeh.set_log_level(\"info\");\n",
       "    },\n",
       "    function(Bokeh) {\n",
       "    \n",
       "    \n",
       "    }\n",
       "  ];\n",
       "\n",
       "  function run_inline_js() {\n",
       "    \n",
       "    if (root.Bokeh !== undefined || force === true) {\n",
       "      \n",
       "    for (var i = 0; i < inline_js.length; i++) {\n",
       "      inline_js[i].call(root, root.Bokeh);\n",
       "    }\n",
       "    if (force === true) {\n",
       "        display_loaded();\n",
       "      }} else if (Date.now() < root._bokeh_timeout) {\n",
       "      setTimeout(run_inline_js, 100);\n",
       "    } else if (!root._bokeh_failed_load) {\n",
       "      console.log(\"Bokeh: BokehJS failed to load within specified timeout.\");\n",
       "      root._bokeh_failed_load = true;\n",
       "    } else if (force !== true) {\n",
       "      var cell = $(document.getElementById(\"1002\")).parents('.cell').data().cell;\n",
       "      cell.output_area.append_execute_result(NB_LOAD_WARNING)\n",
       "    }\n",
       "\n",
       "  }\n",
       "\n",
       "  if (root._bokeh_is_loading === 0) {\n",
       "    console.debug(\"Bokeh: BokehJS loaded, going straight to plotting\");\n",
       "    run_inline_js();\n",
       "  } else {\n",
       "    load_libs(css_urls, js_urls, function() {\n",
       "      console.debug(\"Bokeh: BokehJS plotting callback run at\", now());\n",
       "      run_inline_js();\n",
       "    });\n",
       "  }\n",
       "}(window));"
      ],
      "application/vnd.bokehjs_load.v0+json": "\n(function(root) {\n  function now() {\n    return new Date();\n  }\n\n  var force = true;\n\n  if (typeof root._bokeh_onload_callbacks === \"undefined\" || force === true) {\n    root._bokeh_onload_callbacks = [];\n    root._bokeh_is_loading = undefined;\n  }\n\n  \n\n  \n  if (typeof (root._bokeh_timeout) === \"undefined\" || force === true) {\n    root._bokeh_timeout = Date.now() + 5000;\n    root._bokeh_failed_load = false;\n  }\n\n  var NB_LOAD_WARNING = {'data': {'text/html':\n     \"<div style='background-color: #fdd'>\\n\"+\n     \"<p>\\n\"+\n     \"BokehJS does not appear to have successfully loaded. If loading BokehJS from CDN, this \\n\"+\n     \"may be due to a slow or bad network connection. Possible fixes:\\n\"+\n     \"</p>\\n\"+\n     \"<ul>\\n\"+\n     \"<li>re-rerun `output_notebook()` to attempt to load from CDN again, or</li>\\n\"+\n     \"<li>use INLINE resources instead, as so:</li>\\n\"+\n     \"</ul>\\n\"+\n     \"<code>\\n\"+\n     \"from bokeh.resources import INLINE\\n\"+\n     \"output_notebook(resources=INLINE)\\n\"+\n     \"</code>\\n\"+\n     \"</div>\"}};\n\n  function display_loaded() {\n    var el = document.getElementById(\"1002\");\n    if (el != null) {\n      el.textContent = \"BokehJS is loading...\";\n    }\n    if (root.Bokeh !== undefined) {\n      if (el != null) {\n        el.textContent = \"BokehJS \" + root.Bokeh.version + \" successfully loaded.\";\n      }\n    } else if (Date.now() < root._bokeh_timeout) {\n      setTimeout(display_loaded, 100)\n    }\n  }\n\n\n  function run_callbacks() {\n    try {\n      root._bokeh_onload_callbacks.forEach(function(callback) {\n        if (callback != null)\n          callback();\n      });\n    } finally {\n      delete root._bokeh_onload_callbacks\n    }\n    console.debug(\"Bokeh: all callbacks have finished\");\n  }\n\n  function load_libs(css_urls, js_urls, callback) {\n    if (css_urls == null) css_urls = [];\n    if (js_urls == null) js_urls = [];\n\n    root._bokeh_onload_callbacks.push(callback);\n    if (root._bokeh_is_loading > 0) {\n      console.debug(\"Bokeh: BokehJS is being loaded, scheduling callback at\", now());\n      return null;\n    }\n    if (js_urls == null || js_urls.length === 0) {\n      run_callbacks();\n      return null;\n    }\n    console.debug(\"Bokeh: BokehJS not loaded, scheduling load and callback at\", now());\n    root._bokeh_is_loading = css_urls.length + js_urls.length;\n\n    function on_load() {\n      root._bokeh_is_loading--;\n      if (root._bokeh_is_loading === 0) {\n        console.debug(\"Bokeh: all BokehJS libraries/stylesheets loaded\");\n        run_callbacks()\n      }\n    }\n\n    function on_error(url) {\n      console.error(\"failed to load \" + url);\n    }\n\n    for (let i = 0; i < css_urls.length; i++) {\n      const url = css_urls[i];\n      const element = document.createElement(\"link\");\n      element.onload = on_load;\n      element.onerror = on_error.bind(null, url);\n      element.rel = \"stylesheet\";\n      element.type = \"text/css\";\n      element.href = url;\n      console.debug(\"Bokeh: injecting link tag for BokehJS stylesheet: \", url);\n      document.body.appendChild(element);\n    }\n\n    const hashes = {\"https://cdn.bokeh.org/bokeh/release/bokeh-2.3.3.min.js\": \"dM3QQsP+wXdHg42wTqW85BjZQdLNNIXqlPw/BgKoExPmTG7ZLML4EGqLMfqHT6ON\", \"https://cdn.bokeh.org/bokeh/release/bokeh-tables-2.3.3.min.js\": \"8x57I4YuIfu8XyZfFo0XVr2WAT8EK4rh/uDe3wF7YuW2FNUSNEpJbsPaB1nJ2fz2\", \"https://cdn.bokeh.org/bokeh/release/bokeh-widgets-2.3.3.min.js\": \"3QTqdz9LyAm2i0sG5XTePsHec3UHWwVsrOL68SYRoAXsafvfAyqtQ+h440+qIBhS\"};\n\n    for (let i = 0; i < js_urls.length; i++) {\n      const url = js_urls[i];\n      const element = document.createElement('script');\n      element.onload = on_load;\n      element.onerror = on_error.bind(null, url);\n      element.async = false;\n      element.src = url;\n      if (url in hashes) {\n        element.crossOrigin = \"anonymous\";\n        element.integrity = \"sha384-\" + hashes[url];\n      }\n      console.debug(\"Bokeh: injecting script tag for BokehJS library: \", url);\n      document.head.appendChild(element);\n    }\n  };\n\n  function inject_raw_css(css) {\n    const element = document.createElement(\"style\");\n    element.appendChild(document.createTextNode(css));\n    document.body.appendChild(element);\n  }\n\n  \n  var js_urls = [\"https://cdn.bokeh.org/bokeh/release/bokeh-2.3.3.min.js\", \"https://cdn.bokeh.org/bokeh/release/bokeh-widgets-2.3.3.min.js\", \"https://cdn.bokeh.org/bokeh/release/bokeh-tables-2.3.3.min.js\"];\n  var css_urls = [];\n  \n\n  var inline_js = [\n    function(Bokeh) {\n      Bokeh.set_log_level(\"info\");\n    },\n    function(Bokeh) {\n    \n    \n    }\n  ];\n\n  function run_inline_js() {\n    \n    if (root.Bokeh !== undefined || force === true) {\n      \n    for (var i = 0; i < inline_js.length; i++) {\n      inline_js[i].call(root, root.Bokeh);\n    }\n    if (force === true) {\n        display_loaded();\n      }} else if (Date.now() < root._bokeh_timeout) {\n      setTimeout(run_inline_js, 100);\n    } else if (!root._bokeh_failed_load) {\n      console.log(\"Bokeh: BokehJS failed to load within specified timeout.\");\n      root._bokeh_failed_load = true;\n    } else if (force !== true) {\n      var cell = $(document.getElementById(\"1002\")).parents('.cell').data().cell;\n      cell.output_area.append_execute_result(NB_LOAD_WARNING)\n    }\n\n  }\n\n  if (root._bokeh_is_loading === 0) {\n    console.debug(\"Bokeh: BokehJS loaded, going straight to plotting\");\n    run_inline_js();\n  } else {\n    load_libs(css_urls, js_urls, function() {\n      console.debug(\"Bokeh: BokehJS plotting callback run at\", now());\n      run_inline_js();\n    });\n  }\n}(window));"
     },
     "metadata": {},
     "output_type": "display_data"
    }
   ],
   "source": [
    "from bokeh.io import output_notebook\n",
    "from bokeh.plotting import figure, show\n",
    "from bokeh.layouts import gridplot, column\n",
    "from bokeh.io import output_notebook\n",
    "from bokeh.plotting import ColumnDataSource\n",
    "from bokeh.models import DatetimeTickFormatter\n",
    "output_notebook()"
   ]
  },
  {
   "cell_type": "code",
   "execution_count": 151,
   "metadata": {},
   "outputs": [
    {
     "data": {
      "text/html": [
       "\n",
       "\n",
       "\n",
       "\n",
       "\n",
       "\n",
       "  <div class=\"bk-root\" id=\"34270903-0e83-458e-943b-5751f7e64163\" data-root-id=\"6545\"></div>\n"
      ]
     },
     "metadata": {},
     "output_type": "display_data"
    },
    {
     "data": {
      "application/javascript": [
       "(function(root) {\n",
       "  function embed_document(root) {\n",
       "    \n",
       "  var docs_json = {\"977adde7-b922-4225-8094-17de701f96c0\":{\"defs\":[],\"roots\":{\"references\":[{\"attributes\":{\"below\":[{\"id\":\"6556\"}],\"center\":[{\"id\":\"6559\"},{\"id\":\"6563\"},{\"id\":\"6603\"}],\"height\":400,\"left\":[{\"id\":\"6560\"}],\"renderers\":[{\"id\":\"6580\"},{\"id\":\"6608\"},{\"id\":\"6637\"}],\"title\":{\"id\":\"6546\"},\"toolbar\":{\"id\":\"6570\"},\"width\":750,\"x_range\":{\"id\":\"6548\"},\"x_scale\":{\"id\":\"6552\"},\"y_range\":{\"id\":\"6550\"},\"y_scale\":{\"id\":\"6554\"}},\"id\":\"6545\",\"subtype\":\"Figure\",\"type\":\"Plot\"},{\"attributes\":{\"days\":[1,8,15,22]},\"id\":\"6594\",\"type\":\"DaysTicker\"},{\"attributes\":{\"months\":[0,1,2,3,4,5,6,7,8,9,10,11]},\"id\":\"6596\",\"type\":\"MonthsTicker\"},{\"attributes\":{},\"id\":\"6548\",\"type\":\"DataRange1d\"},{\"attributes\":{},\"id\":\"6662\",\"type\":\"UnionRenderers\"},{\"attributes\":{},\"id\":\"6600\",\"type\":\"YearsTicker\"},{\"attributes\":{\"months\":[0,6]},\"id\":\"6599\",\"type\":\"MonthsTicker\"},{\"attributes\":{\"months\":[0,2,4,6,8,10]},\"id\":\"6597\",\"type\":\"MonthsTicker\"},{\"attributes\":{\"axis\":{\"id\":\"6556\"},\"ticker\":null},\"id\":\"6559\",\"type\":\"Grid\"},{\"attributes\":{},\"id\":\"6663\",\"type\":\"Selection\"},{\"attributes\":{\"formatter\":{\"id\":\"6587\"},\"major_label_policy\":{\"id\":\"6586\"},\"ticker\":{\"id\":\"6557\"}},\"id\":\"6556\",\"type\":\"DatetimeAxis\"},{\"attributes\":{\"data\":{\"x\":{\"__ndarray__\":\"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\",\"dtype\":\"float64\",\"order\":\"little\",\"shape\":[365]},\"y\":{\"__ndarray__\":\"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\",\"dtype\":\"float64\",\"order\":\"little\",\"shape\":[365]}},\"selected\":{\"id\":\"6602\"},\"selection_policy\":{\"id\":\"6601\"}},\"id\":\"6577\",\"type\":\"ColumnDataSource\"},{\"attributes\":{\"line_alpha\":0.1,\"line_color\":\"#1f77b4\",\"x\":{\"field\":\"x\"},\"y\":{\"field\":\"y\"}},\"id\":\"6579\",\"type\":\"Line\"},{\"attributes\":{},\"id\":\"6564\",\"type\":\"PanTool\"},{\"attributes\":{\"months\":[0,4,8]},\"id\":\"6598\",\"type\":\"MonthsTicker\"},{\"attributes\":{},\"id\":\"6586\",\"type\":\"AllLabels\"},{\"attributes\":{},\"id\":\"6587\",\"type\":\"DatetimeTickFormatter\"},{\"attributes\":{},\"id\":\"6631\",\"type\":\"UnionRenderers\"},{\"attributes\":{\"formatter\":{\"id\":\"6584\"},\"major_label_policy\":{\"id\":\"6583\"},\"ticker\":{\"id\":\"6561\"}},\"id\":\"6560\",\"type\":\"LinearAxis\"},{\"attributes\":{},\"id\":\"6632\",\"type\":\"Selection\"},{\"attributes\":{},\"id\":\"6550\",\"type\":\"DataRange1d\"},{\"attributes\":{\"line_alpha\":0.9,\"line_dash\":[6,4,2,4],\"line_join\":\"miter\",\"x\":{\"field\":\"x\"},\"y\":{\"field\":\"y\"}},\"id\":\"6606\",\"type\":\"Line\"},{\"attributes\":{\"text\":\"Glucose values over time.\"},\"id\":\"6546\",\"type\":\"Title\"},{\"attributes\":{},\"id\":\"6601\",\"type\":\"UnionRenderers\"},{\"attributes\":{},\"id\":\"6602\",\"type\":\"Selection\"},{\"attributes\":{},\"id\":\"6583\",\"type\":\"AllLabels\"},{\"attributes\":{\"data\":{\"x\":{\"__ndarray__\":\"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\",\"dtype\":\"float64\",\"order\":\"little\",\"shape\":[365]},\"y\":{\"__ndarray__\":\"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\",\"dtype\":\"float64\",\"order\":\"little\",\"shape\":[365]}},\"selected\":{\"id\":\"6663\"},\"selection_policy\":{\"id\":\"6662\"}},\"id\":\"6634\",\"type\":\"ColumnDataSource\"},{\"attributes\":{\"label\":{\"value\":\"Rolling mean\"},\"renderers\":[{\"id\":\"6637\"}]},\"id\":\"6664\",\"type\":\"LegendItem\"},{\"attributes\":{},\"id\":\"6584\",\"type\":\"BasicTickFormatter\"},{\"attributes\":{},\"id\":\"6554\",\"type\":\"LinearScale\"},{\"attributes\":{\"data_source\":{\"id\":\"6634\"},\"glyph\":{\"id\":\"6635\"},\"hover_glyph\":null,\"muted_glyph\":null,\"nonselection_glyph\":{\"id\":\"6636\"},\"view\":{\"id\":\"6638\"}},\"id\":\"6637\",\"type\":\"GlyphRenderer\"},{\"attributes\":{\"line_alpha\":0.1,\"line_dash\":[6,4,2,4],\"line_join\":\"miter\",\"x\":{\"field\":\"x\"},\"y\":{\"field\":\"y\"}},\"id\":\"6607\",\"type\":\"Line\"},{\"attributes\":{\"source\":{\"id\":\"6634\"}},\"id\":\"6638\",\"type\":\"CDSView\"},{\"attributes\":{\"data\":{\"x\":{\"__ndarray__\":\"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\",\"dtype\":\"float64\",\"order\":\"little\",\"shape\":[365]},\"y\":{\"__ndarray__\":\"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\",\"dtype\":\"float64\",\"order\":\"little\",\"shape\":[365]}},\"selected\":{\"id\":\"6632\"},\"selection_policy\":{\"id\":\"6631\"}},\"id\":\"6605\",\"type\":\"ColumnDataSource\"},{\"attributes\":{\"line_alpha\":0.1,\"line_color\":\"green\",\"line_dash\":[6,4,2,4],\"line_join\":\"miter\",\"x\":{\"field\":\"x\"},\"y\":{\"field\":\"y\"}},\"id\":\"6636\",\"type\":\"Line\"},{\"attributes\":{\"dimensions\":\"height\"},\"id\":\"6568\",\"type\":\"ZoomInTool\"},{\"attributes\":{\"label\":{\"value\":\"original\"},\"renderers\":[{\"id\":\"6580\"}]},\"id\":\"6604\",\"type\":\"LegendItem\"},{\"attributes\":{\"source\":{\"id\":\"6577\"}},\"id\":\"6581\",\"type\":\"CDSView\"},{\"attributes\":{\"dimensions\":\"height\"},\"id\":\"6569\",\"type\":\"ZoomOutTool\"},{\"attributes\":{\"label\":{\"value\":\"ExponentialSmoothing alpha = 0.8\"},\"renderers\":[{\"id\":\"6608\"}]},\"id\":\"6633\",\"type\":\"LegendItem\"},{\"attributes\":{},\"id\":\"6566\",\"type\":\"ZoomInTool\"},{\"attributes\":{\"data_source\":{\"id\":\"6577\"},\"glyph\":{\"id\":\"6578\"},\"hover_glyph\":null,\"muted_glyph\":null,\"nonselection_glyph\":{\"id\":\"6579\"},\"view\":{\"id\":\"6581\"}},\"id\":\"6580\",\"type\":\"GlyphRenderer\"},{\"attributes\":{\"days\":[1,15]},\"id\":\"6595\",\"type\":\"DaysTicker\"},{\"attributes\":{},\"id\":\"6567\",\"type\":\"ZoomOutTool\"},{\"attributes\":{\"mantissas\":[1,2,5],\"max_interval\":500.0,\"num_minor_ticks\":0},\"id\":\"6589\",\"type\":\"AdaptiveTicker\"},{\"attributes\":{\"num_minor_ticks\":5,\"tickers\":[{\"id\":\"6589\"},{\"id\":\"6590\"},{\"id\":\"6591\"},{\"id\":\"6592\"},{\"id\":\"6593\"},{\"id\":\"6594\"},{\"id\":\"6595\"},{\"id\":\"6596\"},{\"id\":\"6597\"},{\"id\":\"6598\"},{\"id\":\"6599\"},{\"id\":\"6600\"}]},\"id\":\"6557\",\"type\":\"DatetimeTicker\"},{\"attributes\":{\"line_color\":\"#1f77b4\",\"x\":{\"field\":\"x\"},\"y\":{\"field\":\"y\"}},\"id\":\"6578\",\"type\":\"Line\"},{\"attributes\":{\"line_alpha\":0.9,\"line_color\":\"green\",\"line_dash\":[6,4,2,4],\"line_join\":\"miter\",\"x\":{\"field\":\"x\"},\"y\":{\"field\":\"y\"}},\"id\":\"6635\",\"type\":\"Line\"},{\"attributes\":{\"active_multi\":null,\"tools\":[{\"id\":\"6564\"},{\"id\":\"6565\"},{\"id\":\"6566\"},{\"id\":\"6567\"},{\"id\":\"6568\"},{\"id\":\"6569\"}]},\"id\":\"6570\",\"type\":\"Toolbar\"},{\"attributes\":{\"base\":60,\"mantissas\":[1,2,5,10,15,20,30],\"max_interval\":1800000.0,\"min_interval\":1000.0,\"num_minor_ticks\":0},\"id\":\"6590\",\"type\":\"AdaptiveTicker\"},{\"attributes\":{\"callback\":null},\"id\":\"6565\",\"type\":\"HoverTool\"},{\"attributes\":{\"source\":{\"id\":\"6605\"}},\"id\":\"6609\",\"type\":\"CDSView\"},{\"attributes\":{\"base\":24,\"mantissas\":[1,2,4,6,8,12],\"max_interval\":43200000.0,\"min_interval\":3600000.0,\"num_minor_ticks\":0},\"id\":\"6591\",\"type\":\"AdaptiveTicker\"},{\"attributes\":{},\"id\":\"6552\",\"type\":\"LinearScale\"},{\"attributes\":{\"axis\":{\"id\":\"6560\"},\"dimension\":1,\"ticker\":null},\"id\":\"6563\",\"type\":\"Grid\"},{\"attributes\":{\"days\":[1,2,3,4,5,6,7,8,9,10,11,12,13,14,15,16,17,18,19,20,21,22,23,24,25,26,27,28,29,30,31]},\"id\":\"6592\",\"type\":\"DaysTicker\"},{\"attributes\":{},\"id\":\"6561\",\"type\":\"BasicTicker\"},{\"attributes\":{\"days\":[1,4,7,10,13,16,19,22,25,28]},\"id\":\"6593\",\"type\":\"DaysTicker\"},{\"attributes\":{\"data_source\":{\"id\":\"6605\"},\"glyph\":{\"id\":\"6606\"},\"hover_glyph\":null,\"muted_glyph\":null,\"nonselection_glyph\":{\"id\":\"6607\"},\"view\":{\"id\":\"6609\"}},\"id\":\"6608\",\"type\":\"GlyphRenderer\"},{\"attributes\":{\"items\":[{\"id\":\"6604\"},{\"id\":\"6633\"},{\"id\":\"6664\"}]},\"id\":\"6603\",\"type\":\"Legend\"}],\"root_ids\":[\"6545\"]},\"title\":\"Bokeh Application\",\"version\":\"2.3.3\"}};\n",
       "  var render_items = [{\"docid\":\"977adde7-b922-4225-8094-17de701f96c0\",\"root_ids\":[\"6545\"],\"roots\":{\"6545\":\"34270903-0e83-458e-943b-5751f7e64163\"}}];\n",
       "  root.Bokeh.embed.embed_items_notebook(docs_json, render_items);\n",
       "\n",
       "  }\n",
       "  if (root.Bokeh !== undefined) {\n",
       "    embed_document(root);\n",
       "  } else {\n",
       "    var attempts = 0;\n",
       "    var timer = setInterval(function(root) {\n",
       "      if (root.Bokeh !== undefined) {\n",
       "        clearInterval(timer);\n",
       "        embed_document(root);\n",
       "      } else {\n",
       "        attempts++;\n",
       "        if (attempts > 100) {\n",
       "          clearInterval(timer);\n",
       "          console.log(\"Bokeh: ERROR: Unable to run BokehJS code because BokehJS library is missing\");\n",
       "        }\n",
       "      }\n",
       "    }, 10, root)\n",
       "  }\n",
       "})(window);"
      ],
      "application/vnd.bokehjs_exec.v0+json": ""
     },
     "metadata": {
      "application/vnd.bokehjs_exec.v0+json": {
       "id": "6545"
      }
     },
     "output_type": "display_data"
    }
   ],
   "source": [
    "p = figure(title = \"Glucose values over time.\",plot_width = 750, plot_height = 400, tools=\"pan, hover, zoom_in, zoom_out, yzoom_in, yzoom_out\", x_axis_type='datetime')\n",
    "\n",
    "line = p.line(ts.index, ts.values, legend_label = \"original\")\n",
    "\n",
    "# line2 = p.line(fit1.season.index, fit1.fittedvalues, legend_label = \"SimpleExpSmoothing alpha = 0.2\", color = \"black\", line_alpha = 0.9, line_dash = \"dashdot\", line_join = \"miter\")\n",
    "# line3 = p.line(fit2.season.index, fit2.fittedvalues, legend_label = \"SimpleExpSmoothing alpha = 0.8\", color = \"red\", line_alpha = 0.9, line_dash = \"dashdot\", line_join = \"miter\")\n",
    "line3 = p.line(fit3.season.index, fit3.fittedvalues, legend_label = \"ExponentialSmoothing alpha = 0.8\", color = \"black\", line_alpha = 0.9, line_dash = \"dashdot\", line_join = \"miter\")\n",
    "roll_mean = p.line(rolling_mean.index, rolling_mean.values, legend_label = \"Rolling mean\", color = \"green\", line_alpha = 0.9, line_dash = \"dashdot\", line_join = \"miter\")\n",
    "# points = p.scatter(x, y2, color = \"red\", marker = \"asterisk\", size = 7, legend_label = \"Glucose values\")\n",
    "show(p)"
   ]
  },
  {
   "cell_type": "code",
   "execution_count": 63,
   "metadata": {},
   "outputs": [
    {
     "data": {
      "image/png": "[encoded data removed]",
      "text/plain": [
       "<Figure size 432x288 with 1 Axes>"
      ]
     },
     "metadata": {
      "needs_background": "light"
     },
     "output_type": "display_data"
    }
   ],
   "source": [
    "plt.plot(before_2018.date, before_2018.Tmean)\n",
    "plt.show()"
   ]
  },
  {
   "cell_type": "markdown",
   "metadata": {},
   "source": [
    "### Try to perform Seasonal ARIMA (SARIMA)"
   ]
  },
  {
   "cell_type": "code",
   "execution_count": 78,
   "metadata": {},
   "outputs": [
    {
     "data": {
      "text/plain": [
       "date\n",
       "2018-01-01    6.0\n",
       "2018-01-02    5.6\n",
       "2018-01-03    7.5\n",
       "2018-01-04    7.3\n",
       "2018-01-05    6.0\n",
       "             ... \n",
       "2018-12-27    5.7\n",
       "2018-12-28    7.1\n",
       "2018-12-29    8.5\n",
       "2018-12-30    8.0\n",
       "2018-12-31    8.7\n",
       "Name: Tmean, Length: 365, dtype: float64"
      ]
     },
     "execution_count": 78,
     "metadata": {},
     "output_type": "execute_result"
    }
   ],
   "source": [
    "# LINKS:\n",
    "# part 1: https://towardsdatascience.com/time-series-in-python-exponential-smoothing-and-arima-processes-2c67f2a52788\n",
    "# part 2: https://towardsdatascience.com/time-series-in-python-part-2-dealing-with-seasonal-data-397a65b74051\n",
    "\n",
    "df = after_2018.copy()\n",
    "df.set_index('date', inplace = True)\n",
    "ts = df[\"Tmean\"]\n",
    "ts"
   ]
  },
  {
   "cell_type": "code",
   "execution_count": 79,
   "metadata": {},
   "outputs": [
    {
     "data": {
      "image/png": "[encoded data removed]",
      "text/plain": [
       "<Figure size 432x288 with 1 Axes>"
      ]
     },
     "metadata": {
      "needs_background": "light"
     },
     "output_type": "display_data"
    }
   ],
   "source": [
    "plt.plot(ts.index, ts.values)\n",
    "plt.show()"
   ]
  },
  {
   "cell_type": "code",
   "execution_count": 86,
   "metadata": {},
   "outputs": [
    {
     "name": "stdout",
     "output_type": "stream",
     "text": [
      "-2.0755044079064464\n",
      "0.25447777708993435\n"
     ]
    }
   ],
   "source": [
    "# perform augmented Dickey-Fuller Test\n",
    "# ADF-test - null hypothesis = non-stationary -> if p-value < 0.05\n",
    "adfuller_result = adfuller(ts, autolag='AIC')\n",
    "print(adfuller_result[0])\n",
    "print(adfuller_result[1])"
   ]
  },
  {
   "cell_type": "markdown",
   "metadata": {},
   "source": [
    "---"
   ]
  },
  {
   "cell_type": "markdown",
   "metadata": {},
   "source": [
    "<a name='4'></a>\n",
    "## Part 5: Visualize the data"
   ]
  },
  {
   "cell_type": "markdown",
   "metadata": {},
   "source": [
    "Plot the mean temperature of the year 2018. Create a shaded band with the ultimate minimum values and the ultimate maximum values from the multi-year dataset. Add labels, titles and legends. Use proper ranges. Be creative to make the plot attractive. \n",
    "\n"
   ]
  },
  {
   "cell_type": "markdown",
   "metadata": {},
   "source": [
    "<details>    \n",
    "<summary>\n",
    "    <font size=\"3\" color=\"darkgreen\"><b>Hints</b></font>\n",
    "</summary>\n",
    "<ul><li>use from bokeh.models import Band</li>\n",
    "    <li>use ColumnDataSource to parse data arrays</li>\n",
    "    <li>look for xaxis tick formatters</li>\n",
    "</ul>\n",
    "</details>"
   ]
  },
  {
   "cell_type": "markdown",
   "metadata": {},
   "source": [
    "---"
   ]
  },
  {
   "cell_type": "markdown",
   "metadata": {},
   "source": [
    "<a name='5'></a>\n",
    "## Part 6: Challenge"
   ]
  },
  {
   "cell_type": "markdown",
   "metadata": {},
   "source": [
    "Make a widget in which you can select the year range for the multiyear set. Add this to your layout to make the plot interactive. Add another widget to select or deselect the smoother. Inspiration: https://demo.bokeh.org/weather"
   ]
  },
  {
   "cell_type": "code",
   "execution_count": null,
   "metadata": {},
   "outputs": [],
   "source": []
  }
 ],
 "metadata": {
  "kernelspec": {
   "display_name": "Python 3 (ipykernel)",
   "language": "python",
   "name": "python3"
  },
  "language_info": {
   "codemirror_mode": {
    "name": "ipython",
    "version": 3
   },
   "file_extension": ".py",
   "mimetype": "text/x-python",
   "name": "python",
   "nbconvert_exporter": "python",
   "pygments_lexer": "ipython3",
   "version": "3.9.7"
  }
 },
 "nbformat": 4,
 "nbformat_minor": 2
}
